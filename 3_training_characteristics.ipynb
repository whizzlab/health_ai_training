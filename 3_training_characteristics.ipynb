{
 "cells": [
  {
   "cell_type": "markdown",
   "id": "640e362b-546d-4fb6-92ec-7d6ce637f028",
   "metadata": {},
   "source": [
    "#### Imports"
   ]
  },
  {
   "cell_type": "code",
   "execution_count": 1,
   "id": "f43e4fe2-a195-4618-a34e-56a97657e169",
   "metadata": {},
   "outputs": [],
   "source": [
    "import os\n",
    "import shutil\n",
    "\n",
    "import tensorflow as tf\n",
    "import tensorflow_hub as hub\n",
    "import tensorflow_text as text\n",
    "from official.nlp import optimization  # to create AdamW optimizer\n",
    "\n",
    "tf.get_logger().setLevel('ERROR')"
   ]
  },
  {
   "cell_type": "code",
   "execution_count": 2,
   "id": "2d23efe5-bb10-4c43-807b-1fd60cd820cc",
   "metadata": {},
   "outputs": [],
   "source": [
    "import pandas as pd\n",
    "import numpy as np\n",
    "import matplotlib.pyplot as plt\n",
    "import seaborn as sns\n",
    "import re\n",
    "import nltk\n",
    "import datetime\n",
    "\n",
    "#for BERT\n",
    "import transformers"
   ]
  },
  {
   "cell_type": "code",
   "execution_count": 3,
   "id": "776b6f88-94f2-4f3c-b5bf-cb1d33ab6e08",
   "metadata": {},
   "outputs": [],
   "source": [
    "from sklearn.model_selection import train_test_split"
   ]
  },
  {
   "cell_type": "code",
   "execution_count": 4,
   "id": "365799ab-c96d-47cc-b1a9-c70b50a24533",
   "metadata": {},
   "outputs": [
    {
     "name": "stdout",
     "output_type": "stream",
     "text": [
      "[name: \"/device:CPU:0\"\n",
      "device_type: \"CPU\"\n",
      "memory_limit: 268435456\n",
      "locality {\n",
      "}\n",
      "incarnation: 6161590485515472644\n",
      ", name: \"/device:GPU:0\"\n",
      "device_type: \"GPU\"\n",
      "memory_limit: 22723493888\n",
      "locality {\n",
      "  bus_id: 1\n",
      "  links {\n",
      "  }\n",
      "}\n",
      "incarnation: 11428453672654803780\n",
      "physical_device_desc: \"device: 0, name: NVIDIA GeForce RTX 3090, pci bus id: 0000:01:00.0, compute capability: 8.6\"\n",
      "]\n",
      "2.5.0\n"
     ]
    }
   ],
   "source": [
    "from tensorflow.python.client import device_lib\n",
    "print(device_lib.list_local_devices())\n",
    "print(tf.__version__)"
   ]
  },
  {
   "cell_type": "markdown",
   "id": "d64b73f5-05a3-46f3-a208-ee70ea77fa0b",
   "metadata": {},
   "source": [
    "#### Data loading"
   ]
  },
  {
   "cell_type": "code",
   "execution_count": 5,
   "id": "31821440-3f3b-4132-a3c7-5d0aeabb4e4f",
   "metadata": {},
   "outputs": [],
   "source": [
    "ner_labelled = pd.read_csv('training_data/training_characteristics.csv', index_col=0)"
   ]
  },
  {
   "cell_type": "code",
   "execution_count": 6,
   "id": "37810b79-9e5f-4cc6-adf7-8f759f917020",
   "metadata": {},
   "outputs": [],
   "source": [
    "labels = ner_labelled.columns[1:].to_list()"
   ]
  },
  {
   "cell_type": "code",
   "execution_count": 7,
   "id": "509d1a5d",
   "metadata": {},
   "outputs": [
    {
     "data": {
      "text/plain": [
       "34"
      ]
     },
     "execution_count": 7,
     "metadata": {},
     "output_type": "execute_result"
    }
   ],
   "source": [
    "len(labels)"
   ]
  },
  {
   "cell_type": "markdown",
   "id": "40bbe2da-fb70-44e7-99e2-4e902fc7fc96",
   "metadata": {},
   "source": [
    "#### Train/val/test splits"
   ]
  },
  {
   "cell_type": "code",
   "execution_count": 8,
   "id": "ad9efae5-826f-4b57-92f9-375cfbee6c5b",
   "metadata": {},
   "outputs": [],
   "source": [
    "temp_df, test_df = train_test_split(ner_labelled, test_size=0.15)"
   ]
  },
  {
   "cell_type": "code",
   "execution_count": 9,
   "id": "4745459c-cebc-45bb-b9bd-401541214c2b",
   "metadata": {},
   "outputs": [],
   "source": [
    "train_df, val_df = train_test_split(temp_df, test_size = 0.1)"
   ]
  },
  {
   "cell_type": "markdown",
   "id": "84aa0212-d6cf-4151-bf3f-2187ec23bb4a",
   "metadata": {},
   "source": [
    "#### Create TF datasets"
   ]
  },
  {
   "cell_type": "code",
   "execution_count": 10,
   "id": "39672dac-67e0-47a4-8740-3da98d0a166e",
   "metadata": {},
   "outputs": [],
   "source": [
    "train_ds = tf.data.Dataset.from_tensor_slices((train_df['text'].to_numpy().reshape(-1,1),\n",
    "                                              train_df[labels].to_numpy()))"
   ]
  },
  {
   "cell_type": "code",
   "execution_count": 11,
   "id": "dd355499-6c4f-48b0-aa9e-5cbd7850ced1",
   "metadata": {},
   "outputs": [],
   "source": [
    "val_ds = tf.data.Dataset.from_tensor_slices((val_df['text'].to_numpy().reshape(-1,1),\n",
    "                                             val_df[labels].to_numpy()))"
   ]
  },
  {
   "cell_type": "code",
   "execution_count": 12,
   "id": "c9983ce0-7a66-46c1-8a0c-5bcb3eae4771",
   "metadata": {},
   "outputs": [],
   "source": [
    "test_ds = tf.data.Dataset.from_tensor_slices((test_df['text'].to_numpy().reshape(-1,1),\n",
    "                                              test_df[labels].to_numpy().reshape(-1,1,34)))"
   ]
  },
  {
   "cell_type": "code",
   "execution_count": 13,
   "id": "d4a12473-4337-4606-9435-b525a64e7a8d",
   "metadata": {},
   "outputs": [
    {
     "data": {
      "text/plain": [
       "<TensorSliceDataset shapes: ((1,), (34,)), types: (tf.string, tf.int64)>"
      ]
     },
     "execution_count": 13,
     "metadata": {},
     "output_type": "execute_result"
    }
   ],
   "source": [
    "train_ds"
   ]
  },
  {
   "cell_type": "code",
   "execution_count": 14,
   "id": "483ff4cd-88c8-4064-af40-fa1965d0c251",
   "metadata": {},
   "outputs": [],
   "source": [
    "AUTOTUNE = tf.data.experimental.AUTOTUNE\n",
    "\n",
    "def configure_for_performance(ds):\n",
    "    ds = ds.cache()\n",
    "    ds = ds.shuffle(buffer_size=1000)\n",
    "    ds = ds.batch(batch_size)\n",
    "    ds = ds.prefetch(buffer_size=AUTOTUNE)\n",
    "    return ds"
   ]
  },
  {
   "cell_type": "code",
   "execution_count": 15,
   "id": "77003334-7d19-4423-84e3-4d8a732065da",
   "metadata": {},
   "outputs": [],
   "source": [
    "batch_size = 8\n",
    "\n",
    "train_ds_batched = configure_for_performance(train_ds)\n",
    "val_ds_batched = configure_for_performance(val_ds)\n",
    "test_ds_batched = configure_for_performance(test_ds)"
   ]
  },
  {
   "cell_type": "markdown",
   "id": "b95cafcf-fc28-44ff-a910-e0cafe894860",
   "metadata": {},
   "source": [
    "#### Configure BERT Models for preprocessing and vectorisation"
   ]
  },
  {
   "cell_type": "code",
   "execution_count": 16,
   "id": "6c245440-254e-4185-b2ae-619a92fde704",
   "metadata": {},
   "outputs": [
    {
     "name": "stderr",
     "output_type": "stream",
     "text": [
      "INFO:absl:Using C:\\Users\\JOEZ~1\\AppData\\Local\\Temp\\tfhub_modules to cache modules.\n"
     ]
    }
   ],
   "source": [
    "# BERT model for vectorization\n",
    "\n",
    "bert_vec_model = 'experts_pubmed'\n",
    "\n",
    "map_name_to_handle = {\n",
    "    'experts_pubmed':\n",
    "        'https://tfhub.dev/google/experts/bert/pubmed/2',\n",
    "}\n",
    "\n",
    "tfhub_handle_encoder = map_name_to_handle[bert_vec_model]\n",
    "\n",
    "bert_model = hub.KerasLayer(tfhub_handle_encoder) #wraps this as a Keras layer"
   ]
  },
  {
   "cell_type": "code",
   "execution_count": 17,
   "id": "3a68d496-d44a-4d9c-b5c5-165f472d8a53",
   "metadata": {},
   "outputs": [],
   "source": [
    "#BERT model for pre-processing\n",
    "\n",
    "map_model_to_preprocess = {\n",
    "    'experts_pubmed':\n",
    "        'https://tfhub.dev/tensorflow/bert_en_uncased_preprocess/3',\n",
    "}\n",
    "\n",
    "tfhub_handle_preprocess = map_model_to_preprocess[bert_vec_model]\n",
    "\n",
    "bert_preprocess_model = hub.KerasLayer(tfhub_handle_preprocess) #wraps this as a Keras layer"
   ]
  },
  {
   "cell_type": "code",
   "execution_count": 18,
   "id": "6d8013f8-c865-4a9e-b6fa-016bcab32170",
   "metadata": {},
   "outputs": [
    {
     "name": "stdout",
     "output_type": "stream",
     "text": [
      "BERT model selected: https://tfhub.dev/google/experts/bert/pubmed/2\n",
      "Pre-process model selected: https://tfhub.dev/tensorflow/bert_en_uncased_preprocess/3\n"
     ]
    }
   ],
   "source": [
    "print(f'BERT model selected: {tfhub_handle_encoder}')\n",
    "print(f'Pre-process model selected: {tfhub_handle_preprocess}')"
   ]
  },
  {
   "cell_type": "markdown",
   "id": "e35e37ce-ac03-4617-ab40-65ed58f879d2",
   "metadata": {},
   "source": [
    "#### Construct the multilabel classifier"
   ]
  },
  {
   "cell_type": "code",
   "execution_count": 19,
   "id": "3218f16b-9a0b-40b3-acd2-2b5df6722bfe",
   "metadata": {},
   "outputs": [],
   "source": [
    "def build_classifier_model(seq_length=256):\n",
    "\n",
    "    # Define input layer\n",
    "    text_input = tf.keras.layers.Input(shape=(), dtype=tf.string, name=\"text_input\")\n",
    "    \n",
    "    # Load the pretrained preprocessor\n",
    "    bert_preprocessor = hub.load(tfhub_handle_preprocess)\n",
    "    \n",
    "    # Tokenize the input text\n",
    "    tokenizer = hub.KerasLayer(bert_preprocessor.tokenize, name='tokenizer')\n",
    "    tokenized_inputs = [tokenizer(text_input)]\n",
    "\n",
    "    # Pack the tokenized input for the encoder\n",
    "    bert_pack_inputs = hub.KerasLayer(bert_preprocessor.bert_pack_inputs,\n",
    "                                      arguments=dict(seq_length=seq_length), name='packer')\n",
    "    \n",
    "    encoder_inputs = bert_pack_inputs(tokenized_inputs)\n",
    "    \n",
    "    #BERT encoding layer\n",
    "    encoder = hub.KerasLayer(tfhub_handle_encoder, trainable=True, name='BERT_encoder')\n",
    "    outputs = encoder(encoder_inputs)\n",
    "    \n",
    "    #Output layers\n",
    "    net = outputs['pooled_output']\n",
    "    net = tf.keras.layers.Dropout(0.1)(net)\n",
    "    net = tf.keras.layers.Dense(len(labels), activation='sigmoid', name='classifier')(net)\n",
    "    \n",
    "    return tf.keras.Model(text_input, net)"
   ]
  },
  {
   "cell_type": "code",
   "execution_count": 20,
   "id": "2d8b00a5-8082-4b08-8e7e-ae48145d1db8",
   "metadata": {},
   "outputs": [
    {
     "name": "stdout",
     "output_type": "stream",
     "text": [
      "Model: \"model\"\n",
      "__________________________________________________________________________________________________\n",
      "Layer (type)                    Output Shape         Param #     Connected to                     \n",
      "==================================================================================================\n",
      "text_input (InputLayer)         [(None,)]            0                                            \n",
      "__________________________________________________________________________________________________\n",
      "tokenizer (KerasLayer)          (None, None, None)   0           text_input[0][0]                 \n",
      "__________________________________________________________________________________________________\n",
      "packer (KerasLayer)             {'input_type_ids': ( 0           tokenizer[0][0]                  \n",
      "__________________________________________________________________________________________________\n",
      "BERT_encoder (KerasLayer)       {'pooled_output': (N 109482241   packer[0][0]                     \n",
      "                                                                 packer[0][1]                     \n",
      "                                                                 packer[0][2]                     \n",
      "__________________________________________________________________________________________________\n",
      "dropout (Dropout)               (None, 768)          0           BERT_encoder[0][13]              \n",
      "__________________________________________________________________________________________________\n",
      "classifier (Dense)              (None, 34)           26146       dropout[0][0]                    \n",
      "==================================================================================================\n",
      "Total params: 109,508,387\n",
      "Trainable params: 109,508,386\n",
      "Non-trainable params: 1\n",
      "__________________________________________________________________________________________________\n"
     ]
    }
   ],
   "source": [
    "classifier_model = build_classifier_model()\n",
    "\n",
    "classifier_model.summary()"
   ]
  },
  {
   "cell_type": "code",
   "execution_count": 21,
   "id": "693453aa-057d-4a8c-9056-021fe7b7b630",
   "metadata": {},
   "outputs": [
    {
     "name": "stderr",
     "output_type": "stream",
     "text": [
      "INFO:absl:using Adamw optimizer\n",
      "INFO:absl:gradient_clip_norm=1.000000\n"
     ]
    },
    {
     "name": "stdout",
     "output_type": "stream",
     "text": [
      "3105\n",
      "15525\n",
      "1552\n"
     ]
    }
   ],
   "source": [
    "#loss\n",
    "loss = tf.keras.losses.BinaryCrossentropy(from_logits=False)\n",
    "\n",
    "#metrics\n",
    "metrics = ['BinaryAccuracy']\n",
    "\n",
    "#epochs\n",
    "epochs = 5\n",
    "\n",
    "#optimization\n",
    "steps_per_epoch = tf.data.experimental.cardinality(train_ds_batched).numpy()\n",
    "print(steps_per_epoch)\n",
    "num_train_steps = steps_per_epoch * epochs\n",
    "print(num_train_steps)\n",
    "num_warmup_steps = int(0.1*num_train_steps)\n",
    "print(num_warmup_steps)\n",
    "init_lr = 1e-5\n",
    "\n",
    "optimizer = optimization.create_optimizer(init_lr=init_lr,\n",
    "                                          num_train_steps=num_train_steps,\n",
    "                                          num_warmup_steps=num_warmup_steps,\n",
    "                                          optimizer_type='adamw')\n",
    "\n",
    "\n",
    "# models.optimization dependent on tf-official-models, which depends on pycococo which does not install on windows without workaround:\n",
    "# https://github.com/philferriere/cocoapi\n",
    "# 1) upgrade visual basic to 2019 and install C++ tools in that library\n",
    "# 2) install pycococo using direct from git installation in the github link (may need git library first)\n",
    "# 3) then install tf-official-models using pip\n",
    "\n",
    "##alternative optimizer\n",
    "#optimizer = tf.keras.optimizers.Adam(learning_rate=0.001, beta_1=0.9, beta_2=0.999, epsilon=1e-07, amsgrad=False,\n",
    "#                                        name='Adam'\n",
    "#                                        )"
   ]
  },
  {
   "cell_type": "code",
   "execution_count": 22,
   "id": "06c7570c-64c7-49d9-aee5-43f05c6470f9",
   "metadata": {},
   "outputs": [],
   "source": [
    "classifier_model.compile(optimizer=optimizer,\n",
    "                         loss=loss,\n",
    "                         metrics=metrics)"
   ]
  },
  {
   "cell_type": "code",
   "execution_count": 23,
   "id": "d2e45f57-1478-4528-b224-ffd757e4732c",
   "metadata": {},
   "outputs": [
    {
     "name": "stdout",
     "output_type": "stream",
     "text": [
      "Training model with https://tfhub.dev/google/experts/bert/pubmed/2\n",
      "Epoch 1/5\n",
      "3105/3105 [==============================] - 601s 189ms/step - loss: 0.1188 - binary_accuracy: 0.9556 - val_loss: 0.0311 - val_binary_accuracy: 0.9929\n",
      "Epoch 2/5\n",
      "3105/3105 [==============================] - 597s 192ms/step - loss: 0.0236 - binary_accuracy: 0.9944 - val_loss: 0.0193 - val_binary_accuracy: 0.9953\n",
      "Epoch 3/5\n",
      "3105/3105 [==============================] - 578s 186ms/step - loss: 0.0162 - binary_accuracy: 0.9964 - val_loss: 0.0175 - val_binary_accuracy: 0.9957\n",
      "Epoch 4/5\n",
      "3105/3105 [==============================] - 577s 186ms/step - loss: 0.0132 - binary_accuracy: 0.9971 - val_loss: 0.0165 - val_binary_accuracy: 0.9960\n",
      "Epoch 5/5\n",
      "3105/3105 [==============================] - 574s 185ms/step - loss: 0.0114 - binary_accuracy: 0.9977 - val_loss: 0.0160 - val_binary_accuracy: 0.9961\n"
     ]
    }
   ],
   "source": [
    "print(f'Training model with {tfhub_handle_encoder}')\n",
    "history = classifier_model.fit(x=train_ds_batched,\n",
    "                               validation_data=val_ds_batched,\n",
    "                               epochs=epochs\n",
    "                               )"
   ]
  },
  {
   "cell_type": "code",
   "execution_count": 37,
   "id": "fb654233-363f-4d06-9cb0-dd89152ff4fc",
   "metadata": {},
   "outputs": [
    {
     "name": "stdout",
     "output_type": "stream",
     "text": [
      "dict_keys(['loss', 'binary_accuracy', 'val_loss', 'val_binary_accuracy'])\n"
     ]
    },
    {
     "data": {
      "text/plain": [
       "<matplotlib.legend.Legend at 0x1a20c8fc100>"
      ]
     },
     "execution_count": 37,
     "metadata": {},
     "output_type": "execute_result"
    },
    {
     "data": {
      "image/png": "[encoded data removed]",
      "text/plain": [
       "<Figure size 720x432 with 2 Axes>"
      ]
     },
     "metadata": {
      "needs_background": "light"
     },
     "output_type": "display_data"
    }
   ],
   "source": [
    "history_dict = history.history\n",
    "print(history_dict.keys())\n",
    "\n",
    "acc = history_dict['binary_accuracy']\n",
    "val_acc = history_dict['val_binary_accuracy']\n",
    "loss = history_dict['loss']\n",
    "val_loss = history_dict['val_loss']\n",
    "\n",
    "epochs = range(1, len(acc) + 1)\n",
    "fig = plt.figure(figsize=(10, 6))\n",
    "fig.tight_layout()\n",
    "\n",
    "plt.subplot(2, 1, 1)\n",
    "# \"bo\" is for \"blue dot\"\n",
    "plt.plot(epochs, loss, 'r', label='Training loss')\n",
    "# b is for \"solid blue line\"\n",
    "plt.plot(epochs, val_loss, 'b', label='Validation loss')\n",
    "plt.title('Training and validation loss')\n",
    "# plt.xlabel('Epochs')\n",
    "plt.ylabel('Loss')\n",
    "plt.legend()\n",
    "\n",
    "plt.subplot(2, 1, 2)\n",
    "plt.plot(epochs, acc, 'r', label='Training acc')\n",
    "plt.plot(epochs, val_acc, 'b', label='Validation acc')\n",
    "plt.title('Training and validation accuracy')\n",
    "plt.xlabel('Epochs')\n",
    "plt.ylabel('Accuracy')\n",
    "plt.legend(loc='lower right')"
   ]
  },
  {
   "cell_type": "code",
   "execution_count": 25,
   "id": "cdcce8e3-861c-4e6d-b427-fb5fcdf84706",
   "metadata": {},
   "outputs": [
    {
     "data": {
      "text/plain": [
       "<TensorSliceDataset shapes: ((1,), (1, 34)), types: (tf.string, tf.int64)>"
      ]
     },
     "execution_count": 25,
     "metadata": {},
     "output_type": "execute_result"
    }
   ],
   "source": [
    "test_ds"
   ]
  },
  {
   "cell_type": "code",
   "execution_count": 26,
   "id": "bd8a7f4b-d923-4a3e-8cb0-759316886505",
   "metadata": {},
   "outputs": [
    {
     "name": "stdout",
     "output_type": "stream",
     "text": [
      "4871/4871 [==============================] - 123s 25ms/step - loss: 0.0154 - binary_accuracy: 0.9963\n",
      "Loss: 0.015449981205165386\n",
      "Accuracy: 0.9962809085845947\n"
     ]
    }
   ],
   "source": [
    "##re-test on test_ds\n",
    "\n",
    "loss, accuracy = classifier_model.evaluate(test_ds)\n",
    "\n",
    "print(f'Loss: {loss}')\n",
    "print(f'Accuracy: {accuracy}')"
   ]
  },
  {
   "cell_type": "code",
   "execution_count": 27,
   "id": "c20e4ca3-abbf-473e-87d1-09fd63b51b9f",
   "metadata": {},
   "outputs": [],
   "source": [
    "y_pred = classifier_model.predict(test_df['text'])"
   ]
  },
  {
   "cell_type": "code",
   "execution_count": 28,
   "id": "2f4628f0-10c9-4865-8418-5aeabe29e724",
   "metadata": {},
   "outputs": [],
   "source": [
    "y_pred = np.round(y_pred)"
   ]
  },
  {
   "cell_type": "code",
   "execution_count": 29,
   "id": "0735ab4a-5a9f-45cc-91c8-21704d11fcaa",
   "metadata": {},
   "outputs": [],
   "source": [
    "from sklearn.metrics import classification_report, confusion_matrix, ConfusionMatrixDisplay"
   ]
  },
  {
   "cell_type": "code",
   "execution_count": 30,
   "id": "b575e0a9",
   "metadata": {},
   "outputs": [
    {
     "name": "stderr",
     "output_type": "stream",
     "text": [
      "C:\\Users\\Joe Z\\anaconda3\\envs\\tensorflow\\lib\\site-packages\\sklearn\\metrics\\_classification.py:1248: UndefinedMetricWarning: Precision and F-score are ill-defined and being set to 0.0 in samples with no predicted labels. Use `zero_division` parameter to control this behavior.\n",
      "  _warn_prf(average, modifier, msg_start, len(result))\n",
      "C:\\Users\\Joe Z\\anaconda3\\envs\\tensorflow\\lib\\site-packages\\sklearn\\metrics\\_classification.py:1248: UndefinedMetricWarning: Recall and F-score are ill-defined and being set to 0.0 in samples with no true labels. Use `zero_division` parameter to control this behavior.\n",
      "  _warn_prf(average, modifier, msg_start, len(result))\n"
     ]
    }
   ],
   "source": [
    "report = classification_report(test_df[labels], y_pred, output_dict=True)"
   ]
  },
  {
   "cell_type": "code",
   "execution_count": 31,
   "id": "0a2b3b27",
   "metadata": {
    "scrolled": true
   },
   "outputs": [
    {
     "data": {
      "text/plain": [
       "['feat_xr',\n",
       " 'feat_ct',\n",
       " 'feat_eeg',\n",
       " 'feat_ecg',\n",
       " 'feat_histo',\n",
       " 'feat_mamm',\n",
       " 'feat_endoscop',\n",
       " 'feat_ehr',\n",
       " 'spec_onc',\n",
       " 'spec_psych',\n",
       " 'spec_cvs',\n",
       " 'spec_neuro',\n",
       " 'spec_resp',\n",
       " 'subspec_icu',\n",
       " 'subspec_sepsis',\n",
       " 'subspec_cov19',\n",
       " 'subspec_dermca',\n",
       " 'subspec_gynonc',\n",
       " 'subspec_lungca',\n",
       " 'subspec_brainca',\n",
       " 'subspec_gica',\n",
       " 'subspec_hepca',\n",
       " 'subspec_prosca',\n",
       " 'subspec_breast',\n",
       " 'subspec_frac',\n",
       " 'subspec_epilep',\n",
       " 'subspec_cva',\n",
       " 'subspec_alzh',\n",
       " 'subspec_ihd',\n",
       " 'subspec_dm',\n",
       " 'spec_eye',\n",
       " 'subspec_ackd',\n",
       " 'spec_paeds',\n",
       " 'subspec_arrhyt',\n",
       " 'micro',\n",
       " 'macro',\n",
       " 'weighted',\n",
       " 'samples']"
      ]
     },
     "execution_count": 31,
     "metadata": {},
     "output_type": "execute_result"
    }
   ],
   "source": [
    "labels.extend(('micro', 'macro', 'weighted', 'samples'))\n",
    "labels"
   ]
  },
  {
   "cell_type": "code",
   "execution_count": 32,
   "id": "69960b68",
   "metadata": {},
   "outputs": [],
   "source": [
    "report_df = pd.DataFrame(report).transpose()"
   ]
  },
  {
   "cell_type": "code",
   "execution_count": 33,
   "id": "eb6b08c1",
   "metadata": {},
   "outputs": [
    {
     "data": {
      "text/html": [
       "<div>\n",
       "<style scoped>\n",
       "    .dataframe tbody tr th:only-of-type {\n",
       "        vertical-align: middle;\n",
       "    }\n",
       "\n",
       "    .dataframe tbody tr th {\n",
       "        vertical-align: top;\n",
       "    }\n",
       "\n",
       "    .dataframe thead th {\n",
       "        text-align: right;\n",
       "    }\n",
       "</style>\n",
       "<table border=\"1\" class=\"dataframe\">\n",
       "  <thead>\n",
       "    <tr style=\"text-align: right;\">\n",
       "      <th></th>\n",
       "      <th>precision</th>\n",
       "      <th>recall</th>\n",
       "      <th>f1-score</th>\n",
       "      <th>support</th>\n",
       "    </tr>\n",
       "  </thead>\n",
       "  <tbody>\n",
       "    <tr>\n",
       "      <th>feat_xr</th>\n",
       "      <td>0.993939</td>\n",
       "      <td>0.993939</td>\n",
       "      <td>0.993939</td>\n",
       "      <td>165.0</td>\n",
       "    </tr>\n",
       "    <tr>\n",
       "      <th>feat_ct</th>\n",
       "      <td>0.958057</td>\n",
       "      <td>0.977477</td>\n",
       "      <td>0.967670</td>\n",
       "      <td>444.0</td>\n",
       "    </tr>\n",
       "    <tr>\n",
       "      <th>feat_eeg</th>\n",
       "      <td>0.981818</td>\n",
       "      <td>0.992647</td>\n",
       "      <td>0.987203</td>\n",
       "      <td>272.0</td>\n",
       "    </tr>\n",
       "    <tr>\n",
       "      <th>feat_ecg</th>\n",
       "      <td>0.956250</td>\n",
       "      <td>0.962264</td>\n",
       "      <td>0.959248</td>\n",
       "      <td>159.0</td>\n",
       "    </tr>\n",
       "    <tr>\n",
       "      <th>feat_histo</th>\n",
       "      <td>0.880503</td>\n",
       "      <td>0.939597</td>\n",
       "      <td>0.909091</td>\n",
       "      <td>298.0</td>\n",
       "    </tr>\n",
       "    <tr>\n",
       "      <th>feat_mamm</th>\n",
       "      <td>1.000000</td>\n",
       "      <td>1.000000</td>\n",
       "      <td>1.000000</td>\n",
       "      <td>74.0</td>\n",
       "    </tr>\n",
       "    <tr>\n",
       "      <th>feat_endoscop</th>\n",
       "      <td>0.987805</td>\n",
       "      <td>0.987805</td>\n",
       "      <td>0.987805</td>\n",
       "      <td>82.0</td>\n",
       "    </tr>\n",
       "    <tr>\n",
       "      <th>feat_ehr</th>\n",
       "      <td>0.944149</td>\n",
       "      <td>0.894207</td>\n",
       "      <td>0.918499</td>\n",
       "      <td>397.0</td>\n",
       "    </tr>\n",
       "    <tr>\n",
       "      <th>spec_onc</th>\n",
       "      <td>0.990028</td>\n",
       "      <td>0.980254</td>\n",
       "      <td>0.985117</td>\n",
       "      <td>1418.0</td>\n",
       "    </tr>\n",
       "    <tr>\n",
       "      <th>spec_psych</th>\n",
       "      <td>0.929348</td>\n",
       "      <td>0.900000</td>\n",
       "      <td>0.914439</td>\n",
       "      <td>380.0</td>\n",
       "    </tr>\n",
       "    <tr>\n",
       "      <th>spec_cvs</th>\n",
       "      <td>0.967742</td>\n",
       "      <td>0.937500</td>\n",
       "      <td>0.952381</td>\n",
       "      <td>480.0</td>\n",
       "    </tr>\n",
       "    <tr>\n",
       "      <th>spec_neuro</th>\n",
       "      <td>0.978464</td>\n",
       "      <td>0.970288</td>\n",
       "      <td>0.974359</td>\n",
       "      <td>1077.0</td>\n",
       "    </tr>\n",
       "    <tr>\n",
       "      <th>spec_resp</th>\n",
       "      <td>0.980892</td>\n",
       "      <td>0.929577</td>\n",
       "      <td>0.954545</td>\n",
       "      <td>497.0</td>\n",
       "    </tr>\n",
       "    <tr>\n",
       "      <th>subspec_icu</th>\n",
       "      <td>0.940741</td>\n",
       "      <td>0.900709</td>\n",
       "      <td>0.920290</td>\n",
       "      <td>141.0</td>\n",
       "    </tr>\n",
       "    <tr>\n",
       "      <th>subspec_sepsis</th>\n",
       "      <td>0.904762</td>\n",
       "      <td>0.926829</td>\n",
       "      <td>0.915663</td>\n",
       "      <td>41.0</td>\n",
       "    </tr>\n",
       "    <tr>\n",
       "      <th>subspec_cov19</th>\n",
       "      <td>0.983871</td>\n",
       "      <td>0.991870</td>\n",
       "      <td>0.987854</td>\n",
       "      <td>123.0</td>\n",
       "    </tr>\n",
       "    <tr>\n",
       "      <th>subspec_dermca</th>\n",
       "      <td>0.987500</td>\n",
       "      <td>0.951807</td>\n",
       "      <td>0.969325</td>\n",
       "      <td>83.0</td>\n",
       "    </tr>\n",
       "    <tr>\n",
       "      <th>subspec_gynonc</th>\n",
       "      <td>0.861538</td>\n",
       "      <td>0.982456</td>\n",
       "      <td>0.918033</td>\n",
       "      <td>57.0</td>\n",
       "    </tr>\n",
       "    <tr>\n",
       "      <th>subspec_lungca</th>\n",
       "      <td>0.958333</td>\n",
       "      <td>0.968421</td>\n",
       "      <td>0.963351</td>\n",
       "      <td>190.0</td>\n",
       "    </tr>\n",
       "    <tr>\n",
       "      <th>subspec_brainca</th>\n",
       "      <td>0.944444</td>\n",
       "      <td>0.985507</td>\n",
       "      <td>0.964539</td>\n",
       "      <td>138.0</td>\n",
       "    </tr>\n",
       "    <tr>\n",
       "      <th>subspec_gica</th>\n",
       "      <td>0.962733</td>\n",
       "      <td>0.962733</td>\n",
       "      <td>0.962733</td>\n",
       "      <td>161.0</td>\n",
       "    </tr>\n",
       "    <tr>\n",
       "      <th>subspec_hepca</th>\n",
       "      <td>0.952381</td>\n",
       "      <td>0.952381</td>\n",
       "      <td>0.952381</td>\n",
       "      <td>84.0</td>\n",
       "    </tr>\n",
       "    <tr>\n",
       "      <th>subspec_prosca</th>\n",
       "      <td>0.949153</td>\n",
       "      <td>0.991150</td>\n",
       "      <td>0.969697</td>\n",
       "      <td>113.0</td>\n",
       "    </tr>\n",
       "    <tr>\n",
       "      <th>subspec_breast</th>\n",
       "      <td>1.000000</td>\n",
       "      <td>0.984962</td>\n",
       "      <td>0.992424</td>\n",
       "      <td>266.0</td>\n",
       "    </tr>\n",
       "    <tr>\n",
       "      <th>subspec_frac</th>\n",
       "      <td>0.975610</td>\n",
       "      <td>1.000000</td>\n",
       "      <td>0.987654</td>\n",
       "      <td>40.0</td>\n",
       "    </tr>\n",
       "    <tr>\n",
       "      <th>subspec_epilep</th>\n",
       "      <td>0.996139</td>\n",
       "      <td>0.988506</td>\n",
       "      <td>0.992308</td>\n",
       "      <td>261.0</td>\n",
       "    </tr>\n",
       "    <tr>\n",
       "      <th>subspec_cva</th>\n",
       "      <td>0.943089</td>\n",
       "      <td>0.928000</td>\n",
       "      <td>0.935484</td>\n",
       "      <td>125.0</td>\n",
       "    </tr>\n",
       "    <tr>\n",
       "      <th>subspec_alzh</th>\n",
       "      <td>0.986111</td>\n",
       "      <td>0.968182</td>\n",
       "      <td>0.977064</td>\n",
       "      <td>220.0</td>\n",
       "    </tr>\n",
       "    <tr>\n",
       "      <th>subspec_ihd</th>\n",
       "      <td>0.909091</td>\n",
       "      <td>0.940171</td>\n",
       "      <td>0.924370</td>\n",
       "      <td>117.0</td>\n",
       "    </tr>\n",
       "    <tr>\n",
       "      <th>subspec_dm</th>\n",
       "      <td>0.994505</td>\n",
       "      <td>0.967914</td>\n",
       "      <td>0.981030</td>\n",
       "      <td>187.0</td>\n",
       "    </tr>\n",
       "    <tr>\n",
       "      <th>spec_eye</th>\n",
       "      <td>0.978261</td>\n",
       "      <td>0.989011</td>\n",
       "      <td>0.983607</td>\n",
       "      <td>182.0</td>\n",
       "    </tr>\n",
       "    <tr>\n",
       "      <th>subspec_ackd</th>\n",
       "      <td>0.837838</td>\n",
       "      <td>0.885714</td>\n",
       "      <td>0.861111</td>\n",
       "      <td>35.0</td>\n",
       "    </tr>\n",
       "    <tr>\n",
       "      <th>spec_paeds</th>\n",
       "      <td>0.991379</td>\n",
       "      <td>0.958333</td>\n",
       "      <td>0.974576</td>\n",
       "      <td>240.0</td>\n",
       "    </tr>\n",
       "    <tr>\n",
       "      <th>subspec_arrhyt</th>\n",
       "      <td>0.961749</td>\n",
       "      <td>0.988764</td>\n",
       "      <td>0.975069</td>\n",
       "      <td>178.0</td>\n",
       "    </tr>\n",
       "    <tr>\n",
       "      <th>micro</th>\n",
       "      <td>0.967913</td>\n",
       "      <td>0.961146</td>\n",
       "      <td>0.964518</td>\n",
       "      <td>8725.0</td>\n",
       "    </tr>\n",
       "    <tr>\n",
       "      <th>macro</th>\n",
       "      <td>0.957889</td>\n",
       "      <td>0.961146</td>\n",
       "      <td>0.959202</td>\n",
       "      <td>8725.0</td>\n",
       "    </tr>\n",
       "    <tr>\n",
       "      <th>weighted</th>\n",
       "      <td>0.968333</td>\n",
       "      <td>0.961146</td>\n",
       "      <td>0.964523</td>\n",
       "      <td>8725.0</td>\n",
       "    </tr>\n",
       "    <tr>\n",
       "      <th>samples</th>\n",
       "      <td>0.807192</td>\n",
       "      <td>0.804775</td>\n",
       "      <td>0.801011</td>\n",
       "      <td>8725.0</td>\n",
       "    </tr>\n",
       "  </tbody>\n",
       "</table>\n",
       "</div>"
      ],
      "text/plain": [
       "                 precision    recall  f1-score  support\n",
       "feat_xr           0.993939  0.993939  0.993939    165.0\n",
       "feat_ct           0.958057  0.977477  0.967670    444.0\n",
       "feat_eeg          0.981818  0.992647  0.987203    272.0\n",
       "feat_ecg          0.956250  0.962264  0.959248    159.0\n",
       "feat_histo        0.880503  0.939597  0.909091    298.0\n",
       "feat_mamm         1.000000  1.000000  1.000000     74.0\n",
       "feat_endoscop     0.987805  0.987805  0.987805     82.0\n",
       "feat_ehr          0.944149  0.894207  0.918499    397.0\n",
       "spec_onc          0.990028  0.980254  0.985117   1418.0\n",
       "spec_psych        0.929348  0.900000  0.914439    380.0\n",
       "spec_cvs          0.967742  0.937500  0.952381    480.0\n",
       "spec_neuro        0.978464  0.970288  0.974359   1077.0\n",
       "spec_resp         0.980892  0.929577  0.954545    497.0\n",
       "subspec_icu       0.940741  0.900709  0.920290    141.0\n",
       "subspec_sepsis    0.904762  0.926829  0.915663     41.0\n",
       "subspec_cov19     0.983871  0.991870  0.987854    123.0\n",
       "subspec_dermca    0.987500  0.951807  0.969325     83.0\n",
       "subspec_gynonc    0.861538  0.982456  0.918033     57.0\n",
       "subspec_lungca    0.958333  0.968421  0.963351    190.0\n",
       "subspec_brainca   0.944444  0.985507  0.964539    138.0\n",
       "subspec_gica      0.962733  0.962733  0.962733    161.0\n",
       "subspec_hepca     0.952381  0.952381  0.952381     84.0\n",
       "subspec_prosca    0.949153  0.991150  0.969697    113.0\n",
       "subspec_breast    1.000000  0.984962  0.992424    266.0\n",
       "subspec_frac      0.975610  1.000000  0.987654     40.0\n",
       "subspec_epilep    0.996139  0.988506  0.992308    261.0\n",
       "subspec_cva       0.943089  0.928000  0.935484    125.0\n",
       "subspec_alzh      0.986111  0.968182  0.977064    220.0\n",
       "subspec_ihd       0.909091  0.940171  0.924370    117.0\n",
       "subspec_dm        0.994505  0.967914  0.981030    187.0\n",
       "spec_eye          0.978261  0.989011  0.983607    182.0\n",
       "subspec_ackd      0.837838  0.885714  0.861111     35.0\n",
       "spec_paeds        0.991379  0.958333  0.974576    240.0\n",
       "subspec_arrhyt    0.961749  0.988764  0.975069    178.0\n",
       "micro             0.967913  0.961146  0.964518   8725.0\n",
       "macro             0.957889  0.961146  0.959202   8725.0\n",
       "weighted          0.968333  0.961146  0.964523   8725.0\n",
       "samples           0.807192  0.804775  0.801011   8725.0"
      ]
     },
     "execution_count": 33,
     "metadata": {},
     "output_type": "execute_result"
    }
   ],
   "source": [
    "report_df.index = labels\n",
    "report_df"
   ]
  },
  {
   "cell_type": "code",
   "execution_count": 38,
   "id": "aacb28de",
   "metadata": {},
   "outputs": [],
   "source": [
    "report_df.to_csv('report.csv')"
   ]
  },
  {
   "cell_type": "code",
   "execution_count": 39,
   "id": "a0b592cd-c38b-4d8c-8b16-e55ad67fff3e",
   "metadata": {},
   "outputs": [],
   "source": [
    "#print(classification_report(test_df[labels], y_pred, labels=labels))"
   ]
  },
  {
   "cell_type": "code",
   "execution_count": 40,
   "id": "11534762-0f2b-468a-a682-e45d5a1ca7a3",
   "metadata": {},
   "outputs": [
    {
     "name": "stderr",
     "output_type": "stream",
     "text": [
      "WARNING:absl:Found untraced functions such as restored_function_body, restored_function_body, restored_function_body, restored_function_body, restored_function_body while saving (showing 5 of 900). These functions will not be directly callable after loading.\n"
     ]
    }
   ],
   "source": [
    "#EXPORT MODEL\n",
    "\n",
    "saved_model_path = 'models/multilabel_characteristics_bert'\n",
    "\n",
    "classifier_model.save(saved_model_path, include_optimizer=False)"
   ]
  },
  {
   "cell_type": "code",
   "execution_count": null,
   "id": "f1f1e630-1fcd-48f9-8c77-2d84fadf1e40",
   "metadata": {},
   "outputs": [],
   "source": []
  }
 ],
 "metadata": {
  "kernelspec": {
   "display_name": "Python 3 (ipykernel)",
   "language": "python",
   "name": "python3"
  },
  "language_info": {
   "codemirror_mode": {
    "name": "ipython",
    "version": 3
   },
   "file_extension": ".py",
   "mimetype": "text/x-python",
   "name": "python",
   "nbconvert_exporter": "python",
   "pygments_lexer": "ipython3",
   "version": "3.9.5"
  }
 },
 "nbformat": 4,
 "nbformat_minor": 5
}
