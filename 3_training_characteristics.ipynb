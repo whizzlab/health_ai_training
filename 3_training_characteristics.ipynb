{
 "cells": [
  {
   "cell_type": "markdown",
   "id": "640e362b-546d-4fb6-92ec-7d6ce637f028",
   "metadata": {},
   "source": [
    "#### Imports"
   ]
  },
  {
   "cell_type": "code",
   "execution_count": 1,
   "id": "f43e4fe2-a195-4618-a34e-56a97657e169",
   "metadata": {},
   "outputs": [],
   "source": [
    "import os\n",
    "import shutil\n",
    "\n",
    "import tensorflow as tf\n",
    "import tensorflow_hub as hub\n",
    "import tensorflow_text as text\n",
    "from official.nlp import optimization  # to create AdamW optimizer\n",
    "\n",
    "tf.get_logger().setLevel('ERROR')"
   ]
  },
  {
   "cell_type": "code",
   "execution_count": 2,
   "id": "2d23efe5-bb10-4c43-807b-1fd60cd820cc",
   "metadata": {},
   "outputs": [],
   "source": [
    "import pandas as pd\n",
    "import numpy as np\n",
    "import matplotlib.pyplot as plt\n",
    "import seaborn as sns\n",
    "import re\n",
    "import nltk\n",
    "import datetime\n",
    "\n",
    "#for BERT\n",
    "import transformers"
   ]
  },
  {
   "cell_type": "code",
   "execution_count": 3,
   "id": "1ad00d1b",
   "metadata": {},
   "outputs": [],
   "source": [
    "pd.set_option('display.max_colwidth', None)\n",
    "pd.set_option(\"display.max_rows\", None, \"display.max_columns\", None)"
   ]
  },
  {
   "cell_type": "code",
   "execution_count": 4,
   "id": "776b6f88-94f2-4f3c-b5bf-cb1d33ab6e08",
   "metadata": {},
   "outputs": [],
   "source": [
    "from sklearn.model_selection import train_test_split"
   ]
  },
  {
   "cell_type": "code",
   "execution_count": 5,
   "id": "365799ab-c96d-47cc-b1a9-c70b50a24533",
   "metadata": {},
   "outputs": [
    {
     "name": "stdout",
     "output_type": "stream",
     "text": [
      "[name: \"/device:CPU:0\"\n",
      "device_type: \"CPU\"\n",
      "memory_limit: 268435456\n",
      "locality {\n",
      "}\n",
      "incarnation: 16039985041429090404\n",
      ", name: \"/device:GPU:0\"\n",
      "device_type: \"GPU\"\n",
      "memory_limit: 22723493888\n",
      "locality {\n",
      "  bus_id: 1\n",
      "  links {\n",
      "  }\n",
      "}\n",
      "incarnation: 6043902924787685233\n",
      "physical_device_desc: \"device: 0, name: NVIDIA GeForce RTX 3090, pci bus id: 0000:01:00.0, compute capability: 8.6\"\n",
      "]\n",
      "2.5.0\n"
     ]
    }
   ],
   "source": [
    "from tensorflow.python.client import device_lib\n",
    "print(device_lib.list_local_devices())\n",
    "print(tf.__version__)"
   ]
  },
  {
   "cell_type": "markdown",
   "id": "d64b73f5-05a3-46f3-a208-ee70ea77fa0b",
   "metadata": {},
   "source": [
    "#### Data loading"
   ]
  },
  {
   "cell_type": "code",
   "execution_count": 6,
   "id": "31821440-3f3b-4132-a3c7-5d0aeabb4e4f",
   "metadata": {},
   "outputs": [],
   "source": [
    "loaddf = pd.read_csv('data/char_labelled_evaluation.csv', index_col=0)"
   ]
  },
  {
   "cell_type": "code",
   "execution_count": 7,
   "id": "2ef8463f",
   "metadata": {},
   "outputs": [],
   "source": [
    "ner_labelled = loaddf.drop(['pmid', 'result',\n",
    "                           #\n",
    "                            'algo_discriminant', 'algo_naive_bayes', 'algo_transfer', \n",
    "                            'algo_federated', 'algo_k_nearest', 'algo_unsupervised',\n",
    "                            #\n",
    "                           'feat_derm', 'feat_sensor', 'feat_phone', 'feat_prom', 'feat_sound',\n",
    "                            #\n",
    "                           'spec_dent', 'spec_audio', 'subspec_hiv', 'subspec_tb', 'subspec_malaria',\n",
    "                           'subspec_tropic', 'spec_derm', 'subspec_rx', 'subspec_suicide',\n",
    "                           'subspec_renalca', 'subspec_breast', 'subspec_frac', 'spec_rheum', 'subspec_osa',\n",
    "                           'subspec_pe', 'spec_endo', 'subspec_insulin', 'spec_eye', 'subspec_ackd', 'spec_pubh',\n",
    "                           'subspec_bci', 'subspec_prosth', 'subspec_assist', 'subspec_activity'], axis=1)"
   ]
  },
  {
   "cell_type": "code",
   "execution_count": 42,
   "id": "37810b79-9e5f-4cc6-adf7-8f759f917020",
   "metadata": {},
   "outputs": [],
   "source": [
    "labels = ner_labelled.columns[1:].to_list()"
   ]
  },
  {
   "cell_type": "code",
   "execution_count": 43,
   "id": "509d1a5d",
   "metadata": {},
   "outputs": [
    {
     "data": {
      "text/plain": [
       "56"
      ]
     },
     "execution_count": 43,
     "metadata": {},
     "output_type": "execute_result"
    }
   ],
   "source": [
    "len(labels)"
   ]
  },
  {
   "cell_type": "code",
   "execution_count": 10,
   "id": "6c8bb892",
   "metadata": {
    "scrolled": true
   },
   "outputs": [
    {
     "data": {
      "text/plain": [
       "['algo_neural_net',\n",
       " 'algo_support_vector',\n",
       " 'algo_regression',\n",
       " 'algo_decision_tree',\n",
       " 'feat_xr',\n",
       " 'feat_ct',\n",
       " 'feat_mri',\n",
       " 'feat_eeg',\n",
       " 'feat_ecg',\n",
       " 'feat_emg',\n",
       " 'feat_us',\n",
       " 'feat_echo',\n",
       " 'feat_histo',\n",
       " 'feat_oct',\n",
       " 'feat_mamm',\n",
       " 'feat_endoscop',\n",
       " 'feat_gene',\n",
       " 'feat_bio',\n",
       " 'feat_nlp',\n",
       " 'feat_ehr',\n",
       " 'subspec_icu',\n",
       " 'subspec_ed',\n",
       " 'spec_paeds',\n",
       " 'spec_id',\n",
       " 'subspec_sepsis',\n",
       " 'subspec_cov19',\n",
       " 'subspec_dermca',\n",
       " 'spec_onc',\n",
       " 'subspec_lungca',\n",
       " 'subspec_brainca',\n",
       " 'subspec_gica',\n",
       " 'subspec_hepca',\n",
       " 'subspec_prosca',\n",
       " 'subspec_gynonc',\n",
       " 'subspec_haemonc',\n",
       " 'subspec_breastca',\n",
       " 'subspec_urology',\n",
       " 'spec_psych',\n",
       " 'spec_msk',\n",
       " 'spec_gi',\n",
       " 'spec_hep',\n",
       " 'spec_resp',\n",
       " 'subspec_pneum',\n",
       " 'spec_neuro',\n",
       " 'subspec_epilep',\n",
       " 'subspec_cva',\n",
       " 'subspec_alzh',\n",
       " 'spec_cvs',\n",
       " 'subspec_ihd',\n",
       " 'subspec_hf',\n",
       " 'subspec_arrhyt',\n",
       " 'spec_dm',\n",
       " 'subspec_retina',\n",
       " 'spec_haem',\n",
       " 'spec_obs',\n",
       " 'spec_renal']"
      ]
     },
     "execution_count": 10,
     "metadata": {},
     "output_type": "execute_result"
    }
   ],
   "source": [
    "labels"
   ]
  },
  {
   "cell_type": "markdown",
   "id": "40bbe2da-fb70-44e7-99e2-4e902fc7fc96",
   "metadata": {},
   "source": [
    "#### Train/val/test splits"
   ]
  },
  {
   "cell_type": "code",
   "execution_count": 11,
   "id": "ad9efae5-826f-4b57-92f9-375cfbee6c5b",
   "metadata": {},
   "outputs": [],
   "source": [
    "temp_df, test_df = train_test_split(ner_labelled, test_size=0.15)"
   ]
  },
  {
   "cell_type": "code",
   "execution_count": 12,
   "id": "4745459c-cebc-45bb-b9bd-401541214c2b",
   "metadata": {},
   "outputs": [],
   "source": [
    "train_df, val_df = train_test_split(temp_df, test_size = 0.1)"
   ]
  },
  {
   "cell_type": "markdown",
   "id": "84aa0212-d6cf-4151-bf3f-2187ec23bb4a",
   "metadata": {},
   "source": [
    "#### Create TF datasets"
   ]
  },
  {
   "cell_type": "code",
   "execution_count": 13,
   "id": "39672dac-67e0-47a4-8740-3da98d0a166e",
   "metadata": {},
   "outputs": [],
   "source": [
    "train_ds = tf.data.Dataset.from_tensor_slices((train_df['feature'].to_numpy().reshape(-1,1),\n",
    "                                              train_df[labels].to_numpy()))"
   ]
  },
  {
   "cell_type": "code",
   "execution_count": 14,
   "id": "dd355499-6c4f-48b0-aa9e-5cbd7850ced1",
   "metadata": {},
   "outputs": [],
   "source": [
    "val_ds = tf.data.Dataset.from_tensor_slices((val_df['feature'].to_numpy().reshape(-1,1),\n",
    "                                             val_df[labels].to_numpy()))"
   ]
  },
  {
   "cell_type": "code",
   "execution_count": 15,
   "id": "c9983ce0-7a66-46c1-8a0c-5bcb3eae4771",
   "metadata": {},
   "outputs": [],
   "source": [
    "test_ds = tf.data.Dataset.from_tensor_slices((test_df['feature'].to_numpy().reshape(-1,1),\n",
    "                                              test_df[labels].to_numpy().reshape(-1,1,56)))"
   ]
  },
  {
   "cell_type": "code",
   "execution_count": 16,
   "id": "d4a12473-4337-4606-9435-b525a64e7a8d",
   "metadata": {},
   "outputs": [
    {
     "data": {
      "text/plain": [
       "<TensorSliceDataset shapes: ((1,), (56,)), types: (tf.string, tf.int64)>"
      ]
     },
     "execution_count": 16,
     "metadata": {},
     "output_type": "execute_result"
    }
   ],
   "source": [
    "train_ds"
   ]
  },
  {
   "cell_type": "code",
   "execution_count": 17,
   "id": "483ff4cd-88c8-4064-af40-fa1965d0c251",
   "metadata": {},
   "outputs": [],
   "source": [
    "AUTOTUNE = tf.data.experimental.AUTOTUNE\n",
    "\n",
    "def configure_for_performance(ds):\n",
    "    ds = ds.cache()\n",
    "    ds = ds.shuffle(buffer_size=1000)\n",
    "    ds = ds.batch(batch_size)\n",
    "    ds = ds.prefetch(buffer_size=AUTOTUNE)\n",
    "    return ds"
   ]
  },
  {
   "cell_type": "code",
   "execution_count": 18,
   "id": "77003334-7d19-4423-84e3-4d8a732065da",
   "metadata": {},
   "outputs": [],
   "source": [
    "batch_size = 8\n",
    "\n",
    "train_ds_batched = configure_for_performance(train_ds)\n",
    "val_ds_batched = configure_for_performance(val_ds)\n",
    "test_ds_batched = configure_for_performance(test_ds)"
   ]
  },
  {
   "cell_type": "markdown",
   "id": "b95cafcf-fc28-44ff-a910-e0cafe894860",
   "metadata": {},
   "source": [
    "#### Configure BERT Models for preprocessing and vectorisation"
   ]
  },
  {
   "cell_type": "code",
   "execution_count": 19,
   "id": "6c245440-254e-4185-b2ae-619a92fde704",
   "metadata": {},
   "outputs": [
    {
     "name": "stderr",
     "output_type": "stream",
     "text": [
      "INFO:absl:Using C:\\Users\\JOEZ~1\\AppData\\Local\\Temp\\tfhub_modules to cache modules.\n"
     ]
    }
   ],
   "source": [
    "# BERT model for vectorization\n",
    "\n",
    "bert_vec_model = 'experts_pubmed'\n",
    "\n",
    "map_name_to_handle = {\n",
    "    'experts_pubmed':\n",
    "        'https://tfhub.dev/google/experts/bert/pubmed/2',\n",
    "}\n",
    "\n",
    "tfhub_handle_encoder = map_name_to_handle[bert_vec_model]\n",
    "\n",
    "bert_model = hub.KerasLayer(tfhub_handle_encoder) #wraps this as a Keras layer"
   ]
  },
  {
   "cell_type": "code",
   "execution_count": 20,
   "id": "3a68d496-d44a-4d9c-b5c5-165f472d8a53",
   "metadata": {},
   "outputs": [],
   "source": [
    "#BERT model for pre-processing\n",
    "\n",
    "map_model_to_preprocess = {\n",
    "    'experts_pubmed':\n",
    "        'https://tfhub.dev/tensorflow/bert_en_uncased_preprocess/3',\n",
    "}\n",
    "\n",
    "tfhub_handle_preprocess = map_model_to_preprocess[bert_vec_model]\n",
    "\n",
    "bert_preprocess_model = hub.KerasLayer(tfhub_handle_preprocess) #wraps this as a Keras layer"
   ]
  },
  {
   "cell_type": "code",
   "execution_count": 21,
   "id": "6d8013f8-c865-4a9e-b6fa-016bcab32170",
   "metadata": {},
   "outputs": [
    {
     "name": "stdout",
     "output_type": "stream",
     "text": [
      "BERT model selected: https://tfhub.dev/google/experts/bert/pubmed/2\n",
      "Pre-process model selected: https://tfhub.dev/tensorflow/bert_en_uncased_preprocess/3\n"
     ]
    }
   ],
   "source": [
    "print(f'BERT model selected: {tfhub_handle_encoder}')\n",
    "print(f'Pre-process model selected: {tfhub_handle_preprocess}')"
   ]
  },
  {
   "cell_type": "markdown",
   "id": "e35e37ce-ac03-4617-ab40-65ed58f879d2",
   "metadata": {},
   "source": [
    "#### Construct the multilabel classifier"
   ]
  },
  {
   "cell_type": "code",
   "execution_count": 22,
   "id": "3218f16b-9a0b-40b3-acd2-2b5df6722bfe",
   "metadata": {},
   "outputs": [],
   "source": [
    "def build_classifier_model(seq_length=512):\n",
    "\n",
    "    # Define input layer\n",
    "    text_input = tf.keras.layers.Input(shape=(), dtype=tf.string, name=\"text_input\")\n",
    "    \n",
    "    # Load the pretrained preprocessor\n",
    "    bert_preprocessor = hub.load(tfhub_handle_preprocess)\n",
    "    \n",
    "    # Tokenize the input text\n",
    "    tokenizer = hub.KerasLayer(bert_preprocessor.tokenize, name='tokenizer')\n",
    "    tokenized_inputs = [tokenizer(text_input)]\n",
    "\n",
    "    # Pack the tokenized input for the encoder\n",
    "    bert_pack_inputs = hub.KerasLayer(bert_preprocessor.bert_pack_inputs,\n",
    "                                      arguments=dict(seq_length=seq_length), name='packer')\n",
    "    \n",
    "    encoder_inputs = bert_pack_inputs(tokenized_inputs)\n",
    "    \n",
    "    #BERT encoding layer\n",
    "    encoder = hub.KerasLayer(tfhub_handle_encoder, trainable=True, name='BERT_encoder')\n",
    "    outputs = encoder(encoder_inputs)\n",
    "    \n",
    "    #Output layers\n",
    "    net = outputs['pooled_output']\n",
    "    net = tf.keras.layers.Dropout(0.1)(net)\n",
    "    net = tf.keras.layers.Dense(len(labels), activation='sigmoid', name='classifier')(net)\n",
    "    \n",
    "    return tf.keras.Model(text_input, net)"
   ]
  },
  {
   "cell_type": "code",
   "execution_count": 23,
   "id": "2d8b00a5-8082-4b08-8e7e-ae48145d1db8",
   "metadata": {},
   "outputs": [
    {
     "name": "stdout",
     "output_type": "stream",
     "text": [
      "Model: \"model\"\n",
      "__________________________________________________________________________________________________\n",
      "Layer (type)                    Output Shape         Param #     Connected to                     \n",
      "==================================================================================================\n",
      "text_input (InputLayer)         [(None,)]            0                                            \n",
      "__________________________________________________________________________________________________\n",
      "tokenizer (KerasLayer)          (None, None, None)   0           text_input[0][0]                 \n",
      "__________________________________________________________________________________________________\n",
      "packer (KerasLayer)             {'input_word_ids': ( 0           tokenizer[0][0]                  \n",
      "__________________________________________________________________________________________________\n",
      "BERT_encoder (KerasLayer)       {'encoder_outputs':  109482241   packer[0][0]                     \n",
      "                                                                 packer[0][1]                     \n",
      "                                                                 packer[0][2]                     \n",
      "__________________________________________________________________________________________________\n",
      "dropout (Dropout)               (None, 768)          0           BERT_encoder[0][13]              \n",
      "__________________________________________________________________________________________________\n",
      "classifier (Dense)              (None, 56)           43064       dropout[0][0]                    \n",
      "==================================================================================================\n",
      "Total params: 109,525,305\n",
      "Trainable params: 109,525,304\n",
      "Non-trainable params: 1\n",
      "__________________________________________________________________________________________________\n"
     ]
    }
   ],
   "source": [
    "classifier_model = build_classifier_model()\n",
    "\n",
    "classifier_model.summary()"
   ]
  },
  {
   "cell_type": "code",
   "execution_count": 24,
   "id": "693453aa-057d-4a8c-9056-021fe7b7b630",
   "metadata": {},
   "outputs": [
    {
     "name": "stderr",
     "output_type": "stream",
     "text": [
      "INFO:absl:using Adamw optimizer\n",
      "INFO:absl:gradient_clip_norm=1.000000\n"
     ]
    },
    {
     "name": "stdout",
     "output_type": "stream",
     "text": [
      "3269\n",
      "13076\n",
      "1307\n"
     ]
    }
   ],
   "source": [
    "#loss\n",
    "loss = tf.keras.losses.BinaryCrossentropy(from_logits=False)\n",
    "\n",
    "#metrics\n",
    "metrics = ['BinaryAccuracy']\n",
    "\n",
    "#epochs\n",
    "epochs = 4\n",
    "\n",
    "#optimization\n",
    "steps_per_epoch = tf.data.experimental.cardinality(train_ds_batched).numpy()\n",
    "print(steps_per_epoch)\n",
    "num_train_steps = steps_per_epoch * epochs\n",
    "print(num_train_steps)\n",
    "num_warmup_steps = int(0.1*num_train_steps)\n",
    "print(num_warmup_steps)\n",
    "init_lr = 1e-5\n",
    "\n",
    "optimizer = optimization.create_optimizer(init_lr=init_lr,\n",
    "                                          num_train_steps=num_train_steps,\n",
    "                                          num_warmup_steps=num_warmup_steps,\n",
    "                                          optimizer_type='adamw')\n",
    "\n",
    "\n",
    "# models.optimization dependent on tf-official-models, which depends on pycococo which does not install on windows without workaround:\n",
    "# https://github.com/philferriere/cocoapi\n",
    "# 1) upgrade visual basic to 2019 and install C++ tools in that library\n",
    "# 2) install pycococo using direct from git installation in the github link (may need git library first)\n",
    "# 3) then install tf-official-models using pip\n",
    "\n",
    "##alternative optimizer\n",
    "#optimizer = tf.keras.optimizers.Adam(learning_rate=0.001, beta_1=0.9, beta_2=0.999, epsilon=1e-07, amsgrad=False,\n",
    "#                                        name='Adam'\n",
    "#                                        )"
   ]
  },
  {
   "cell_type": "code",
   "execution_count": 25,
   "id": "06c7570c-64c7-49d9-aee5-43f05c6470f9",
   "metadata": {},
   "outputs": [],
   "source": [
    "classifier_model.compile(optimizer=optimizer,\n",
    "                         loss=loss,\n",
    "                         metrics=metrics)"
   ]
  },
  {
   "cell_type": "code",
   "execution_count": 26,
   "id": "d2e45f57-1478-4528-b224-ffd757e4732c",
   "metadata": {},
   "outputs": [
    {
     "name": "stdout",
     "output_type": "stream",
     "text": [
      "Training model with https://tfhub.dev/google/experts/bert/pubmed/2\n",
      "Epoch 1/4\n",
      "3269/3269 [==============================] - 1013s 306ms/step - loss: 0.1313 - binary_accuracy: 0.9542 - val_loss: 0.0344 - val_binary_accuracy: 0.9931\n",
      "Epoch 2/4\n",
      "3269/3269 [==============================] - 1008s 308ms/step - loss: 0.0264 - binary_accuracy: 0.9947 - val_loss: 0.0181 - val_binary_accuracy: 0.9965\n",
      "Epoch 3/4\n",
      "3269/3269 [==============================] - 1004s 307ms/step - loss: 0.0157 - binary_accuracy: 0.9973 - val_loss: 0.0131 - val_binary_accuracy: 0.9974\n",
      "Epoch 4/4\n",
      "3269/3269 [==============================] - 1019s 312ms/step - loss: 0.0122 - binary_accuracy: 0.9981 - val_loss: 0.0121 - val_binary_accuracy: 0.9976\n"
     ]
    }
   ],
   "source": [
    "print(f'Training model with {tfhub_handle_encoder}')\n",
    "history = classifier_model.fit(x=train_ds_batched,\n",
    "                               validation_data=val_ds_batched,\n",
    "                               epochs=epochs\n",
    "                               )"
   ]
  },
  {
   "cell_type": "code",
   "execution_count": 27,
   "id": "fb654233-363f-4d06-9cb0-dd89152ff4fc",
   "metadata": {},
   "outputs": [
    {
     "name": "stdout",
     "output_type": "stream",
     "text": [
      "dict_keys(['loss', 'binary_accuracy', 'val_loss', 'val_binary_accuracy'])\n"
     ]
    },
    {
     "data": {
      "text/plain": [
       "<matplotlib.legend.Legend at 0x268634769d0>"
      ]
     },
     "execution_count": 27,
     "metadata": {},
     "output_type": "execute_result"
    },
    {
     "data": {
      "image/png": "[encoded data removed]",
      "text/plain": [
       "<Figure size 720x432 with 2 Axes>"
      ]
     },
     "metadata": {
      "needs_background": "light"
     },
     "output_type": "display_data"
    }
   ],
   "source": [
    "history_dict = history.history\n",
    "print(history_dict.keys())\n",
    "\n",
    "acc = history_dict['binary_accuracy']\n",
    "val_acc = history_dict['val_binary_accuracy']\n",
    "loss = history_dict['loss']\n",
    "val_loss = history_dict['val_loss']\n",
    "\n",
    "epochs = range(1, len(acc) + 1)\n",
    "fig = plt.figure(figsize=(10, 6))\n",
    "fig.tight_layout()\n",
    "\n",
    "plt.subplot(2, 1, 1)\n",
    "# \"bo\" is for \"blue dot\"\n",
    "plt.plot(epochs, loss, 'r', label='Training loss')\n",
    "# b is for \"solid blue line\"\n",
    "plt.plot(epochs, val_loss, 'b', label='Validation loss')\n",
    "plt.title('Training and validation loss')\n",
    "# plt.xlabel('Epochs')\n",
    "plt.ylabel('Loss')\n",
    "plt.legend()\n",
    "\n",
    "plt.subplot(2, 1, 2)\n",
    "plt.plot(epochs, acc, 'r', label='Training acc')\n",
    "plt.plot(epochs, val_acc, 'b', label='Validation acc')\n",
    "plt.title('Training and validation accuracy')\n",
    "plt.xlabel('Epochs')\n",
    "plt.ylabel('Accuracy')\n",
    "plt.legend(loc='lower right')"
   ]
  },
  {
   "cell_type": "code",
   "execution_count": 28,
   "id": "cdcce8e3-861c-4e6d-b427-fb5fcdf84706",
   "metadata": {},
   "outputs": [
    {
     "data": {
      "text/plain": [
       "<TensorSliceDataset shapes: ((1,), (1, 56)), types: (tf.string, tf.int64)>"
      ]
     },
     "execution_count": 28,
     "metadata": {},
     "output_type": "execute_result"
    }
   ],
   "source": [
    "test_ds"
   ]
  },
  {
   "cell_type": "code",
   "execution_count": 29,
   "id": "bd8a7f4b-d923-4a3e-8cb0-759316886505",
   "metadata": {},
   "outputs": [
    {
     "name": "stdout",
     "output_type": "stream",
     "text": [
      "5127/5127 [==============================] - 149s 29ms/step - loss: 0.0115 - binary_accuracy: 0.9978\n",
      "Loss: 0.01147914957255125\n",
      "Accuracy: 0.9978324770927429\n"
     ]
    }
   ],
   "source": [
    "##re-test on test_ds\n",
    "\n",
    "loss, accuracy = classifier_model.evaluate(test_ds)\n",
    "\n",
    "print(f'Loss: {loss}')\n",
    "print(f'Accuracy: {accuracy}')"
   ]
  },
  {
   "cell_type": "code",
   "execution_count": 38,
   "id": "c20e4ca3-abbf-473e-87d1-09fd63b51b9f",
   "metadata": {},
   "outputs": [],
   "source": [
    "y_pred = classifier_model.predict(test_df['feature'])"
   ]
  },
  {
   "cell_type": "code",
   "execution_count": 39,
   "id": "2f4628f0-10c9-4865-8418-5aeabe29e724",
   "metadata": {},
   "outputs": [],
   "source": [
    "y_pred = np.round(y_pred)"
   ]
  },
  {
   "cell_type": "code",
   "execution_count": 40,
   "id": "0735ab4a-5a9f-45cc-91c8-21704d11fcaa",
   "metadata": {},
   "outputs": [],
   "source": [
    "from sklearn.metrics import classification_report, confusion_matrix, ConfusionMatrixDisplay"
   ]
  },
  {
   "cell_type": "code",
   "execution_count": 44,
   "id": "b575e0a9",
   "metadata": {},
   "outputs": [
    {
     "name": "stderr",
     "output_type": "stream",
     "text": [
      "C:\\Users\\Joe Z\\anaconda3\\envs\\tensorflow\\lib\\site-packages\\sklearn\\metrics\\_classification.py:1248: UndefinedMetricWarning: Precision and F-score are ill-defined and being set to 0.0 in samples with no predicted labels. Use `zero_division` parameter to control this behavior.\n",
      "  _warn_prf(average, modifier, msg_start, len(result))\n",
      "C:\\Users\\Joe Z\\anaconda3\\envs\\tensorflow\\lib\\site-packages\\sklearn\\metrics\\_classification.py:1248: UndefinedMetricWarning: Recall and F-score are ill-defined and being set to 0.0 in samples with no true labels. Use `zero_division` parameter to control this behavior.\n",
      "  _warn_prf(average, modifier, msg_start, len(result))\n"
     ]
    }
   ],
   "source": [
    "report = classification_report(test_df[labels], y_pred, output_dict=True)"
   ]
  },
  {
   "cell_type": "code",
   "execution_count": 45,
   "id": "0a2b3b27",
   "metadata": {
    "scrolled": true
   },
   "outputs": [
    {
     "data": {
      "text/plain": [
       "['algo_neural_net',\n",
       " 'algo_support_vector',\n",
       " 'algo_regression',\n",
       " 'algo_decision_tree',\n",
       " 'feat_xr',\n",
       " 'feat_ct',\n",
       " 'feat_mri',\n",
       " 'feat_eeg',\n",
       " 'feat_ecg',\n",
       " 'feat_emg',\n",
       " 'feat_us',\n",
       " 'feat_echo',\n",
       " 'feat_histo',\n",
       " 'feat_oct',\n",
       " 'feat_mamm',\n",
       " 'feat_endoscop',\n",
       " 'feat_gene',\n",
       " 'feat_bio',\n",
       " 'feat_nlp',\n",
       " 'feat_ehr',\n",
       " 'subspec_icu',\n",
       " 'subspec_ed',\n",
       " 'spec_paeds',\n",
       " 'spec_id',\n",
       " 'subspec_sepsis',\n",
       " 'subspec_cov19',\n",
       " 'subspec_dermca',\n",
       " 'spec_onc',\n",
       " 'subspec_lungca',\n",
       " 'subspec_brainca',\n",
       " 'subspec_gica',\n",
       " 'subspec_hepca',\n",
       " 'subspec_prosca',\n",
       " 'subspec_gynonc',\n",
       " 'subspec_haemonc',\n",
       " 'subspec_breastca',\n",
       " 'subspec_urology',\n",
       " 'spec_psych',\n",
       " 'spec_msk',\n",
       " 'spec_gi',\n",
       " 'spec_hep',\n",
       " 'spec_resp',\n",
       " 'subspec_pneum',\n",
       " 'spec_neuro',\n",
       " 'subspec_epilep',\n",
       " 'subspec_cva',\n",
       " 'subspec_alzh',\n",
       " 'spec_cvs',\n",
       " 'subspec_ihd',\n",
       " 'subspec_hf',\n",
       " 'subspec_arrhyt',\n",
       " 'spec_dm',\n",
       " 'subspec_retina',\n",
       " 'spec_haem',\n",
       " 'spec_obs',\n",
       " 'spec_renal',\n",
       " 'micro',\n",
       " 'macro',\n",
       " 'weighted',\n",
       " 'samples']"
      ]
     },
     "execution_count": 45,
     "metadata": {},
     "output_type": "execute_result"
    }
   ],
   "source": [
    "labels.extend(('micro', 'macro', 'weighted', 'samples'))\n",
    "labels"
   ]
  },
  {
   "cell_type": "code",
   "execution_count": 46,
   "id": "69960b68",
   "metadata": {},
   "outputs": [],
   "source": [
    "report_df = pd.DataFrame(report).transpose()"
   ]
  },
  {
   "cell_type": "code",
   "execution_count": 47,
   "id": "eb6b08c1",
   "metadata": {
    "scrolled": false
   },
   "outputs": [
    {
     "data": {
      "text/html": [
       "<div>\n",
       "<style scoped>\n",
       "    .dataframe tbody tr th:only-of-type {\n",
       "        vertical-align: middle;\n",
       "    }\n",
       "\n",
       "    .dataframe tbody tr th {\n",
       "        vertical-align: top;\n",
       "    }\n",
       "\n",
       "    .dataframe thead th {\n",
       "        text-align: right;\n",
       "    }\n",
       "</style>\n",
       "<table border=\"1\" class=\"dataframe\">\n",
       "  <thead>\n",
       "    <tr style=\"text-align: right;\">\n",
       "      <th></th>\n",
       "      <th>precision</th>\n",
       "      <th>recall</th>\n",
       "      <th>f1-score</th>\n",
       "      <th>support</th>\n",
       "    </tr>\n",
       "  </thead>\n",
       "  <tbody>\n",
       "    <tr>\n",
       "      <th>algo_neural_net</th>\n",
       "      <td>0.994326</td>\n",
       "      <td>0.996210</td>\n",
       "      <td>0.995267</td>\n",
       "      <td>2111.0</td>\n",
       "    </tr>\n",
       "    <tr>\n",
       "      <th>algo_support_vector</th>\n",
       "      <td>0.998503</td>\n",
       "      <td>0.997010</td>\n",
       "      <td>0.997756</td>\n",
       "      <td>669.0</td>\n",
       "    </tr>\n",
       "    <tr>\n",
       "      <th>algo_regression</th>\n",
       "      <td>0.964630</td>\n",
       "      <td>0.964630</td>\n",
       "      <td>0.964630</td>\n",
       "      <td>311.0</td>\n",
       "    </tr>\n",
       "    <tr>\n",
       "      <th>algo_decision_tree</th>\n",
       "      <td>0.966667</td>\n",
       "      <td>0.992665</td>\n",
       "      <td>0.979493</td>\n",
       "      <td>409.0</td>\n",
       "    </tr>\n",
       "    <tr>\n",
       "      <th>feat_xr</th>\n",
       "      <td>1.000000</td>\n",
       "      <td>0.990338</td>\n",
       "      <td>0.995146</td>\n",
       "      <td>207.0</td>\n",
       "    </tr>\n",
       "    <tr>\n",
       "      <th>feat_ct</th>\n",
       "      <td>0.983673</td>\n",
       "      <td>0.962076</td>\n",
       "      <td>0.972755</td>\n",
       "      <td>501.0</td>\n",
       "    </tr>\n",
       "    <tr>\n",
       "      <th>feat_mri</th>\n",
       "      <td>0.988889</td>\n",
       "      <td>1.000000</td>\n",
       "      <td>0.994413</td>\n",
       "      <td>534.0</td>\n",
       "    </tr>\n",
       "    <tr>\n",
       "      <th>feat_eeg</th>\n",
       "      <td>0.993127</td>\n",
       "      <td>1.000000</td>\n",
       "      <td>0.996552</td>\n",
       "      <td>289.0</td>\n",
       "    </tr>\n",
       "    <tr>\n",
       "      <th>feat_ecg</th>\n",
       "      <td>0.975758</td>\n",
       "      <td>0.987730</td>\n",
       "      <td>0.981707</td>\n",
       "      <td>163.0</td>\n",
       "    </tr>\n",
       "    <tr>\n",
       "      <th>feat_emg</th>\n",
       "      <td>0.986667</td>\n",
       "      <td>1.000000</td>\n",
       "      <td>0.993289</td>\n",
       "      <td>74.0</td>\n",
       "    </tr>\n",
       "    <tr>\n",
       "      <th>feat_us</th>\n",
       "      <td>0.971264</td>\n",
       "      <td>1.000000</td>\n",
       "      <td>0.985423</td>\n",
       "      <td>169.0</td>\n",
       "    </tr>\n",
       "    <tr>\n",
       "      <th>feat_echo</th>\n",
       "      <td>1.000000</td>\n",
       "      <td>0.965517</td>\n",
       "      <td>0.982456</td>\n",
       "      <td>29.0</td>\n",
       "    </tr>\n",
       "    <tr>\n",
       "      <th>feat_histo</th>\n",
       "      <td>0.948980</td>\n",
       "      <td>0.891374</td>\n",
       "      <td>0.919275</td>\n",
       "      <td>313.0</td>\n",
       "    </tr>\n",
       "    <tr>\n",
       "      <th>feat_oct</th>\n",
       "      <td>0.986928</td>\n",
       "      <td>0.993421</td>\n",
       "      <td>0.990164</td>\n",
       "      <td>152.0</td>\n",
       "    </tr>\n",
       "    <tr>\n",
       "      <th>feat_mamm</th>\n",
       "      <td>1.000000</td>\n",
       "      <td>1.000000</td>\n",
       "      <td>1.000000</td>\n",
       "      <td>94.0</td>\n",
       "    </tr>\n",
       "    <tr>\n",
       "      <th>feat_endoscop</th>\n",
       "      <td>1.000000</td>\n",
       "      <td>0.979381</td>\n",
       "      <td>0.989583</td>\n",
       "      <td>97.0</td>\n",
       "    </tr>\n",
       "    <tr>\n",
       "      <th>feat_gene</th>\n",
       "      <td>0.942122</td>\n",
       "      <td>0.989865</td>\n",
       "      <td>0.965404</td>\n",
       "      <td>296.0</td>\n",
       "    </tr>\n",
       "    <tr>\n",
       "      <th>feat_bio</th>\n",
       "      <td>0.964770</td>\n",
       "      <td>0.954424</td>\n",
       "      <td>0.959569</td>\n",
       "      <td>373.0</td>\n",
       "    </tr>\n",
       "    <tr>\n",
       "      <th>feat_nlp</th>\n",
       "      <td>0.985294</td>\n",
       "      <td>1.000000</td>\n",
       "      <td>0.992593</td>\n",
       "      <td>67.0</td>\n",
       "    </tr>\n",
       "    <tr>\n",
       "      <th>feat_ehr</th>\n",
       "      <td>0.940476</td>\n",
       "      <td>0.977723</td>\n",
       "      <td>0.958738</td>\n",
       "      <td>404.0</td>\n",
       "    </tr>\n",
       "    <tr>\n",
       "      <th>subspec_icu</th>\n",
       "      <td>0.969697</td>\n",
       "      <td>0.984615</td>\n",
       "      <td>0.977099</td>\n",
       "      <td>130.0</td>\n",
       "    </tr>\n",
       "    <tr>\n",
       "      <th>subspec_ed</th>\n",
       "      <td>0.939394</td>\n",
       "      <td>0.968750</td>\n",
       "      <td>0.953846</td>\n",
       "      <td>64.0</td>\n",
       "    </tr>\n",
       "    <tr>\n",
       "      <th>spec_paeds</th>\n",
       "      <td>1.000000</td>\n",
       "      <td>0.978873</td>\n",
       "      <td>0.989324</td>\n",
       "      <td>284.0</td>\n",
       "    </tr>\n",
       "    <tr>\n",
       "      <th>spec_id</th>\n",
       "      <td>0.974026</td>\n",
       "      <td>0.984252</td>\n",
       "      <td>0.979112</td>\n",
       "      <td>381.0</td>\n",
       "    </tr>\n",
       "    <tr>\n",
       "      <th>subspec_sepsis</th>\n",
       "      <td>0.945946</td>\n",
       "      <td>0.972222</td>\n",
       "      <td>0.958904</td>\n",
       "      <td>36.0</td>\n",
       "    </tr>\n",
       "    <tr>\n",
       "      <th>subspec_cov19</th>\n",
       "      <td>0.994186</td>\n",
       "      <td>1.000000</td>\n",
       "      <td>0.997085</td>\n",
       "      <td>171.0</td>\n",
       "    </tr>\n",
       "    <tr>\n",
       "      <th>subspec_dermca</th>\n",
       "      <td>1.000000</td>\n",
       "      <td>0.980000</td>\n",
       "      <td>0.989899</td>\n",
       "      <td>50.0</td>\n",
       "    </tr>\n",
       "    <tr>\n",
       "      <th>spec_onc</th>\n",
       "      <td>0.984364</td>\n",
       "      <td>0.995687</td>\n",
       "      <td>0.989993</td>\n",
       "      <td>1391.0</td>\n",
       "    </tr>\n",
       "    <tr>\n",
       "      <th>subspec_lungca</th>\n",
       "      <td>0.956989</td>\n",
       "      <td>0.994413</td>\n",
       "      <td>0.975342</td>\n",
       "      <td>179.0</td>\n",
       "    </tr>\n",
       "    <tr>\n",
       "      <th>subspec_brainca</th>\n",
       "      <td>0.986301</td>\n",
       "      <td>0.979592</td>\n",
       "      <td>0.982935</td>\n",
       "      <td>147.0</td>\n",
       "    </tr>\n",
       "    <tr>\n",
       "      <th>subspec_gica</th>\n",
       "      <td>0.845070</td>\n",
       "      <td>0.983607</td>\n",
       "      <td>0.909091</td>\n",
       "      <td>122.0</td>\n",
       "    </tr>\n",
       "    <tr>\n",
       "      <th>subspec_hepca</th>\n",
       "      <td>0.924051</td>\n",
       "      <td>1.000000</td>\n",
       "      <td>0.960526</td>\n",
       "      <td>73.0</td>\n",
       "    </tr>\n",
       "    <tr>\n",
       "      <th>subspec_prosca</th>\n",
       "      <td>0.955357</td>\n",
       "      <td>0.990741</td>\n",
       "      <td>0.972727</td>\n",
       "      <td>108.0</td>\n",
       "    </tr>\n",
       "    <tr>\n",
       "      <th>subspec_gynonc</th>\n",
       "      <td>1.000000</td>\n",
       "      <td>0.972603</td>\n",
       "      <td>0.986111</td>\n",
       "      <td>73.0</td>\n",
       "    </tr>\n",
       "    <tr>\n",
       "      <th>subspec_haemonc</th>\n",
       "      <td>0.957143</td>\n",
       "      <td>0.971014</td>\n",
       "      <td>0.964029</td>\n",
       "      <td>69.0</td>\n",
       "    </tr>\n",
       "    <tr>\n",
       "      <th>subspec_breastca</th>\n",
       "      <td>0.984848</td>\n",
       "      <td>0.988593</td>\n",
       "      <td>0.986717</td>\n",
       "      <td>263.0</td>\n",
       "    </tr>\n",
       "    <tr>\n",
       "      <th>subspec_urology</th>\n",
       "      <td>0.995902</td>\n",
       "      <td>0.983806</td>\n",
       "      <td>0.989817</td>\n",
       "      <td>247.0</td>\n",
       "    </tr>\n",
       "    <tr>\n",
       "      <th>spec_psych</th>\n",
       "      <td>0.980769</td>\n",
       "      <td>0.983923</td>\n",
       "      <td>0.982343</td>\n",
       "      <td>311.0</td>\n",
       "    </tr>\n",
       "    <tr>\n",
       "      <th>spec_msk</th>\n",
       "      <td>0.900000</td>\n",
       "      <td>0.940299</td>\n",
       "      <td>0.919708</td>\n",
       "      <td>134.0</td>\n",
       "    </tr>\n",
       "    <tr>\n",
       "      <th>spec_gi</th>\n",
       "      <td>0.957031</td>\n",
       "      <td>0.995935</td>\n",
       "      <td>0.976096</td>\n",
       "      <td>246.0</td>\n",
       "    </tr>\n",
       "    <tr>\n",
       "      <th>spec_hep</th>\n",
       "      <td>0.994118</td>\n",
       "      <td>0.976879</td>\n",
       "      <td>0.985423</td>\n",
       "      <td>173.0</td>\n",
       "    </tr>\n",
       "    <tr>\n",
       "      <th>spec_resp</th>\n",
       "      <td>0.977901</td>\n",
       "      <td>0.992523</td>\n",
       "      <td>0.985158</td>\n",
       "      <td>535.0</td>\n",
       "    </tr>\n",
       "    <tr>\n",
       "      <th>subspec_pneum</th>\n",
       "      <td>0.918605</td>\n",
       "      <td>0.975309</td>\n",
       "      <td>0.946108</td>\n",
       "      <td>81.0</td>\n",
       "    </tr>\n",
       "    <tr>\n",
       "      <th>spec_neuro</th>\n",
       "      <td>0.989770</td>\n",
       "      <td>0.990614</td>\n",
       "      <td>0.990192</td>\n",
       "      <td>1172.0</td>\n",
       "    </tr>\n",
       "    <tr>\n",
       "      <th>subspec_epilep</th>\n",
       "      <td>1.000000</td>\n",
       "      <td>1.000000</td>\n",
       "      <td>1.000000</td>\n",
       "      <td>115.0</td>\n",
       "    </tr>\n",
       "    <tr>\n",
       "      <th>subspec_cva</th>\n",
       "      <td>0.960396</td>\n",
       "      <td>0.898148</td>\n",
       "      <td>0.928230</td>\n",
       "      <td>108.0</td>\n",
       "    </tr>\n",
       "    <tr>\n",
       "      <th>subspec_alzh</th>\n",
       "      <td>0.991561</td>\n",
       "      <td>0.991561</td>\n",
       "      <td>0.991561</td>\n",
       "      <td>237.0</td>\n",
       "    </tr>\n",
       "    <tr>\n",
       "      <th>spec_cvs</th>\n",
       "      <td>0.968978</td>\n",
       "      <td>0.986989</td>\n",
       "      <td>0.977901</td>\n",
       "      <td>538.0</td>\n",
       "    </tr>\n",
       "    <tr>\n",
       "      <th>subspec_ihd</th>\n",
       "      <td>0.930769</td>\n",
       "      <td>0.923664</td>\n",
       "      <td>0.927203</td>\n",
       "      <td>131.0</td>\n",
       "    </tr>\n",
       "    <tr>\n",
       "      <th>subspec_hf</th>\n",
       "      <td>0.811594</td>\n",
       "      <td>0.861538</td>\n",
       "      <td>0.835821</td>\n",
       "      <td>65.0</td>\n",
       "    </tr>\n",
       "    <tr>\n",
       "      <th>subspec_arrhyt</th>\n",
       "      <td>0.953271</td>\n",
       "      <td>0.886957</td>\n",
       "      <td>0.918919</td>\n",
       "      <td>115.0</td>\n",
       "    </tr>\n",
       "    <tr>\n",
       "      <th>spec_dm</th>\n",
       "      <td>0.989796</td>\n",
       "      <td>0.989796</td>\n",
       "      <td>0.989796</td>\n",
       "      <td>196.0</td>\n",
       "    </tr>\n",
       "    <tr>\n",
       "      <th>subspec_retina</th>\n",
       "      <td>0.953125</td>\n",
       "      <td>0.983871</td>\n",
       "      <td>0.968254</td>\n",
       "      <td>62.0</td>\n",
       "    </tr>\n",
       "    <tr>\n",
       "      <th>spec_haem</th>\n",
       "      <td>0.974790</td>\n",
       "      <td>0.958678</td>\n",
       "      <td>0.966667</td>\n",
       "      <td>121.0</td>\n",
       "    </tr>\n",
       "    <tr>\n",
       "      <th>spec_obs</th>\n",
       "      <td>0.956522</td>\n",
       "      <td>0.944785</td>\n",
       "      <td>0.950617</td>\n",
       "      <td>163.0</td>\n",
       "    </tr>\n",
       "    <tr>\n",
       "      <th>spec_renal</th>\n",
       "      <td>0.980583</td>\n",
       "      <td>0.990196</td>\n",
       "      <td>0.985366</td>\n",
       "      <td>102.0</td>\n",
       "    </tr>\n",
       "    <tr>\n",
       "      <th>micro</th>\n",
       "      <td>0.977025</td>\n",
       "      <td>0.983328</td>\n",
       "      <td>0.980166</td>\n",
       "      <td>15655.0</td>\n",
       "    </tr>\n",
       "    <tr>\n",
       "      <th>macro</th>\n",
       "      <td>0.967767</td>\n",
       "      <td>0.975764</td>\n",
       "      <td>0.971467</td>\n",
       "      <td>15655.0</td>\n",
       "    </tr>\n",
       "    <tr>\n",
       "      <th>weighted</th>\n",
       "      <td>0.977377</td>\n",
       "      <td>0.983328</td>\n",
       "      <td>0.980194</td>\n",
       "      <td>15655.0</td>\n",
       "    </tr>\n",
       "    <tr>\n",
       "      <th>samples</th>\n",
       "      <td>0.932646</td>\n",
       "      <td>0.938428</td>\n",
       "      <td>0.932432</td>\n",
       "      <td>15655.0</td>\n",
       "    </tr>\n",
       "  </tbody>\n",
       "</table>\n",
       "</div>"
      ],
      "text/plain": [
       "                     precision    recall  f1-score  support\n",
       "algo_neural_net       0.994326  0.996210  0.995267   2111.0\n",
       "algo_support_vector   0.998503  0.997010  0.997756    669.0\n",
       "algo_regression       0.964630  0.964630  0.964630    311.0\n",
       "algo_decision_tree    0.966667  0.992665  0.979493    409.0\n",
       "feat_xr               1.000000  0.990338  0.995146    207.0\n",
       "feat_ct               0.983673  0.962076  0.972755    501.0\n",
       "feat_mri              0.988889  1.000000  0.994413    534.0\n",
       "feat_eeg              0.993127  1.000000  0.996552    289.0\n",
       "feat_ecg              0.975758  0.987730  0.981707    163.0\n",
       "feat_emg              0.986667  1.000000  0.993289     74.0\n",
       "feat_us               0.971264  1.000000  0.985423    169.0\n",
       "feat_echo             1.000000  0.965517  0.982456     29.0\n",
       "feat_histo            0.948980  0.891374  0.919275    313.0\n",
       "feat_oct              0.986928  0.993421  0.990164    152.0\n",
       "feat_mamm             1.000000  1.000000  1.000000     94.0\n",
       "feat_endoscop         1.000000  0.979381  0.989583     97.0\n",
       "feat_gene             0.942122  0.989865  0.965404    296.0\n",
       "feat_bio              0.964770  0.954424  0.959569    373.0\n",
       "feat_nlp              0.985294  1.000000  0.992593     67.0\n",
       "feat_ehr              0.940476  0.977723  0.958738    404.0\n",
       "subspec_icu           0.969697  0.984615  0.977099    130.0\n",
       "subspec_ed            0.939394  0.968750  0.953846     64.0\n",
       "spec_paeds            1.000000  0.978873  0.989324    284.0\n",
       "spec_id               0.974026  0.984252  0.979112    381.0\n",
       "subspec_sepsis        0.945946  0.972222  0.958904     36.0\n",
       "subspec_cov19         0.994186  1.000000  0.997085    171.0\n",
       "subspec_dermca        1.000000  0.980000  0.989899     50.0\n",
       "spec_onc              0.984364  0.995687  0.989993   1391.0\n",
       "subspec_lungca        0.956989  0.994413  0.975342    179.0\n",
       "subspec_brainca       0.986301  0.979592  0.982935    147.0\n",
       "subspec_gica          0.845070  0.983607  0.909091    122.0\n",
       "subspec_hepca         0.924051  1.000000  0.960526     73.0\n",
       "subspec_prosca        0.955357  0.990741  0.972727    108.0\n",
       "subspec_gynonc        1.000000  0.972603  0.986111     73.0\n",
       "subspec_haemonc       0.957143  0.971014  0.964029     69.0\n",
       "subspec_breastca      0.984848  0.988593  0.986717    263.0\n",
       "subspec_urology       0.995902  0.983806  0.989817    247.0\n",
       "spec_psych            0.980769  0.983923  0.982343    311.0\n",
       "spec_msk              0.900000  0.940299  0.919708    134.0\n",
       "spec_gi               0.957031  0.995935  0.976096    246.0\n",
       "spec_hep              0.994118  0.976879  0.985423    173.0\n",
       "spec_resp             0.977901  0.992523  0.985158    535.0\n",
       "subspec_pneum         0.918605  0.975309  0.946108     81.0\n",
       "spec_neuro            0.989770  0.990614  0.990192   1172.0\n",
       "subspec_epilep        1.000000  1.000000  1.000000    115.0\n",
       "subspec_cva           0.960396  0.898148  0.928230    108.0\n",
       "subspec_alzh          0.991561  0.991561  0.991561    237.0\n",
       "spec_cvs              0.968978  0.986989  0.977901    538.0\n",
       "subspec_ihd           0.930769  0.923664  0.927203    131.0\n",
       "subspec_hf            0.811594  0.861538  0.835821     65.0\n",
       "subspec_arrhyt        0.953271  0.886957  0.918919    115.0\n",
       "spec_dm               0.989796  0.989796  0.989796    196.0\n",
       "subspec_retina        0.953125  0.983871  0.968254     62.0\n",
       "spec_haem             0.974790  0.958678  0.966667    121.0\n",
       "spec_obs              0.956522  0.944785  0.950617    163.0\n",
       "spec_renal            0.980583  0.990196  0.985366    102.0\n",
       "micro                 0.977025  0.983328  0.980166  15655.0\n",
       "macro                 0.967767  0.975764  0.971467  15655.0\n",
       "weighted              0.977377  0.983328  0.980194  15655.0\n",
       "samples               0.932646  0.938428  0.932432  15655.0"
      ]
     },
     "execution_count": 47,
     "metadata": {},
     "output_type": "execute_result"
    }
   ],
   "source": [
    "report_df.index = labels\n",
    "report_df"
   ]
  },
  {
   "cell_type": "code",
   "execution_count": 48,
   "id": "aacb28de",
   "metadata": {},
   "outputs": [],
   "source": [
    "report_df.to_csv('report_final.csv')"
   ]
  },
  {
   "cell_type": "code",
   "execution_count": 49,
   "id": "a0b592cd-c38b-4d8c-8b16-e55ad67fff3e",
   "metadata": {},
   "outputs": [],
   "source": [
    "#print(classification_report(test_df[labels], y_pred, labels=labels))"
   ]
  },
  {
   "cell_type": "code",
   "execution_count": 50,
   "id": "11534762-0f2b-468a-a682-e45d5a1ca7a3",
   "metadata": {},
   "outputs": [
    {
     "name": "stderr",
     "output_type": "stream",
     "text": [
      "WARNING:absl:Found untraced functions such as restored_function_body, restored_function_body, restored_function_body, restored_function_body, restored_function_body while saving (showing 5 of 900). These functions will not be directly callable after loading.\n"
     ]
    }
   ],
   "source": [
    "#EXPORT MODEL\n",
    "\n",
    "saved_model_path = 'models/multilabel_characteristics_bert'\n",
    "\n",
    "classifier_model.save(saved_model_path, include_optimizer=False)"
   ]
  },
  {
   "cell_type": "code",
   "execution_count": null,
   "id": "f1f1e630-1fcd-48f9-8c77-2d84fadf1e40",
   "metadata": {},
   "outputs": [],
   "source": []
  }
 ],
 "metadata": {
  "kernelspec": {
   "display_name": "Python 3 (ipykernel)",
   "language": "python",
   "name": "python3"
  },
  "language_info": {
   "codemirror_mode": {
    "name": "ipython",
    "version": 3
   },
   "file_extension": ".py",
   "mimetype": "text/x-python",
   "name": "python",
   "nbconvert_exporter": "python",
   "pygments_lexer": "ipython3",
   "version": "3.9.5"
  }
 },
 "nbformat": 4,
 "nbformat_minor": 5
}
