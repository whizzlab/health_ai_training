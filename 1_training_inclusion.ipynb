{
 "cells": [
  {
   "cell_type": "code",
   "execution_count": 1,
   "id": "6c67812a",
   "metadata": {},
   "outputs": [],
   "source": [
    "import os\n",
    "import shutil\n",
    "\n",
    "import tensorflow as tf\n",
    "import tensorflow_hub as hub\n",
    "import tensorflow_text as text\n",
    "from official.nlp import optimization  # to create AdamW optimizer\n",
    "\n",
    "tf.get_logger().setLevel('ERROR')"
   ]
  },
  {
   "cell_type": "code",
   "execution_count": 2,
   "id": "61e2efca",
   "metadata": {},
   "outputs": [],
   "source": [
    "import pandas as pd\n",
    "import numpy as np\n",
    "import matplotlib.pyplot as plt\n",
    "import seaborn as sns\n",
    "import re\n",
    "import nltk\n",
    "import datetime\n",
    "\n",
    "#for BERT\n",
    "import transformers"
   ]
  },
  {
   "cell_type": "code",
   "execution_count": 3,
   "id": "d3b49073-2f62-4ca1-9e42-e55654107c68",
   "metadata": {},
   "outputs": [],
   "source": [
    "# GPU options to limit OOM erors\n",
    "physical_devices = tf.config.experimental.list_physical_devices('GPU')\n",
    "tf.config.experimental.set_memory_growth(physical_devices[0], True)"
   ]
  },
  {
   "cell_type": "code",
   "execution_count": 4,
   "id": "7e22ed1a",
   "metadata": {},
   "outputs": [
    {
     "name": "stdout",
     "output_type": "stream",
     "text": [
      "[name: \"/device:CPU:0\"\n",
      "device_type: \"CPU\"\n",
      "memory_limit: 268435456\n",
      "locality {\n",
      "}\n",
      "incarnation: 12532158316837129213\n",
      ", name: \"/device:GPU:0\"\n",
      "device_type: \"GPU\"\n",
      "memory_limit: 22723493888\n",
      "locality {\n",
      "  bus_id: 1\n",
      "  links {\n",
      "  }\n",
      "}\n",
      "incarnation: 10113625611560698036\n",
      "physical_device_desc: \"device: 0, name: NVIDIA GeForce RTX 3090, pci bus id: 0000:01:00.0, compute capability: 8.6\"\n",
      "]\n",
      "2.5.0\n"
     ]
    }
   ],
   "source": [
    "from tensorflow.python.client import device_lib\n",
    "print(device_lib.list_local_devices())\n",
    "print(tf.__version__)"
   ]
  },
  {
   "cell_type": "code",
   "execution_count": 5,
   "id": "fa195a7b",
   "metadata": {},
   "outputs": [],
   "source": [
    "#make sure csv only contains labelled examples\n",
    "#in excel, have concat title and abstract into same text block = feature. \n",
    "labelled = pd.read_csv('training_data/training_main_classifier.csv', index_col=0)"
   ]
  },
  {
   "cell_type": "code",
   "execution_count": 6,
   "id": "e2f78b6c",
   "metadata": {},
   "outputs": [
    {
     "data": {
      "text/html": [
       "<div>\n",
       "<style scoped>\n",
       "    .dataframe tbody tr th:only-of-type {\n",
       "        vertical-align: middle;\n",
       "    }\n",
       "\n",
       "    .dataframe tbody tr th {\n",
       "        vertical-align: top;\n",
       "    }\n",
       "\n",
       "    .dataframe thead th {\n",
       "        text-align: right;\n",
       "    }\n",
       "</style>\n",
       "<table border=\"1\" class=\"dataframe\">\n",
       "  <thead>\n",
       "    <tr style=\"text-align: right;\">\n",
       "      <th></th>\n",
       "      <th>pmid</th>\n",
       "      <th>include</th>\n",
       "      <th>feature</th>\n",
       "    </tr>\n",
       "  </thead>\n",
       "  <tbody>\n",
       "    <tr>\n",
       "      <th>0</th>\n",
       "      <td>28278461</td>\n",
       "      <td>1</td>\n",
       "      <td>Automatic Quantification of Tumour Hypoxia Fro...</td>\n",
       "    </tr>\n",
       "    <tr>\n",
       "      <th>2</th>\n",
       "      <td>32660549</td>\n",
       "      <td>1</td>\n",
       "      <td>A decision support system based on support vec...</td>\n",
       "    </tr>\n",
       "    <tr>\n",
       "      <th>4</th>\n",
       "      <td>32079910</td>\n",
       "      <td>1</td>\n",
       "      <td>Posture and Physical Activity Detection: Impac...</td>\n",
       "    </tr>\n",
       "    <tr>\n",
       "      <th>7</th>\n",
       "      <td>29127485</td>\n",
       "      <td>1</td>\n",
       "      <td>OCT-based deep learning algorithm for the eval...</td>\n",
       "    </tr>\n",
       "    <tr>\n",
       "      <th>8</th>\n",
       "      <td>30815461</td>\n",
       "      <td>1</td>\n",
       "      <td>Blood Pressure Assessment with Differential Pu...</td>\n",
       "    </tr>\n",
       "  </tbody>\n",
       "</table>\n",
       "</div>"
      ],
      "text/plain": [
       "       pmid  include                                            feature\n",
       "0  28278461        1  Automatic Quantification of Tumour Hypoxia Fro...\n",
       "2  32660549        1  A decision support system based on support vec...\n",
       "4  32079910        1  Posture and Physical Activity Detection: Impac...\n",
       "7  29127485        1  OCT-based deep learning algorithm for the eval...\n",
       "8  30815461        1  Blood Pressure Assessment with Differential Pu..."
      ]
     },
     "execution_count": 6,
     "metadata": {},
     "output_type": "execute_result"
    }
   ],
   "source": [
    "analysisdf = labelled[['pmid', 'include', 'feature']].copy()       \n",
    "                      \n",
    "#pipeline now independent from csv\n",
    "analysisdf['include'] = analysisdf['include'].astype(np.int64)\n",
    "analysisdf.head()"
   ]
  },
  {
   "cell_type": "code",
   "execution_count": 7,
   "id": "db0f7b05",
   "metadata": {},
   "outputs": [],
   "source": [
    "analysisdf = analysisdf.drop(['pmid'], axis=1)"
   ]
  },
  {
   "cell_type": "code",
   "execution_count": 8,
   "id": "b0c39b71",
   "metadata": {},
   "outputs": [
    {
     "name": "stdout",
     "output_type": "stream",
     "text": [
      "labels:\n",
      "0    9203\n",
      "1    2276\n",
      "Name: include, dtype: int64\n"
     ]
    },
    {
     "data": {
      "image/png": "[encoded data removed]",
      "text/plain": [
       "<Figure size 432x288 with 1 Axes>"
      ]
     },
     "metadata": {
      "needs_background": "light"
     },
     "output_type": "display_data"
    }
   ],
   "source": [
    "print(\"labels:\")\n",
    "print(analysisdf['include'].value_counts())\n",
    "\n",
    "plt.figure()\n",
    "pd.value_counts(analysisdf['include']).plot.bar(title=\"inclusion 0 vs 1\")\n",
    "plt.xlabel(\"inclusion\")\n",
    "plt.ylabel(\"number\")\n",
    "plt.show()"
   ]
  },
  {
   "cell_type": "code",
   "execution_count": 9,
   "id": "6ee7c5b2",
   "metadata": {},
   "outputs": [
    {
     "data": {
      "text/html": [
       "<div>\n",
       "<style scoped>\n",
       "    .dataframe tbody tr th:only-of-type {\n",
       "        vertical-align: middle;\n",
       "    }\n",
       "\n",
       "    .dataframe tbody tr th {\n",
       "        vertical-align: top;\n",
       "    }\n",
       "\n",
       "    .dataframe thead th {\n",
       "        text-align: right;\n",
       "    }\n",
       "</style>\n",
       "<table border=\"1\" class=\"dataframe\">\n",
       "  <thead>\n",
       "    <tr style=\"text-align: right;\">\n",
       "      <th></th>\n",
       "      <th>include</th>\n",
       "      <th>feature</th>\n",
       "    </tr>\n",
       "  </thead>\n",
       "  <tbody>\n",
       "  </tbody>\n",
       "</table>\n",
       "</div>"
      ],
      "text/plain": [
       "Empty DataFrame\n",
       "Columns: [include, feature]\n",
       "Index: []"
      ]
     },
     "execution_count": 9,
     "metadata": {},
     "output_type": "execute_result"
    }
   ],
   "source": [
    "analysisdf[analysisdf['feature'].isna()]"
   ]
  },
  {
   "cell_type": "code",
   "execution_count": 10,
   "id": "fb129b8c",
   "metadata": {},
   "outputs": [],
   "source": [
    "#analysisdf.dropna(subset=['feature'], inplace=True)"
   ]
  },
  {
   "cell_type": "markdown",
   "id": "07d047fb",
   "metadata": {},
   "source": [
    "## creating training/validation, and test sets"
   ]
  },
  {
   "cell_type": "code",
   "execution_count": 11,
   "id": "55685ecb",
   "metadata": {},
   "outputs": [
    {
     "name": "stdout",
     "output_type": "stream",
     "text": [
      "tempdf\n"
     ]
    },
    {
     "data": {
      "image/png": "[encoded data removed]",
      "text/plain": [
       "<Figure size 432x288 with 1 Axes>"
      ]
     },
     "metadata": {
      "needs_background": "light"
     },
     "output_type": "display_data"
    },
    {
     "name": "stdout",
     "output_type": "stream",
     "text": [
      "valdf\n"
     ]
    },
    {
     "data": {
      "image/png": "[encoded data removed]",
      "text/plain": [
       "<Figure size 432x288 with 1 Axes>"
      ]
     },
     "metadata": {
      "needs_background": "light"
     },
     "output_type": "display_data"
    }
   ],
   "source": [
    "from sklearn.model_selection import train_test_split\n",
    "\n",
    "tempdf, valdf = train_test_split(analysisdf, test_size=0.1, stratify=analysisdf['include'])\n",
    "\n",
    "print(\"tempdf\")\n",
    "plt.figure()\n",
    "pd.value_counts(tempdf['include']).plot.bar(title=\"inclusion 0 vs 1\")\n",
    "plt.xlabel(\"inclusion\")\n",
    "plt.ylabel(\"number\")\n",
    "plt.show()\n",
    "\n",
    "print(\"valdf\")\n",
    "plt.figure()\n",
    "pd.value_counts(valdf['include']).plot.bar(title=\"inclusion 0 vs 1\")\n",
    "plt.xlabel(\"inclusion\")\n",
    "plt.ylabel(\"number\")\n",
    "plt.show()"
   ]
  },
  {
   "cell_type": "code",
   "execution_count": 12,
   "id": "8f70a7b2",
   "metadata": {},
   "outputs": [
    {
     "name": "stdout",
     "output_type": "stream",
     "text": [
      "traindf\n"
     ]
    },
    {
     "data": {
      "image/png": "[encoded data removed]",
      "text/plain": [
       "<Figure size 432x288 with 1 Axes>"
      ]
     },
     "metadata": {
      "needs_background": "light"
     },
     "output_type": "display_data"
    },
    {
     "name": "stdout",
     "output_type": "stream",
     "text": [
      "testdf\n"
     ]
    },
    {
     "data": {
      "image/png": "[encoded data removed]",
      "text/plain": [
       "<Figure size 432x288 with 1 Axes>"
      ]
     },
     "metadata": {
      "needs_background": "light"
     },
     "output_type": "display_data"
    }
   ],
   "source": [
    "traindf, testdf = train_test_split(tempdf, test_size=0.1, stratify=tempdf['include'])\n",
    "\n",
    "print(\"traindf\")\n",
    "plt.figure()\n",
    "pd.value_counts(traindf['include']).plot.bar(title=\"inclusion 0 vs 1\")\n",
    "plt.xlabel(\"inclusion\")\n",
    "plt.ylabel(\"number\")\n",
    "plt.show()\n",
    "\n",
    "print(\"testdf\")\n",
    "plt.figure()\n",
    "pd.value_counts(testdf['include']).plot.bar(title=\"inclusion 0 vs 1\")\n",
    "plt.xlabel(\"inclusion\")\n",
    "plt.ylabel(\"number\")\n",
    "plt.show()"
   ]
  },
  {
   "cell_type": "code",
   "execution_count": 13,
   "id": "ec566f88",
   "metadata": {
    "scrolled": true
   },
   "outputs": [
    {
     "data": {
      "text/html": [
       "<div>\n",
       "<style scoped>\n",
       "    .dataframe tbody tr th:only-of-type {\n",
       "        vertical-align: middle;\n",
       "    }\n",
       "\n",
       "    .dataframe tbody tr th {\n",
       "        vertical-align: top;\n",
       "    }\n",
       "\n",
       "    .dataframe thead th {\n",
       "        text-align: right;\n",
       "    }\n",
       "</style>\n",
       "<table border=\"1\" class=\"dataframe\">\n",
       "  <thead>\n",
       "    <tr style=\"text-align: right;\">\n",
       "      <th></th>\n",
       "      <th>include</th>\n",
       "      <th>feature</th>\n",
       "    </tr>\n",
       "  </thead>\n",
       "  <tbody>\n",
       "    <tr>\n",
       "      <th>7376</th>\n",
       "      <td>0</td>\n",
       "      <td>Mathematics reflecting sensorimotor organization. This review combines short presentations of several mathematical approaches that conceptualize issues in sensorimotor neuroscience from different perspectives and levels of analysis. The intricate organization of neural structures and sensorimotor performance calls for characterization using a variety of mathematical approaches. This review points out the prospects for mathematical neuroscience: in addition to computational approaches, there is a wide variety of mathematical approaches that provide insight into the organization of neural systems. By starting from the perspective that provides the greatest clarity, a mathematical approach avoids specificity that is inaccurate in characterizing the inherent biological organization. Approaches presented include the mathematics of ordered structures, motion-phase space, subject-coincident coordinates, equivalence classes, topological biodynamics, rhythm space metric, and conditional dynamics. Issues considered in this paper include unification of levels of analysis, response equivalence, convergence, relationship of physics to motor control, support of rhythms, state transitions, and focussing on low-dimensional subspaces of a high-dimensional sensorimotor space.</td>\n",
       "    </tr>\n",
       "    <tr>\n",
       "      <th>8905</th>\n",
       "      <td>0</td>\n",
       "      <td>Hypothesis test of mediation effect in causal mediation model with high-dimensional continuous mediators. Causal mediation modeling has become a popular approach for studying the effect of an exposure on an outcome through a mediator. However, current methods are not applicable to the setting with a large number of mediators. We propose a testing procedure for mediation effects of high-dimensional continuous mediators. We characterize the marginal mediation effect, the multivariate component-wise mediation effects, and the L2 norm of the component-wise effects, and develop a Monte-Carlo procedure for evaluating their statistical significance. To accommodate the setting with a large number of mediators and a small sample size, we further propose a transformation model using the spectral decomposition. Under the transformation model, mediation effects can be estimated using a series of regression models with a univariate transformed mediator, and examined by our proposed testing procedure. Extensive simulation studies are conducted to assess the performance of our methods for continuous and dichotomous outcomes. We apply the methods to analyze genomic data investigating the effect of microRNA miR-223 on a dichotomous survival status of patients with glioblastoma multiforme (GBM). We identify nine gene ontology sets with expression values that significantly mediate the effect of miR-223 on GBM survival.</td>\n",
       "    </tr>\n",
       "    <tr>\n",
       "      <th>4804</th>\n",
       "      <td>1</td>\n",
       "      <td>Heart Rate Monitoring using Sparse Spectral Curve Tracing. Heart rate (HR) monitoring under real-world activities of daily living conditions is challenging, particularly, using peripheral wearable devices integrated with simple optical and acceleration sensors. The study presents a novel technique, named as CurToSS: CURve Tracing On Sparse Spectrum, for continuous HR estimation in daily living activity conditions using simultaneous photoplethysmogram (PPG) and triaxial-acceleration signals. The performance validation of HR estimation using the CurToSS algorithm is conducted in four public databases with distinctive study groups, sensor types, and protocols involving intense physical and emotional exertions. The HR performance of this time-frequency curve tracing method is also compared to that of contemporary algorithms. The results suggest that the CurToSS method offers the best performance with significantly (P&lt;0.01) lowest HR error compared to spectral filtering and multi-channel PPG correlation methods. The current HR performances are also consistently better than a deep learning approach in diverse datasets. The proposed algorithm is powerful for reliable long-term HR monitoring under ambulatory daily life conditions using wearable biosensor devices.</td>\n",
       "    </tr>\n",
       "    <tr>\n",
       "      <th>8823</th>\n",
       "      <td>0</td>\n",
       "      <td>An overview of deep learning algorithms and water exchange in colonoscopy in improving adenoma detection. Introduction: Among the Gastrointestinal (GI) Endoscopy Editorial Board top 10 topics in advances in endoscopy in 2018, water exchange colonoscopy and artificial intelligence were both considered important advances. Artificial intelligence holds the potential to increase and water exchange significantly increases adenoma detection.Areas covered: The authors searched MEDLINE (1998-2019) using the following medical subject terms: water-aided, water-assisted and water exchange colonoscopy, adenoma, artificial intelligence, deep learning, computer-assisted detection, and neural networks. Additional related studies were manually searched from the reference lists of publications. Only fully published journal articles in English were reviewed. The latest date of the search was Aug10, 2019. Artificial intelligence, machine learning, and deep learning contribute to the promise of real-time computer-aided detection diagnosis. By emphasizing near-complete suction of infused water during insertion, water exchange provides salvage cleaning and decreases cleaning-related multi-tasking distractions during withdrawal, increasing adenoma detection. The review will address how artificial intelligence and water exchange can complement each other in improving adenoma detection during colonoscopy.Expert opinion: In 5 years, research on artificial intelligence will likely achieve real-time application and evaluation of factors contributing to quality colonoscopy. Better understanding and more widespread use of water exchange will be possible.</td>\n",
       "    </tr>\n",
       "    <tr>\n",
       "      <th>10364</th>\n",
       "      <td>0</td>\n",
       "      <td>DeepSpectra: An end-to-end deep learning approach for quantitative spectral analysis. Learning patterns from spectra is critical for the development of chemometric analysis of spectroscopic data. Conventional two-stage calibration approaches consist of data preprocessing and modeling analysis. Misuse of preprocessing may introduce artifacts or remove useful patterns and result in worse model performance. An end-to-end deep learning approach incorporated Inception module, named DeepSpectra, is presented to learn patterns from raw data to improve the model performance. DeepSpectra model is compared to three CNN models on the raw data, and 16 preprocessing approaches are included to evaluate the preprocessing impact by testing four open accessed visible and near infrared spectroscopic datasets (corn, tablets, wheat, and soil). DeepSpectra model outperforms the other three convolutional neural network models on four datasets and obtains better results on raw data than in preprocessed data for most scenarios. The model is compared with linear partial least square (PLS) and nonlinear artificial neural network (ANN) methods and support vector machine (SVR) on raw and preprocessed data. The results show that DeepSpectra approach provides improved results than conventional linear and nonlinear calibration approaches in most scenarios. The increased training samples can improve the model repeatability and accuracy.</td>\n",
       "    </tr>\n",
       "    <tr>\n",
       "      <th>2631</th>\n",
       "      <td>0</td>\n",
       "      <td>Learning-based structurally-guided construction of resting-state functional correlation tensors. Functional magnetic resonance imaging (fMRI) measures changes in blood-oxygenation-level-dependent (BOLD) signals to detect brain activities. It has been recently reported that the spatial correlation patterns of resting-state BOLD signals in the white matter (WM) also give WM information often measured by diffusion tensor imaging (DTI). These correlation patterns can be captured using functional correlation tensor (FCT), which is analogous to the diffusion tensor (DT) obtained from DTI. In this paper, we propose a noise-robust FCT method aiming at further improving its quality, and making it eligible for further neuroscience study. The novel FCT estimation method consists of three major steps: First, we estimate the initial FCT using a patch-based approach for BOLD signal correlation to improve the noise robustness. Second, by utilizing the relationship between functional and diffusion data, we employ a regression forest model to learn the mapping between the initial FCTs and the corresponding DTs using the training data. The learned forest can then be applied to predict the DTI-like tensors given the initial FCTs from the testing fMRI data. Third, we re-estimate the enhanced FCT by utilizing the DTI-like tensors as a feedback guidance to further improve FCT computation. We have demonstrated the utility of our enhanced FCTs in Alzheimer's disease (AD) diagnosis by identifying mild cognitive impairment (MCI) patients from normal subjects.</td>\n",
       "    </tr>\n",
       "    <tr>\n",
       "      <th>6707</th>\n",
       "      <td>1</td>\n",
       "      <td>Relative Afferent Pupillary Defect Screening Through Transfer Learning. Abnormalities in pupillary light reflex can indicate optic nerve disorders that may lead to permanent visual loss if not diagnosed in an early stage. In this study, we focus on relative afferent pupillary defect (RAPD), which is based on the difference between the reactions of the eyes when they are exposed to light stimuli. Incumbent RAPD assessment methods are based on subjective practices that can lead to unreliable measurements. To eliminate subjectivity and obtain reliable measurements, we introduced an automated framework to detect RAPD. For validation, we conducted a clinical study with lab-on-a-headset, which can perform automated light reflex test. In addition to benchmarking handcrafted algorithms, we proposed a transfer learning-based approach that transformed a deep learning-based generic object recognition algorithm into a pupil detector. Based on the conducted experiments, proposed algorithm RAPDNet can achieve a sensitivity and a specificity of 90.6% over 64 test cases in a balanced set, which corresponds to an AUC of 0.929 in ROC analysis. According to our benchmark with three handcrafted algorithms and nine performance metrics, RAPDNet outperforms all other algorithms in every performance category.</td>\n",
       "    </tr>\n",
       "    <tr>\n",
       "      <th>2466</th>\n",
       "      <td>0</td>\n",
       "      <td>High throughput phenotyping to accelerate crop breeding and monitoring of diseases in the field. Effective implementation of technology that facilitates accurate and high-throughput screening of thousands of field-grown lines is critical for accelerating crop improvement and breeding strategies for higher yield and disease tolerance. Progress in the development of field-based high throughput phenotyping methods has advanced considerably in the last 10 years through technological progress in sensor development and high-performance computing. Here, we review recent advances in high throughput field phenotyping technologies designed to inform the genetics of quantitative traits, including crop yield and disease tolerance. Successful application of phenotyping platforms to advance crop breeding and identify and monitor disease requires: (1) high resolution of imaging and environmental sensors; (2) quality data products that facilitate computer vision, machine learning and GIS; (3) capacity infrastructure for data management and analysis; and (4) automated environmental data collection. Accelerated breeding for agriculturally relevant crop traits is key to the development of improved varieties and is critically dependent on high-resolution, high-throughput field-scale phenotyping technologies that can efficiently discriminate better performing lines within a larger population and across multiple environments.</td>\n",
       "    </tr>\n",
       "    <tr>\n",
       "      <th>4751</th>\n",
       "      <td>0</td>\n",
       "      <td>Genomics and Machine Learning for Taxonomy Consensus: The Mycobacterium tuberculosis Complex Paradigm. Infra-species taxonomy is a prerequisite to compare features such as virulence in different pathogen lineages. Mycobacterium tuberculosis complex taxonomy has rapidly evolved in the last 20 years through intensive clinical isolation, advances in sequencing and in the description of fast-evolving loci (CRISPR and MIRU-VNTR). On-line tools to describe new isolates have been set up based on known diversity either on CRISPRs (also known as spoligotypes) or on MIRU-VNTR profiles. The underlying taxonomies are largely concordant but use different names and offer different depths. The objectives of this study were 1) to explicit the consensus that exists between the alternative taxonomies, and 2) to provide an on-line tool to ease classification of new isolates. Genotyping (24-VNTR, 43-spacers spoligotypes, IS6110-RFLP) was undertaken for 3,454 clinical isolates from the Netherlands (2004-2008). The resulting database was enlarged with African isolates to include most human tuberculosis diversity. Assignations were obtained using TB-Lineage, MIRU-VNTRPlus, SITVITWEB and an algorithm from Borile et al. By identifying the recurrent concordances between the alternative taxonomies, we proposed a consensus including 22 sublineages. Original and consensus assignations of the all isolates from the database were subsequently implemented into an ensemble learning approach based on Machine Learning tool Weka to derive a classification scheme. All assignations were reproduced with very good sensibilities and specificities. When applied to independent datasets, it was able to suggest new sublineages such as pseudo-Beijing. This Lineage Prediction tool, efficient on 15-MIRU, 24-VNTR and spoligotype data is available on the web interface \"TBminer.\" Another section of this website helps summarizing key molecular epidemiological data, easing tuberculosis surveillance. Altogether, we successfully used Machine Learning on a large dataset to set up and make available the first consensual taxonomy for human Mycobacterium tuberculosis complex. Additional developments using SNPs will help stabilizing it.</td>\n",
       "    </tr>\n",
       "    <tr>\n",
       "      <th>9314</th>\n",
       "      <td>0</td>\n",
       "      <td>Automated knowledge extraction from the UMLS. This paper presents our work in extracting disease-chemical relationship knowledge from the UMLS Co-occurrence table (MRCOC) using an automated method. We evaluated the quality of the knowledge from UMLS MRCOC by comparing it with knowledge from other sources: For disease-lab chemical relationships, knowledge was obtained from a decision support system (DXplain) and our own knowledge base of medical terminology (MED) through automated processes. For disease-drug chemical relationships, knowledge was manually acquired from the medical literature. Evaluations showed that the UMLS MRCOC knowledge has good sensitivity, especially regarding disease-drug relationships. We are using this knowledge to produce disease-specific views of patients' electronic patient record.</td>\n",
       "    </tr>\n",
       "  </tbody>\n",
       "</table>\n",
       "</div>"
      ],
      "text/plain": [
       "       include  \\\n",
       "7376         0   \n",
       "8905         0   \n",
       "4804         1   \n",
       "8823         0   \n",
       "10364        0   \n",
       "2631         0   \n",
       "6707         1   \n",
       "2466         0   \n",
       "4751         0   \n",
       "9314         0   \n",
       "\n",
       "                                                                                                                                                                                                                                                                                                                                                                                                                                                                                                                                                                                                                                                                                                                                                                                                                                                                                                                                                                                                                                                                                                                                                                                                                                                                                                                                                                                                                                                                                                                                                                                                                                                                                                                                                                                                                                                                                                                                                                                                                                                                                                                                                                                                                                                                                                       feature  \n",
       "7376                                                                                                                                                                                                                                                                                                                                                                                                                                                                                                                                                                                                                                                                                                                                                                                                                                                                                                                                                                            Mathematics reflecting sensorimotor organization. This review combines short presentations of several mathematical approaches that conceptualize issues in sensorimotor neuroscience from different perspectives and levels of analysis. The intricate organization of neural structures and sensorimotor performance calls for characterization using a variety of mathematical approaches. This review points out the prospects for mathematical neuroscience: in addition to computational approaches, there is a wide variety of mathematical approaches that provide insight into the organization of neural systems. By starting from the perspective that provides the greatest clarity, a mathematical approach avoids specificity that is inaccurate in characterizing the inherent biological organization. Approaches presented include the mathematics of ordered structures, motion-phase space, subject-coincident coordinates, equivalence classes, topological biodynamics, rhythm space metric, and conditional dynamics. Issues considered in this paper include unification of levels of analysis, response equivalence, convergence, relationship of physics to motor control, support of rhythms, state transitions, and focussing on low-dimensional subspaces of a high-dimensional sensorimotor space.  \n",
       "8905                                                                                                                                                                                                                                                                                                                                                                                                                                                                                                                                                                                                                                                                                                                                                                                                                           Hypothesis test of mediation effect in causal mediation model with high-dimensional continuous mediators. Causal mediation modeling has become a popular approach for studying the effect of an exposure on an outcome through a mediator. However, current methods are not applicable to the setting with a large number of mediators. We propose a testing procedure for mediation effects of high-dimensional continuous mediators. We characterize the marginal mediation effect, the multivariate component-wise mediation effects, and the L2 norm of the component-wise effects, and develop a Monte-Carlo procedure for evaluating their statistical significance. To accommodate the setting with a large number of mediators and a small sample size, we further propose a transformation model using the spectral decomposition. Under the transformation model, mediation effects can be estimated using a series of regression models with a univariate transformed mediator, and examined by our proposed testing procedure. Extensive simulation studies are conducted to assess the performance of our methods for continuous and dichotomous outcomes. We apply the methods to analyze genomic data investigating the effect of microRNA miR-223 on a dichotomous survival status of patients with glioblastoma multiforme (GBM). We identify nine gene ontology sets with expression values that significantly mediate the effect of miR-223 on GBM survival.  \n",
       "4804                                                                                                                                                                                                                                                                                                                                                                                                                                                                                                                                                                                                                                                                                                                                                                                                                                                                                                                                                                               Heart Rate Monitoring using Sparse Spectral Curve Tracing. Heart rate (HR) monitoring under real-world activities of daily living conditions is challenging, particularly, using peripheral wearable devices integrated with simple optical and acceleration sensors. The study presents a novel technique, named as CurToSS: CURve Tracing On Sparse Spectrum, for continuous HR estimation in daily living activity conditions using simultaneous photoplethysmogram (PPG) and triaxial-acceleration signals. The performance validation of HR estimation using the CurToSS algorithm is conducted in four public databases with distinctive study groups, sensor types, and protocols involving intense physical and emotional exertions. The HR performance of this time-frequency curve tracing method is also compared to that of contemporary algorithms. The results suggest that the CurToSS method offers the best performance with significantly (P<0.01) lowest HR error compared to spectral filtering and multi-channel PPG correlation methods. The current HR performances are also consistently better than a deep learning approach in diverse datasets. The proposed algorithm is powerful for reliable long-term HR monitoring under ambulatory daily life conditions using wearable biosensor devices.  \n",
       "8823                                                                                                                                                                                                                                                                                                                                                                                                                                                                                                                                                                                      An overview of deep learning algorithms and water exchange in colonoscopy in improving adenoma detection. Introduction: Among the Gastrointestinal (GI) Endoscopy Editorial Board top 10 topics in advances in endoscopy in 2018, water exchange colonoscopy and artificial intelligence were both considered important advances. Artificial intelligence holds the potential to increase and water exchange significantly increases adenoma detection.Areas covered: The authors searched MEDLINE (1998-2019) using the following medical subject terms: water-aided, water-assisted and water exchange colonoscopy, adenoma, artificial intelligence, deep learning, computer-assisted detection, and neural networks. Additional related studies were manually searched from the reference lists of publications. Only fully published journal articles in English were reviewed. The latest date of the search was Aug10, 2019. Artificial intelligence, machine learning, and deep learning contribute to the promise of real-time computer-aided detection diagnosis. By emphasizing near-complete suction of infused water during insertion, water exchange provides salvage cleaning and decreases cleaning-related multi-tasking distractions during withdrawal, increasing adenoma detection. The review will address how artificial intelligence and water exchange can complement each other in improving adenoma detection during colonoscopy.Expert opinion: In 5 years, research on artificial intelligence will likely achieve real-time application and evaluation of factors contributing to quality colonoscopy. Better understanding and more widespread use of water exchange will be possible.  \n",
       "10364                                                                                                                                                                                                                                                                                                                                                                                                                                                                                                                                                                                                                                                                                                                                                                                                                     DeepSpectra: An end-to-end deep learning approach for quantitative spectral analysis. Learning patterns from spectra is critical for the development of chemometric analysis of spectroscopic data. Conventional two-stage calibration approaches consist of data preprocessing and modeling analysis. Misuse of preprocessing may introduce artifacts or remove useful patterns and result in worse model performance. An end-to-end deep learning approach incorporated Inception module, named DeepSpectra, is presented to learn patterns from raw data to improve the model performance. DeepSpectra model is compared to three CNN models on the raw data, and 16 preprocessing approaches are included to evaluate the preprocessing impact by testing four open accessed visible and near infrared spectroscopic datasets (corn, tablets, wheat, and soil). DeepSpectra model outperforms the other three convolutional neural network models on four datasets and obtains better results on raw data than in preprocessed data for most scenarios. The model is compared with linear partial least square (PLS) and nonlinear artificial neural network (ANN) methods and support vector machine (SVR) on raw and preprocessed data. The results show that DeepSpectra approach provides improved results than conventional linear and nonlinear calibration approaches in most scenarios. The increased training samples can improve the model repeatability and accuracy.  \n",
       "2631                                                                                                                                                                                                                                                                                                                                                                                                                                                                                                                                                                                                                                                                                   Learning-based structurally-guided construction of resting-state functional correlation tensors. Functional magnetic resonance imaging (fMRI) measures changes in blood-oxygenation-level-dependent (BOLD) signals to detect brain activities. It has been recently reported that the spatial correlation patterns of resting-state BOLD signals in the white matter (WM) also give WM information often measured by diffusion tensor imaging (DTI). These correlation patterns can be captured using functional correlation tensor (FCT), which is analogous to the diffusion tensor (DT) obtained from DTI. In this paper, we propose a noise-robust FCT method aiming at further improving its quality, and making it eligible for further neuroscience study. The novel FCT estimation method consists of three major steps: First, we estimate the initial FCT using a patch-based approach for BOLD signal correlation to improve the noise robustness. Second, by utilizing the relationship between functional and diffusion data, we employ a regression forest model to learn the mapping between the initial FCTs and the corresponding DTs using the training data. The learned forest can then be applied to predict the DTI-like tensors given the initial FCTs from the testing fMRI data. Third, we re-estimate the enhanced FCT by utilizing the DTI-like tensors as a feedback guidance to further improve FCT computation. We have demonstrated the utility of our enhanced FCTs in Alzheimer's disease (AD) diagnosis by identifying mild cognitive impairment (MCI) patients from normal subjects.  \n",
       "6707                                                                                                                                                                                                                                                                                                                                                                                                                                                                                                                                                                                                                                                                                                                                                                                                                                                                                                                                                Relative Afferent Pupillary Defect Screening Through Transfer Learning. Abnormalities in pupillary light reflex can indicate optic nerve disorders that may lead to permanent visual loss if not diagnosed in an early stage. In this study, we focus on relative afferent pupillary defect (RAPD), which is based on the difference between the reactions of the eyes when they are exposed to light stimuli. Incumbent RAPD assessment methods are based on subjective practices that can lead to unreliable measurements. To eliminate subjectivity and obtain reliable measurements, we introduced an automated framework to detect RAPD. For validation, we conducted a clinical study with lab-on-a-headset, which can perform automated light reflex test. In addition to benchmarking handcrafted algorithms, we proposed a transfer learning-based approach that transformed a deep learning-based generic object recognition algorithm into a pupil detector. Based on the conducted experiments, proposed algorithm RAPDNet can achieve a sensitivity and a specificity of 90.6% over 64 test cases in a balanced set, which corresponds to an AUC of 0.929 in ROC analysis. According to our benchmark with three handcrafted algorithms and nine performance metrics, RAPDNet outperforms all other algorithms in every performance category.  \n",
       "2466                                                                                                                                                                                                                                                                                                                                                                                                                                                                                                                                                                                                                                                                                                                                                                                                                       High throughput phenotyping to accelerate crop breeding and monitoring of diseases in the field. Effective implementation of technology that facilitates accurate and high-throughput screening of thousands of field-grown lines is critical for accelerating crop improvement and breeding strategies for higher yield and disease tolerance. Progress in the development of field-based high throughput phenotyping methods has advanced considerably in the last 10 years through technological progress in sensor development and high-performance computing. Here, we review recent advances in high throughput field phenotyping technologies designed to inform the genetics of quantitative traits, including crop yield and disease tolerance. Successful application of phenotyping platforms to advance crop breeding and identify and monitor disease requires: (1) high resolution of imaging and environmental sensors; (2) quality data products that facilitate computer vision, machine learning and GIS; (3) capacity infrastructure for data management and analysis; and (4) automated environmental data collection. Accelerated breeding for agriculturally relevant crop traits is key to the development of improved varieties and is critically dependent on high-resolution, high-throughput field-scale phenotyping technologies that can efficiently discriminate better performing lines within a larger population and across multiple environments.  \n",
       "4751   Genomics and Machine Learning for Taxonomy Consensus: The Mycobacterium tuberculosis Complex Paradigm. Infra-species taxonomy is a prerequisite to compare features such as virulence in different pathogen lineages. Mycobacterium tuberculosis complex taxonomy has rapidly evolved in the last 20 years through intensive clinical isolation, advances in sequencing and in the description of fast-evolving loci (CRISPR and MIRU-VNTR). On-line tools to describe new isolates have been set up based on known diversity either on CRISPRs (also known as spoligotypes) or on MIRU-VNTR profiles. The underlying taxonomies are largely concordant but use different names and offer different depths. The objectives of this study were 1) to explicit the consensus that exists between the alternative taxonomies, and 2) to provide an on-line tool to ease classification of new isolates. Genotyping (24-VNTR, 43-spacers spoligotypes, IS6110-RFLP) was undertaken for 3,454 clinical isolates from the Netherlands (2004-2008). The resulting database was enlarged with African isolates to include most human tuberculosis diversity. Assignations were obtained using TB-Lineage, MIRU-VNTRPlus, SITVITWEB and an algorithm from Borile et al. By identifying the recurrent concordances between the alternative taxonomies, we proposed a consensus including 22 sublineages. Original and consensus assignations of the all isolates from the database were subsequently implemented into an ensemble learning approach based on Machine Learning tool Weka to derive a classification scheme. All assignations were reproduced with very good sensibilities and specificities. When applied to independent datasets, it was able to suggest new sublineages such as pseudo-Beijing. This Lineage Prediction tool, efficient on 15-MIRU, 24-VNTR and spoligotype data is available on the web interface \"TBminer.\" Another section of this website helps summarizing key molecular epidemiological data, easing tuberculosis surveillance. Altogether, we successfully used Machine Learning on a large dataset to set up and make available the first consensual taxonomy for human Mycobacterium tuberculosis complex. Additional developments using SNPs will help stabilizing it.  \n",
       "9314                                                                                                                                                                                                                                                                                                                                                                                                                                                                                                                                                                                                                                                                                                                                                                                                                                                                                                                                                                                                                                                                                                                                                                                                                                                                                                                                                                                                                                                       Automated knowledge extraction from the UMLS. This paper presents our work in extracting disease-chemical relationship knowledge from the UMLS Co-occurrence table (MRCOC) using an automated method. We evaluated the quality of the knowledge from UMLS MRCOC by comparing it with knowledge from other sources: For disease-lab chemical relationships, knowledge was obtained from a decision support system (DXplain) and our own knowledge base of medical terminology (MED) through automated processes. For disease-drug chemical relationships, knowledge was manually acquired from the medical literature. Evaluations showed that the UMLS MRCOC knowledge has good sensitivity, especially regarding disease-drug relationships. We are using this knowledge to produce disease-specific views of patients' electronic patient record.  "
      ]
     },
     "execution_count": 13,
     "metadata": {},
     "output_type": "execute_result"
    }
   ],
   "source": [
    "pd.set_option('display.max_colwidth', None)\n",
    "\n",
    "traindf.head(10)"
   ]
  },
  {
   "cell_type": "markdown",
   "id": "ac6dd023",
   "metadata": {},
   "source": [
    "## tensor wrappers\n",
    "\n",
    "from_tensor_slices creates a tensor wrapper that combines training features with labels"
   ]
  },
  {
   "cell_type": "code",
   "execution_count": 14,
   "id": "7c979686",
   "metadata": {},
   "outputs": [],
   "source": [
    "##TRAINING WRAPPER\n",
    "train_ds = tf.data.Dataset.from_tensor_slices((traindf['feature'].to_numpy().reshape(-1,1),\n",
    "                                               traindf['include'].to_numpy().reshape(-1,1)))"
   ]
  },
  {
   "cell_type": "code",
   "execution_count": 15,
   "id": "c2d8106a",
   "metadata": {},
   "outputs": [],
   "source": [
    "##VALIDATION WRAPPER\n",
    "val_ds = tf.data.Dataset.from_tensor_slices((valdf['feature'].to_numpy().reshape(-1,1),\n",
    "                                             valdf['include'].to_numpy().reshape(-1,1)))"
   ]
  },
  {
   "cell_type": "code",
   "execution_count": 16,
   "id": "04d07f57",
   "metadata": {},
   "outputs": [],
   "source": [
    "##TEST SET WRAPPER\n",
    "test_ds = tf.data.Dataset.from_tensor_slices((testdf['feature'].to_numpy().reshape(-1,1),\n",
    "                                              testdf['include'].to_numpy().reshape(-1,1)))"
   ]
  },
  {
   "cell_type": "markdown",
   "id": "f0c2c746-58c3-4af7-a0f2-9a6d0396f823",
   "metadata": {},
   "source": [
    "## Batch and optimise datasets"
   ]
  },
  {
   "cell_type": "code",
   "execution_count": 17,
   "id": "f695aeb6-8d01-421c-8145-c69d8021ba8f",
   "metadata": {},
   "outputs": [],
   "source": [
    "AUTOTUNE = tf.data.experimental.AUTOTUNE\n",
    "\n",
    "def configure_for_performance(ds):\n",
    "    ds = ds.cache()\n",
    "    ds = ds.shuffle(buffer_size=1000)\n",
    "    ds = ds.batch(batch_size)\n",
    "    ds = ds.prefetch(buffer_size=AUTOTUNE)\n",
    "    return ds"
   ]
  },
  {
   "cell_type": "code",
   "execution_count": 18,
   "id": "715291c4-dadf-4f48-8099-5cf2a0fd47f5",
   "metadata": {},
   "outputs": [],
   "source": [
    "batch_size = 8\n",
    "\n",
    "train_ds_batched = configure_for_performance(train_ds)\n",
    "val_ds_batched = configure_for_performance(val_ds)\n",
    "test_ds_batched = configure_for_performance(test_ds)"
   ]
  },
  {
   "cell_type": "markdown",
   "id": "3210971b",
   "metadata": {},
   "source": [
    "## Configuring BERT: 1) preprocessing 2) vectorization\n",
    "\n",
    "Code is largely adapted from here (also has links to other BERT libraries): https://www.tensorflow.org/text/tutorials/classify_text_with_bert"
   ]
  },
  {
   "cell_type": "code",
   "execution_count": 19,
   "id": "ea148a4b",
   "metadata": {},
   "outputs": [
    {
     "name": "stderr",
     "output_type": "stream",
     "text": [
      "INFO:absl:Using C:\\Users\\JOEZ~1\\AppData\\Local\\Temp\\tfhub_modules to cache modules.\n"
     ]
    }
   ],
   "source": [
    "# BERT model for vectorization\n",
    "\n",
    "bert_vec_model = 'experts_pubmed'\n",
    "\n",
    "map_name_to_handle = {\n",
    "    'experts_pubmed':\n",
    "        'https://tfhub.dev/google/experts/bert/pubmed/2',\n",
    "}\n",
    "\n",
    "tfhub_handle_encoder = map_name_to_handle[bert_vec_model]\n",
    "\n",
    "bert_model = hub.KerasLayer(tfhub_handle_encoder) #wraps this as a Keras layer"
   ]
  },
  {
   "cell_type": "code",
   "execution_count": 20,
   "id": "491e790f",
   "metadata": {},
   "outputs": [],
   "source": [
    "#BERT model for pre-processing\n",
    "\n",
    "map_model_to_preprocess = {\n",
    "    'experts_pubmed':\n",
    "        'https://tfhub.dev/tensorflow/bert_en_uncased_preprocess/3',\n",
    "}\n",
    "\n",
    "tfhub_handle_preprocess = map_model_to_preprocess[bert_vec_model]\n",
    "\n",
    "bert_preprocess_model = hub.KerasLayer(tfhub_handle_preprocess) #wraps this as a Keras layer"
   ]
  },
  {
   "cell_type": "code",
   "execution_count": 21,
   "id": "844c1475",
   "metadata": {},
   "outputs": [
    {
     "name": "stdout",
     "output_type": "stream",
     "text": [
      "BERT model selected: https://tfhub.dev/google/experts/bert/pubmed/2\n",
      "Pre-process model selected: https://tfhub.dev/tensorflow/bert_en_uncased_preprocess/3\n"
     ]
    }
   ],
   "source": [
    "print(f'BERT model selected: {tfhub_handle_encoder}')\n",
    "print(f'Pre-process model selected: {tfhub_handle_preprocess}')"
   ]
  },
  {
   "cell_type": "code",
   "execution_count": 22,
   "id": "52802f91",
   "metadata": {},
   "outputs": [
    {
     "name": "stdout",
     "output_type": "stream",
     "text": [
      "Keys       : ['input_type_ids', 'input_mask', 'input_word_ids']\n",
      "Shape      : (1, 128)\n",
      "Word Ids   : [  101  2023  7976  4454  2944 16014  2015 22935  3891  2013  9052 11522]\n",
      "Input Mask : [1 1 1 1 1 1 1 1 1 1 1 1]\n",
      "Type Ids   : [0 0 0 0 0 0 0 0 0 0 0 0]\n"
     ]
    }
   ],
   "source": [
    "#check bert_preprocess_model on test text - preprocessing should split tokens into word ids / mask /type\n",
    "\n",
    "text_test = ['This artificial intelligence model predicts cardiovascular risk from echocardiogram images']\n",
    "text_preprocessed = bert_preprocess_model(text_test)\n",
    "\n",
    "print(f'Keys       : {list(text_preprocessed.keys())}')\n",
    "print(f'Shape      : {text_preprocessed[\"input_word_ids\"].shape}')\n",
    "print(f'Word Ids   : {text_preprocessed[\"input_word_ids\"][0, :12]}')\n",
    "print(f'Input Mask : {text_preprocessed[\"input_mask\"][0, :12]}')\n",
    "print(f'Type Ids   : {text_preprocessed[\"input_type_ids\"][0, :12]}')"
   ]
  },
  {
   "cell_type": "code",
   "execution_count": 23,
   "id": "f0b09b7e",
   "metadata": {},
   "outputs": [
    {
     "name": "stdout",
     "output_type": "stream",
     "text": [
      "Loaded BERT: https://tfhub.dev/google/experts/bert/pubmed/2\n",
      "Pooled Outputs Shape:(1, 768)\n",
      "Pooled Outputs Values:[-0.32493797 -0.08269644  0.43817562 -0.00690068 -0.62928677  0.05597171\n",
      "  0.4818498   0.99116695  0.3956298  -0.67973065  0.58589137 -0.84271526]\n",
      "Sequence Outputs Shape:(1, 128, 768)\n",
      "Sequence Outputs Values:[[-0.33714035 -0.08289197  0.46994045 ...  0.90201384  0.09892417\n",
      "   0.4827702 ]\n",
      " [-0.43940446 -0.53751194  0.9816394  ... -0.1439727   0.04650824\n",
      "  -1.0800732 ]\n",
      " [-0.37110242  0.54176795  1.1818852  ...  0.6468271   1.2018124\n",
      "  -0.12319165]\n",
      " ...\n",
      " [-0.26433367  0.506499   -0.15520334 ... -0.1534574  -0.32176602\n",
      "   2.5074317 ]\n",
      " [ 1.027251    1.5112157   0.9053338  ...  0.43650022  0.8284113\n",
      "   0.36862728]\n",
      " [ 1.0718784   1.1523868   0.58389664 ...  0.7688351   0.5206408\n",
      "  -0.4710126 ]]\n"
     ]
    }
   ],
   "source": [
    "#check bert_model is functional for given inputs\n",
    "\n",
    "bert_results = bert_model(text_preprocessed)\n",
    "\n",
    "print(f'Loaded BERT: {tfhub_handle_encoder}')\n",
    "print(f'Pooled Outputs Shape:{bert_results[\"pooled_output\"].shape}')\n",
    "print(f'Pooled Outputs Values:{bert_results[\"pooled_output\"][0, :12]}')\n",
    "print(f'Sequence Outputs Shape:{bert_results[\"sequence_output\"].shape}')\n",
    "print(f'Sequence Outputs Values:{bert_results[\"sequence_output\"][0, :12]}')"
   ]
  },
  {
   "cell_type": "markdown",
   "id": "72a243c5",
   "metadata": {},
   "source": [
    "## Building BERT classifier pipeline\n",
    "\n",
    "This pipeline will: take raw data wrappers -> pre-process and encode with BERT (using Keraslayers defined above) -> classify using simple net"
   ]
  },
  {
   "cell_type": "code",
   "execution_count": 24,
   "id": "4c5d5e92",
   "metadata": {},
   "outputs": [],
   "source": [
    "def build_classifier_model(seq_length=512):\n",
    "\n",
    "    # Define input layer\n",
    "    text_input = tf.keras.layers.Input(shape=(), dtype=tf.string, name=\"text_input\")\n",
    "    \n",
    "    # Load the pretrained preprocessor\n",
    "    bert_preprocessor = hub.load(tfhub_handle_preprocess)\n",
    "    \n",
    "    # Tokenize the input text\n",
    "    tokenizer = hub.KerasLayer(bert_preprocessor.tokenize, name='tokenizer')\n",
    "    tokenized_inputs = [tokenizer(text_input)]\n",
    "\n",
    "    # Pack the tokenized input for the encoder\n",
    "    bert_pack_inputs = hub.KerasLayer(bert_preprocessor.bert_pack_inputs,\n",
    "                                      arguments=dict(seq_length=seq_length), name='packer')\n",
    "    \n",
    "    encoder_inputs = bert_pack_inputs(tokenized_inputs)\n",
    "    \n",
    "    #BERT encoding layer\n",
    "    encoder = hub.KerasLayer(tfhub_handle_encoder, trainable=True, name='BERT_encoder')\n",
    "    outputs = encoder(encoder_inputs)\n",
    "    \n",
    "    #Output layers\n",
    "    net = outputs['pooled_output']\n",
    "    net = tf.keras.layers.Dropout(0.1)(net)\n",
    "    net = tf.keras.layers.Dense(1, activation=None, name='classifier')(net)\n",
    "    \n",
    "    return tf.keras.Model(text_input, net)"
   ]
  },
  {
   "cell_type": "code",
   "execution_count": 25,
   "id": "5be1ea92",
   "metadata": {},
   "outputs": [
    {
     "name": "stdout",
     "output_type": "stream",
     "text": [
      "Model: \"model\"\n",
      "__________________________________________________________________________________________________\n",
      "Layer (type)                    Output Shape         Param #     Connected to                     \n",
      "==================================================================================================\n",
      "text_input (InputLayer)         [(None,)]            0                                            \n",
      "__________________________________________________________________________________________________\n",
      "tokenizer (KerasLayer)          (None, None, None)   0           text_input[0][0]                 \n",
      "__________________________________________________________________________________________________\n",
      "packer (KerasLayer)             {'input_mask': (None 0           tokenizer[0][0]                  \n",
      "__________________________________________________________________________________________________\n",
      "BERT_encoder (KerasLayer)       {'sequence_output':  109482241   packer[0][0]                     \n",
      "                                                                 packer[0][1]                     \n",
      "                                                                 packer[0][2]                     \n",
      "__________________________________________________________________________________________________\n",
      "dropout (Dropout)               (None, 768)          0           BERT_encoder[0][13]              \n",
      "__________________________________________________________________________________________________\n",
      "classifier (Dense)              (None, 1)            769         dropout[0][0]                    \n",
      "==================================================================================================\n",
      "Total params: 109,483,010\n",
      "Trainable params: 109,483,009\n",
      "Non-trainable params: 1\n",
      "__________________________________________________________________________________________________\n"
     ]
    }
   ],
   "source": [
    "classifier_model = build_classifier_model()\n",
    "\n",
    "classifier_model.summary()"
   ]
  },
  {
   "cell_type": "code",
   "execution_count": 26,
   "id": "94ccc5d7",
   "metadata": {},
   "outputs": [
    {
     "name": "stderr",
     "output_type": "stream",
     "text": [
      "INFO:absl:using Adamw optimizer\n",
      "INFO:absl:gradient_clip_norm=1.000000\n"
     ]
    },
    {
     "name": "stdout",
     "output_type": "stream",
     "text": [
      "1163\n",
      "3489\n",
      "348\n"
     ]
    }
   ],
   "source": [
    "#loss\n",
    "loss = tf.keras.losses.BinaryCrossentropy(from_logits=True)\n",
    "\n",
    "#metrics\n",
    "metrics = ['BinaryAccuracy']\n",
    "\n",
    "#epochs\n",
    "epochs = 3\n",
    "\n",
    "#optimization\n",
    "steps_per_epoch = tf.data.experimental.cardinality(train_ds_batched).numpy()\n",
    "print(steps_per_epoch)\n",
    "num_train_steps = steps_per_epoch * epochs\n",
    "print(num_train_steps)\n",
    "num_warmup_steps = int(0.1*num_train_steps)\n",
    "print(num_warmup_steps)\n",
    "init_lr = 1e-5\n",
    "\n",
    "optimizer = optimization.create_optimizer(init_lr=init_lr,\n",
    "                                          num_train_steps=num_train_steps,\n",
    "                                          num_warmup_steps=num_warmup_steps,\n",
    "                                          optimizer_type='adamw')\n",
    "\n",
    "\n",
    "# models.optimization dependent on tf-official-models, which depends on pycococo which does not install on windows without workaround:\n",
    "# https://github.com/philferriere/cocoapi\n",
    "# 1) upgrade visual basic to 2019 and install C++ tools in that library\n",
    "# 2) install pycococo using direct from git installation in the github link (may need git library first)\n",
    "# 3) then install tf-official-models using pip\n",
    "\n",
    "##alternative optimizer\n",
    "#optimizer = tf.keras.optimizers.Adam(learning_rate=0.001, beta_1=0.9, beta_2=0.999, epsilon=1e-07, amsgrad=False,\n",
    "#                                        name='Adam'\n",
    "#                                        )"
   ]
  },
  {
   "cell_type": "code",
   "execution_count": 27,
   "id": "55f95b05",
   "metadata": {},
   "outputs": [],
   "source": [
    "classifier_model.compile(optimizer=optimizer,\n",
    "                         loss=loss,\n",
    "                         metrics=metrics)"
   ]
  },
  {
   "cell_type": "markdown",
   "id": "64560f20",
   "metadata": {},
   "source": [
    "## Fit classifier model"
   ]
  },
  {
   "cell_type": "code",
   "execution_count": 28,
   "id": "f5e6995b",
   "metadata": {},
   "outputs": [
    {
     "name": "stdout",
     "output_type": "stream",
     "text": [
      "Training model with https://tfhub.dev/google/experts/bert/pubmed/2\n",
      "Epoch 1/3\n",
      "1163/1163 [==============================] - 376s 312ms/step - loss: 0.2368 - binary_accuracy: 0.9098 - val_loss: 0.1632 - val_binary_accuracy: 0.9564\n",
      "Epoch 2/3\n",
      "1163/1163 [==============================] - 360s 310ms/step - loss: 0.0991 - binary_accuracy: 0.9709 - val_loss: 0.1707 - val_binary_accuracy: 0.9625\n",
      "Epoch 3/3\n",
      "1163/1163 [==============================] - 363s 312ms/step - loss: 0.0449 - binary_accuracy: 0.9876 - val_loss: 0.1366 - val_binary_accuracy: 0.9765\n"
     ]
    }
   ],
   "source": [
    "print(f'Training model with {tfhub_handle_encoder}')\n",
    "history = classifier_model.fit(x=train_ds_batched,\n",
    "                               validation_data=val_ds_batched,\n",
    "                               epochs=epochs\n",
    "                               )"
   ]
  },
  {
   "cell_type": "code",
   "execution_count": 29,
   "id": "a02c8de2",
   "metadata": {},
   "outputs": [
    {
     "name": "stdout",
     "output_type": "stream",
     "text": [
      "dict_keys(['loss', 'binary_accuracy', 'val_loss', 'val_binary_accuracy'])\n"
     ]
    },
    {
     "data": {
      "text/plain": [
       "<matplotlib.legend.Legend at 0x245183b5670>"
      ]
     },
     "execution_count": 29,
     "metadata": {},
     "output_type": "execute_result"
    },
    {
     "data": {
      "image/png": "[encoded data removed]",
      "text/plain": [
       "<Figure size 720x432 with 2 Axes>"
      ]
     },
     "metadata": {
      "needs_background": "light"
     },
     "output_type": "display_data"
    }
   ],
   "source": [
    "history_dict = history.history\n",
    "print(history_dict.keys())\n",
    "\n",
    "acc = history_dict['binary_accuracy']\n",
    "val_acc = history_dict['val_binary_accuracy']\n",
    "loss = history_dict['loss']\n",
    "val_loss = history_dict['val_loss']\n",
    "\n",
    "epochs = range(1, len(acc) + 1)\n",
    "fig = plt.figure(figsize=(10, 6))\n",
    "fig.tight_layout()\n",
    "\n",
    "plt.subplot(2, 1, 1)\n",
    "# \"bo\" is for \"blue dot\"\n",
    "plt.plot(epochs, loss, 'r', label='Training loss')\n",
    "# b is for \"solid blue line\"\n",
    "plt.plot(epochs, val_loss, 'b', label='Validation loss')\n",
    "plt.title('Training and validation loss')\n",
    "# plt.xlabel('Epochs')\n",
    "plt.ylabel('Loss')\n",
    "plt.legend()\n",
    "\n",
    "plt.subplot(2, 1, 2)\n",
    "plt.plot(epochs, acc, 'r', label='Training acc')\n",
    "plt.plot(epochs, val_acc, 'b', label='Validation acc')\n",
    "plt.title('Training and validation accuracy')\n",
    "plt.xlabel('Epochs')\n",
    "plt.ylabel('Accuracy')\n",
    "plt.legend(loc='lower right')"
   ]
  },
  {
   "cell_type": "code",
   "execution_count": 30,
   "id": "6df4710f",
   "metadata": {},
   "outputs": [
    {
     "name": "stdout",
     "output_type": "stream",
     "text": [
      "1034/1034 [==============================] - 30s 28ms/step - loss: 0.1377 - binary_accuracy: 0.9749\n",
      "Loss: 0.13769611716270447\n",
      "Accuracy: 0.9748549461364746\n"
     ]
    }
   ],
   "source": [
    "##re-test on test_ds\n",
    "\n",
    "loss, accuracy = classifier_model.evaluate(test_ds)\n",
    "\n",
    "print(f'Loss: {loss}')\n",
    "print(f'Accuracy: {accuracy}')"
   ]
  },
  {
   "cell_type": "code",
   "execution_count": 31,
   "id": "acc66591-4490-4b6a-bdd7-f30057f50bdf",
   "metadata": {},
   "outputs": [],
   "source": [
    "y_pred = classifier_model.predict(testdf['feature'])\n",
    "y_pred = y_pred.reshape(1034)\n",
    "y_pred = np.asarray(tf.round(tf.nn.sigmoid(y_pred)))"
   ]
  },
  {
   "cell_type": "code",
   "execution_count": 32,
   "id": "1f3c603d-254f-4121-bd73-a6e8b4a5f267",
   "metadata": {},
   "outputs": [],
   "source": [
    "from sklearn.metrics import classification_report, confusion_matrix, ConfusionMatrixDisplay"
   ]
  },
  {
   "cell_type": "code",
   "execution_count": 33,
   "id": "9bf9f363-e210-43ba-8d3b-761f214856d0",
   "metadata": {},
   "outputs": [
    {
     "name": "stdout",
     "output_type": "stream",
     "text": [
      "              precision    recall  f1-score   support\n",
      "\n",
      "           0       0.99      0.98      0.98       829\n",
      "           1       0.93      0.95      0.94       205\n",
      "\n",
      "    accuracy                           0.97      1034\n",
      "   macro avg       0.96      0.96      0.96      1034\n",
      "weighted avg       0.98      0.97      0.97      1034\n",
      "\n"
     ]
    }
   ],
   "source": [
    "print(classification_report(testdf['include'], y_pred))"
   ]
  },
  {
   "cell_type": "code",
   "execution_count": 34,
   "id": "9c6df07c-15bc-4d67-92a3-d1b0e47b13fa",
   "metadata": {},
   "outputs": [
    {
     "data": {
      "text/plain": [
       "<sklearn.metrics._plot.confusion_matrix.ConfusionMatrixDisplay at 0x2451f4654f0>"
      ]
     },
     "execution_count": 34,
     "metadata": {},
     "output_type": "execute_result"
    },
    {
     "data": {
      "image/png": "[encoded data removed]",
      "text/plain": [
       "<Figure size 432x288 with 2 Axes>"
      ]
     },
     "metadata": {
      "needs_background": "light"
     },
     "output_type": "display_data"
    }
   ],
   "source": [
    "cm = ConfusionMatrixDisplay(confusion_matrix(testdf['include'], y_pred))\n",
    "\n",
    "cm.plot()"
   ]
  },
  {
   "cell_type": "code",
   "execution_count": 35,
   "id": "8651328d-4910-403e-87da-d7bdb5738719",
   "metadata": {},
   "outputs": [
    {
     "name": "stderr",
     "output_type": "stream",
     "text": [
      "C:\\Users\\Joe Z\\anaconda3\\envs\\tensorflow\\lib\\site-packages\\pandas\\core\\frame.py:3607: SettingWithCopyWarning: \n",
      "A value is trying to be set on a copy of a slice from a DataFrame.\n",
      "Try using .loc[row_indexer,col_indexer] = value instead\n",
      "\n",
      "See the caveats in the documentation: https://pandas.pydata.org/pandas-docs/stable/user_guide/indexing.html#returning-a-view-versus-a-copy\n",
      "  self._set_item(key, value)\n"
     ]
    }
   ],
   "source": [
    "testdf.loc[:,'predicted'] = np.asarray(y_pred)"
   ]
  },
  {
   "cell_type": "code",
   "execution_count": 36,
   "id": "8f6668f0-9ee2-4c8f-9d2b-baa825b4cfd3",
   "metadata": {},
   "outputs": [
    {
     "data": {
      "text/plain": [
       "(1034,)"
      ]
     },
     "execution_count": 36,
     "metadata": {},
     "output_type": "execute_result"
    }
   ],
   "source": [
    "np.asarray(y_pred).shape"
   ]
  },
  {
   "cell_type": "code",
   "execution_count": 37,
   "id": "924c0ae5-2c79-492f-9b44-55b244798721",
   "metadata": {},
   "outputs": [],
   "source": [
    "misclassified = testdf[testdf.include != testdf.predicted]\n",
    "misclassified.to_csv('bert_misclassified.csv')"
   ]
  },
  {
   "cell_type": "code",
   "execution_count": 38,
   "id": "30e370d7",
   "metadata": {},
   "outputs": [
    {
     "ename": "ModuleNotFoundError",
     "evalue": "No module named 'finish_early'",
     "output_type": "error",
     "traceback": [
      "\u001b[1;31m---------------------------------------------------------------------------\u001b[0m",
      "\u001b[1;31mModuleNotFoundError\u001b[0m                       Traceback (most recent call last)",
      "\u001b[1;32mC:\\Users\\JOEZ~1\\AppData\\Local\\Temp/ipykernel_24060/1233437135.py\u001b[0m in \u001b[0;36m<module>\u001b[1;34m\u001b[0m\n\u001b[1;32m----> 1\u001b[1;33m \u001b[1;32mimport\u001b[0m \u001b[0mfinish_early\u001b[0m \u001b[1;32mas\u001b[0m \u001b[0mnow\u001b[0m\u001b[1;33m\u001b[0m\u001b[1;33m\u001b[0m\u001b[0m\n\u001b[0m",
      "\u001b[1;31mModuleNotFoundError\u001b[0m: No module named 'finish_early'"
     ]
    }
   ],
   "source": [
    "import finish_early as now"
   ]
  },
  {
   "cell_type": "markdown",
   "id": "d488f8ca",
   "metadata": {},
   "source": [
    "## Save model"
   ]
  },
  {
   "cell_type": "code",
   "execution_count": 39,
   "id": "0231517b",
   "metadata": {},
   "outputs": [
    {
     "name": "stderr",
     "output_type": "stream",
     "text": [
      "WARNING:absl:Found untraced functions such as restored_function_body, restored_function_body, restored_function_body, restored_function_body, restored_function_body while saving (showing 5 of 900). These functions will not be directly callable after loading.\n"
     ]
    }
   ],
   "source": [
    "#EXPORT MODEL\n",
    "\n",
    "saved_model_path = 'models/ai_literature_bert'\n",
    "\n",
    "classifier_model.save(saved_model_path, include_optimizer=False)"
   ]
  },
  {
   "cell_type": "code",
   "execution_count": null,
   "id": "c1340800",
   "metadata": {},
   "outputs": [],
   "source": [
    "#EXPORT MODEL2\n",
    "#\n",
    "#saved_model_path = 'models/ai_literature_bert_optimizer'\n",
    "#\n",
    "#classifier_model.save(saved_model_path, include_optimizer=True)"
   ]
  },
  {
   "cell_type": "code",
   "execution_count": null,
   "id": "801474d5",
   "metadata": {},
   "outputs": [],
   "source": []
  }
 ],
 "metadata": {
  "kernelspec": {
   "display_name": "Python 3 (ipykernel)",
   "language": "python",
   "name": "python3"
  },
  "language_info": {
   "codemirror_mode": {
    "name": "ipython",
    "version": 3
   },
   "file_extension": ".py",
   "mimetype": "text/x-python",
   "name": "python",
   "nbconvert_exporter": "python",
   "pygments_lexer": "ipython3",
   "version": "3.9.5"
  }
 },
 "nbformat": 4,
 "nbformat_minor": 5
}
