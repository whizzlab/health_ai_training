{
 "cells": [
  {
   "cell_type": "code",
   "execution_count": 1,
   "id": "d0d403c7",
   "metadata": {},
   "outputs": [],
   "source": [
    "import os\n",
    "import shutil\n",
    "import sys\n",
    "from tqdm import tqdm\n",
    "\n",
    "import tensorflow as tf\n",
    "import tensorflow_hub as hub\n",
    "import tensorflow_text as text\n",
    "from official.nlp import optimization  # to create AdamW optimizer\n",
    "\n",
    "tf.get_logger().setLevel('ERROR')"
   ]
  },
  {
   "cell_type": "code",
   "execution_count": 2,
   "id": "d6838b41",
   "metadata": {},
   "outputs": [],
   "source": [
    "import pandas as pd\n",
    "import numpy as np\n",
    "import matplotlib.pyplot as plt\n",
    "import seaborn as sns\n",
    "import re\n",
    "import nltk\n",
    "\n",
    "#for BERT\n",
    "import transformers"
   ]
  },
  {
   "cell_type": "code",
   "execution_count": 3,
   "id": "4510e657",
   "metadata": {},
   "outputs": [
    {
     "name": "stdout",
     "output_type": "stream",
     "text": [
      "[name: \"/device:CPU:0\"\n",
      "device_type: \"CPU\"\n",
      "memory_limit: 268435456\n",
      "locality {\n",
      "}\n",
      "incarnation: 13232044890594622560\n",
      ", name: \"/device:GPU:0\"\n",
      "device_type: \"GPU\"\n",
      "memory_limit: 10200748032\n",
      "locality {\n",
      "  bus_id: 1\n",
      "  links {\n",
      "  }\n",
      "}\n",
      "incarnation: 11713221639265085995\n",
      "physical_device_desc: \"device: 0, name: NVIDIA GeForce RTX 3090, pci bus id: 0000:01:00.0, compute capability: 8.6\"\n",
      "]\n",
      "2.5.0\n"
     ]
    }
   ],
   "source": [
    "from tensorflow.python.client import device_lib\n",
    "print(device_lib.list_local_devices())\n",
    "print(tf.__version__)"
   ]
  },
  {
   "cell_type": "code",
   "execution_count": 4,
   "id": "575ce426",
   "metadata": {},
   "outputs": [],
   "source": [
    "# GPU options to limit OOM erors\n",
    "physical_devices = tf.config.experimental.list_physical_devices('GPU')\n",
    "tf.config.experimental.set_memory_growth(physical_devices[0], True)"
   ]
  },
  {
   "cell_type": "markdown",
   "id": "862bb192",
   "metadata": {},
   "source": [
    "## Reload model"
   ]
  },
  {
   "cell_type": "code",
   "execution_count": 5,
   "id": "e03214bc",
   "metadata": {},
   "outputs": [],
   "source": [
    "#RELOAD MODEL\n",
    "\n",
    "saved_model_path = 'models/maturity_bert'\n",
    "\n",
    "reloaded_model = tf.saved_model.load(saved_model_path)"
   ]
  },
  {
   "cell_type": "code",
   "execution_count": 6,
   "id": "40e5e78d",
   "metadata": {},
   "outputs": [
    {
     "data": {
      "text/plain": [
       "<tensorflow.python.saved_model.load.Loader._recreate_base_user_object.<locals>._UserObject at 0x1ba178ede80>"
      ]
     },
     "execution_count": 6,
     "metadata": {},
     "output_type": "execute_result"
    }
   ],
   "source": [
    "reloaded_model"
   ]
  },
  {
   "cell_type": "markdown",
   "id": "4960d6e2",
   "metadata": {},
   "source": [
    "## Label data subset for further round of active learning"
   ]
  },
  {
   "cell_type": "code",
   "execution_count": 8,
   "id": "fae69321",
   "metadata": {},
   "outputs": [],
   "source": [
    "complete = pd.read_csv('data/inclusions.csv', index_col=0)"
   ]
  },
  {
   "cell_type": "code",
   "execution_count": 9,
   "id": "db8f2fe5",
   "metadata": {},
   "outputs": [
    {
     "data": {
      "text/html": [
       "<div>\n",
       "<style scoped>\n",
       "    .dataframe tbody tr th:only-of-type {\n",
       "        vertical-align: middle;\n",
       "    }\n",
       "\n",
       "    .dataframe tbody tr th {\n",
       "        vertical-align: top;\n",
       "    }\n",
       "\n",
       "    .dataframe thead th {\n",
       "        text-align: right;\n",
       "    }\n",
       "</style>\n",
       "<table border=\"1\" class=\"dataframe\">\n",
       "  <thead>\n",
       "    <tr style=\"text-align: right;\">\n",
       "      <th></th>\n",
       "      <th>pmid</th>\n",
       "      <th>feature</th>\n",
       "    </tr>\n",
       "  </thead>\n",
       "  <tbody>\n",
       "    <tr>\n",
       "      <th>161490</th>\n",
       "      <td>9456211</td>\n",
       "      <td>Neural network assessment of perioperative car...</td>\n",
       "    </tr>\n",
       "    <tr>\n",
       "      <th>161496</th>\n",
       "      <td>9453525</td>\n",
       "      <td>TACHY: an expert system for the management of ...</td>\n",
       "    </tr>\n",
       "    <tr>\n",
       "      <th>161502</th>\n",
       "      <td>9450258</td>\n",
       "      <td>Detection of ECG waveforms by neural networks....</td>\n",
       "    </tr>\n",
       "    <tr>\n",
       "      <th>161506</th>\n",
       "      <td>9445150</td>\n",
       "      <td>Neural network analysis of breast cancer from ...</td>\n",
       "    </tr>\n",
       "    <tr>\n",
       "      <th>161507</th>\n",
       "      <td>9440819</td>\n",
       "      <td>Automated classification of patients with chro...</td>\n",
       "    </tr>\n",
       "    <tr>\n",
       "      <th>161510</th>\n",
       "      <td>9438272</td>\n",
       "      <td>On the use of neural network techniques to ana...</td>\n",
       "    </tr>\n",
       "    <tr>\n",
       "      <th>161511</th>\n",
       "      <td>9438271</td>\n",
       "      <td>Analysis of quantitative EEG with artificial n...</td>\n",
       "    </tr>\n",
       "    <tr>\n",
       "      <th>161513</th>\n",
       "      <td>9436967</td>\n",
       "      <td>Neural networks as a prognostic tool for patie...</td>\n",
       "    </tr>\n",
       "    <tr>\n",
       "      <th>161517</th>\n",
       "      <td>9430460</td>\n",
       "      <td>Automated interpretation of myocardial SPECT p...</td>\n",
       "    </tr>\n",
       "    <tr>\n",
       "      <th>161524</th>\n",
       "      <td>9423655</td>\n",
       "      <td>Acute pulmonary embolism: cost-effectiveness a...</td>\n",
       "    </tr>\n",
       "  </tbody>\n",
       "</table>\n",
       "</div>"
      ],
      "text/plain": [
       "           pmid                                            feature\n",
       "161490  9456211  Neural network assessment of perioperative car...\n",
       "161496  9453525  TACHY: an expert system for the management of ...\n",
       "161502  9450258  Detection of ECG waveforms by neural networks....\n",
       "161506  9445150  Neural network analysis of breast cancer from ...\n",
       "161507  9440819  Automated classification of patients with chro...\n",
       "161510  9438272  On the use of neural network techniques to ana...\n",
       "161511  9438271  Analysis of quantitative EEG with artificial n...\n",
       "161513  9436967  Neural networks as a prognostic tool for patie...\n",
       "161517  9430460  Automated interpretation of myocardial SPECT p...\n",
       "161524  9423655  Acute pulmonary embolism: cost-effectiveness a..."
      ]
     },
     "execution_count": 9,
     "metadata": {},
     "output_type": "execute_result"
    }
   ],
   "source": [
    "labeldf = complete[['pmid', 'feature']].copy()\n",
    "labeldf.tail(10)"
   ]
  },
  {
   "cell_type": "code",
   "execution_count": 10,
   "id": "675e5597",
   "metadata": {},
   "outputs": [
    {
     "data": {
      "text/html": [
       "<div>\n",
       "<style scoped>\n",
       "    .dataframe tbody tr th:only-of-type {\n",
       "        vertical-align: middle;\n",
       "    }\n",
       "\n",
       "    .dataframe tbody tr th {\n",
       "        vertical-align: top;\n",
       "    }\n",
       "\n",
       "    .dataframe thead th {\n",
       "        text-align: right;\n",
       "    }\n",
       "</style>\n",
       "<table border=\"1\" class=\"dataframe\">\n",
       "  <thead>\n",
       "    <tr style=\"text-align: right;\">\n",
       "      <th></th>\n",
       "      <th>pmid</th>\n",
       "      <th>feature</th>\n",
       "    </tr>\n",
       "  </thead>\n",
       "  <tbody>\n",
       "    <tr>\n",
       "      <th>31873</th>\n",
       "      <td>32729810</td>\n",
       "      <td>NaN</td>\n",
       "    </tr>\n",
       "  </tbody>\n",
       "</table>\n",
       "</div>"
      ],
      "text/plain": [
       "           pmid feature\n",
       "31873  32729810     NaN"
      ]
     },
     "execution_count": 10,
     "metadata": {},
     "output_type": "execute_result"
    }
   ],
   "source": [
    "labeldf[labeldf['feature'].isna()]"
   ]
  },
  {
   "cell_type": "code",
   "execution_count": 11,
   "id": "af082ac8",
   "metadata": {},
   "outputs": [
    {
     "data": {
      "text/html": [
       "<div>\n",
       "<style scoped>\n",
       "    .dataframe tbody tr th:only-of-type {\n",
       "        vertical-align: middle;\n",
       "    }\n",
       "\n",
       "    .dataframe tbody tr th {\n",
       "        vertical-align: top;\n",
       "    }\n",
       "\n",
       "    .dataframe thead th {\n",
       "        text-align: right;\n",
       "    }\n",
       "</style>\n",
       "<table border=\"1\" class=\"dataframe\">\n",
       "  <thead>\n",
       "    <tr style=\"text-align: right;\">\n",
       "      <th></th>\n",
       "      <th>pmid</th>\n",
       "      <th>feature</th>\n",
       "    </tr>\n",
       "  </thead>\n",
       "  <tbody>\n",
       "  </tbody>\n",
       "</table>\n",
       "</div>"
      ],
      "text/plain": [
       "Empty DataFrame\n",
       "Columns: [pmid, feature]\n",
       "Index: []"
      ]
     },
     "execution_count": 11,
     "metadata": {},
     "output_type": "execute_result"
    }
   ],
   "source": [
    "labeldf.dropna(subset=['feature'], inplace=True)\n",
    "labeldf[labeldf['feature'].isna()]"
   ]
  },
  {
   "cell_type": "code",
   "execution_count": 12,
   "id": "0072007f-3b05-42f6-9ceb-bf57ee5bedd3",
   "metadata": {},
   "outputs": [
    {
     "name": "stdout",
     "output_type": "stream",
     "text": [
      "<class 'pandas.core.frame.DataFrame'>\n",
      "Int64Index: 32472 entries, 0 to 161524\n",
      "Data columns (total 2 columns):\n",
      " #   Column   Non-Null Count  Dtype \n",
      "---  ------   --------------  ----- \n",
      " 0   pmid     32472 non-null  int64 \n",
      " 1   feature  32472 non-null  object\n",
      "dtypes: int64(1), object(1)\n",
      "memory usage: 761.1+ KB\n"
     ]
    }
   ],
   "source": [
    "labeldf.info()"
   ]
  },
  {
   "cell_type": "code",
   "execution_count": 13,
   "id": "e5c373d2-5661-4b76-86b5-845f4878cbcf",
   "metadata": {},
   "outputs": [],
   "source": [
    "def label_unlabelled(df, feature_column = 'feature', model=reloaded_model, number_to_label='all', cpu_labelling=False, chunk_size=100):\n",
    "    \n",
    "    # Either use the whole df, random sample of size specified or a list of indices\n",
    "    if number_to_label == 'all':\n",
    "        labelled_df = df[feature_column].copy()\n",
    "        \n",
    "    elif isinstance(number_to_label, list):\n",
    "        labelled_df = df.loc[number_to_label, feature_column].copy()\n",
    "        \n",
    "    else:\n",
    "        assert isinstance(number_to_label, int), \"Number to label must be 'all' or an integer subset to label\"\n",
    "        assert number_to_label < len(df), \"When specifying a subset to label, must be less than the total number of samples\"\n",
    "        labelled_df = df[feature_column].sample(number_to_label).copy()\n",
    "        \n",
    "    # Add a column to the DF for labels\n",
    "    labelled_df = labelled_df.to_frame()\n",
    "    labelled_df['include'] = np.nan \n",
    "    \n",
    "    # Decide what device we want TF to use\n",
    "    if cpu_labelling:\n",
    "        device = '/cpu:0'\n",
    "        print(\"Labelling with CPU...\")\n",
    "    else:\n",
    "        device = '/gpu:0'\n",
    "        print(\"Labelling with GPU...\")\n",
    "     \n",
    "    # Label by specified chunk size\n",
    "    with tqdm(total=len(labelled_df), file=sys.stdout) as pbar:\n",
    "        for chunk_i in range(0, len(labelled_df.index), chunk_size):\n",
    "            \n",
    "            chunk = labelled_df.index[chunk_i:chunk_i + chunk_size]\n",
    "        \n",
    "            try:\n",
    "                with tf.device(device):\n",
    "                    labels = tf.sigmoid(model(tf.constant(labelled_df.loc[chunk, 'feature'])))\n",
    "                labelled_df.loc[chunk, 'include'] = labels\n",
    "                pbar.update(len(chunk))\n",
    "            except Exception as e:\n",
    "                print(e)\n",
    "                print(\"Returning (possibly) partially labelled dataset...\")\n",
    "                return labelled_df\n",
    "                break\n",
    "            \n",
    "    return labelled_df"
   ]
  },
  {
   "cell_type": "code",
   "execution_count": 14,
   "id": "fa0263ad-40f1-42cf-9f5e-7928f9f7bf7c",
   "metadata": {},
   "outputs": [
    {
     "name": "stdout",
     "output_type": "stream",
     "text": [
      "Labelling with GPU...\n",
      "100%|████████████████████████████████████████████████████████████████████████████| 32472/32472 [06:43<00:00, 80.51it/s]\n"
     ]
    }
   ],
   "source": [
    "labelled = label_unlabelled(labeldf, number_to_label='all', cpu_labelling=False, chunk_size=50)"
   ]
  },
  {
   "cell_type": "code",
   "execution_count": 15,
   "id": "496dbd2b-1b2a-4c20-b401-7ce855c838b7",
   "metadata": {},
   "outputs": [
    {
     "data": {
      "text/html": [
       "<div>\n",
       "<style scoped>\n",
       "    .dataframe tbody tr th:only-of-type {\n",
       "        vertical-align: middle;\n",
       "    }\n",
       "\n",
       "    .dataframe tbody tr th {\n",
       "        vertical-align: top;\n",
       "    }\n",
       "\n",
       "    .dataframe thead th {\n",
       "        text-align: right;\n",
       "    }\n",
       "</style>\n",
       "<table border=\"1\" class=\"dataframe\">\n",
       "  <thead>\n",
       "    <tr style=\"text-align: right;\">\n",
       "      <th></th>\n",
       "      <th>feature</th>\n",
       "      <th>include</th>\n",
       "    </tr>\n",
       "  </thead>\n",
       "  <tbody>\n",
       "    <tr>\n",
       "      <th>323</th>\n",
       "      <td>Automated Left Ventricle Ischemic Scar Detecti...</td>\n",
       "      <td>0.615293</td>\n",
       "    </tr>\n",
       "    <tr>\n",
       "      <th>548</th>\n",
       "      <td>Deep Learning for Basal Cell Carcinoma Detecti...</td>\n",
       "      <td>0.869935</td>\n",
       "    </tr>\n",
       "    <tr>\n",
       "      <th>833</th>\n",
       "      <td>Deep learning segmentation of transverse muscu...</td>\n",
       "      <td>0.155160</td>\n",
       "    </tr>\n",
       "    <tr>\n",
       "      <th>968</th>\n",
       "      <td>Pregnancy prediction performance of an annotat...</td>\n",
       "      <td>0.614720</td>\n",
       "    </tr>\n",
       "    <tr>\n",
       "      <th>977</th>\n",
       "      <td>Comparison of deep learning, radiomics and sub...</td>\n",
       "      <td>0.172651</td>\n",
       "    </tr>\n",
       "    <tr>\n",
       "      <th>1044</th>\n",
       "      <td>Do AI models recognise rare, aggressive skin c...</td>\n",
       "      <td>0.304076</td>\n",
       "    </tr>\n",
       "    <tr>\n",
       "      <th>1440</th>\n",
       "      <td>Artificial intelligence-assisted colonic endoc...</td>\n",
       "      <td>0.133151</td>\n",
       "    </tr>\n",
       "    <tr>\n",
       "      <th>1760</th>\n",
       "      <td>Deep Learning-Based Post-Processing of Real-Ti...</td>\n",
       "      <td>0.823535</td>\n",
       "    </tr>\n",
       "    <tr>\n",
       "      <th>2762</th>\n",
       "      <td>A Novel Hierarchical Deep Learning Framework f...</td>\n",
       "      <td>0.828656</td>\n",
       "    </tr>\n",
       "    <tr>\n",
       "      <th>2802</th>\n",
       "      <td>AI Pinpoints Origin of Unidentified Cancers. A...</td>\n",
       "      <td>0.163015</td>\n",
       "    </tr>\n",
       "    <tr>\n",
       "      <th>3104</th>\n",
       "      <td>Single-breath-hold T2WI liver MRI with deep le...</td>\n",
       "      <td>0.278412</td>\n",
       "    </tr>\n",
       "    <tr>\n",
       "      <th>3258</th>\n",
       "      <td>Deep learning of HIV field-based rapid tests. ...</td>\n",
       "      <td>0.624891</td>\n",
       "    </tr>\n",
       "    <tr>\n",
       "      <th>3883</th>\n",
       "      <td>Hybrid AI-assistive diagnostic model permits r...</td>\n",
       "      <td>0.679918</td>\n",
       "    </tr>\n",
       "    <tr>\n",
       "      <th>4101</th>\n",
       "      <td>Development and validation of artificial intel...</td>\n",
       "      <td>0.132987</td>\n",
       "    </tr>\n",
       "    <tr>\n",
       "      <th>4135</th>\n",
       "      <td>Rapid Artificial Intelligence Solutions in a P...</td>\n",
       "      <td>0.134641</td>\n",
       "    </tr>\n",
       "    <tr>\n",
       "      <th>4231</th>\n",
       "      <td>Automatic Facial Recognition of Williams-Beure...</td>\n",
       "      <td>0.613129</td>\n",
       "    </tr>\n",
       "    <tr>\n",
       "      <th>4361</th>\n",
       "      <td>Evaluation of a Weightbearing CT Artificial In...</td>\n",
       "      <td>0.136097</td>\n",
       "    </tr>\n",
       "    <tr>\n",
       "      <th>4380</th>\n",
       "      <td>Assessing the speed-accuracy trade-offs of pop...</td>\n",
       "      <td>0.432107</td>\n",
       "    </tr>\n",
       "    <tr>\n",
       "      <th>4467</th>\n",
       "      <td>Use of ColonFlag score for prioritisation of e...</td>\n",
       "      <td>0.144042</td>\n",
       "    </tr>\n",
       "    <tr>\n",
       "      <th>4702</th>\n",
       "      <td>Classification of Monocytes, Promonocytes and ...</td>\n",
       "      <td>0.484167</td>\n",
       "    </tr>\n",
       "  </tbody>\n",
       "</table>\n",
       "</div>"
      ],
      "text/plain": [
       "                                                feature   include\n",
       "323   Automated Left Ventricle Ischemic Scar Detecti...  0.615293\n",
       "548   Deep Learning for Basal Cell Carcinoma Detecti...  0.869935\n",
       "833   Deep learning segmentation of transverse muscu...  0.155160\n",
       "968   Pregnancy prediction performance of an annotat...  0.614720\n",
       "977   Comparison of deep learning, radiomics and sub...  0.172651\n",
       "1044  Do AI models recognise rare, aggressive skin c...  0.304076\n",
       "1440  Artificial intelligence-assisted colonic endoc...  0.133151\n",
       "1760  Deep Learning-Based Post-Processing of Real-Ti...  0.823535\n",
       "2762  A Novel Hierarchical Deep Learning Framework f...  0.828656\n",
       "2802  AI Pinpoints Origin of Unidentified Cancers. A...  0.163015\n",
       "3104  Single-breath-hold T2WI liver MRI with deep le...  0.278412\n",
       "3258  Deep learning of HIV field-based rapid tests. ...  0.624891\n",
       "3883  Hybrid AI-assistive diagnostic model permits r...  0.679918\n",
       "4101  Development and validation of artificial intel...  0.132987\n",
       "4135  Rapid Artificial Intelligence Solutions in a P...  0.134641\n",
       "4231  Automatic Facial Recognition of Williams-Beure...  0.613129\n",
       "4361  Evaluation of a Weightbearing CT Artificial In...  0.136097\n",
       "4380  Assessing the speed-accuracy trade-offs of pop...  0.432107\n",
       "4467  Use of ColonFlag score for prioritisation of e...  0.144042\n",
       "4702  Classification of Monocytes, Promonocytes and ...  0.484167"
      ]
     },
     "execution_count": 15,
     "metadata": {},
     "output_type": "execute_result"
    }
   ],
   "source": [
    "uncertain = labelled[(labelled.include < 0.9) & (labelled.include > 0.1)]\n",
    "uncertain.head(20)"
   ]
  },
  {
   "cell_type": "code",
   "execution_count": 16,
   "id": "8783ef7c-1c62-4a8f-8966-df0d3e932a38",
   "metadata": {},
   "outputs": [],
   "source": [
    "labelled['include_rounded'] = np.round(labelled.include)"
   ]
  },
  {
   "cell_type": "code",
   "execution_count": 17,
   "id": "d49a1c98-2aee-410f-907a-69a0c2f1fb98",
   "metadata": {},
   "outputs": [
    {
     "data": {
      "text/plain": [
       "0.0    31407\n",
       "1.0     1065\n",
       "Name: include_rounded, dtype: int64"
      ]
     },
     "execution_count": 17,
     "metadata": {},
     "output_type": "execute_result"
    }
   ],
   "source": [
    "labelled.include_rounded.value_counts()"
   ]
  },
  {
   "cell_type": "code",
   "execution_count": 18,
   "id": "c53888ec",
   "metadata": {},
   "outputs": [
    {
     "data": {
      "text/html": [
       "<div>\n",
       "<style scoped>\n",
       "    .dataframe tbody tr th:only-of-type {\n",
       "        vertical-align: middle;\n",
       "    }\n",
       "\n",
       "    .dataframe tbody tr th {\n",
       "        vertical-align: top;\n",
       "    }\n",
       "\n",
       "    .dataframe thead th {\n",
       "        text-align: right;\n",
       "    }\n",
       "</style>\n",
       "<table border=\"1\" class=\"dataframe\">\n",
       "  <thead>\n",
       "    <tr style=\"text-align: right;\">\n",
       "      <th></th>\n",
       "      <th>feature</th>\n",
       "      <th>include</th>\n",
       "      <th>include_rounded</th>\n",
       "    </tr>\n",
       "  </thead>\n",
       "  <tbody>\n",
       "    <tr>\n",
       "      <th>161510</th>\n",
       "      <td>On the use of neural network techniques to ana...</td>\n",
       "      <td>0.000022</td>\n",
       "      <td>0.0</td>\n",
       "    </tr>\n",
       "    <tr>\n",
       "      <th>161511</th>\n",
       "      <td>Analysis of quantitative EEG with artificial n...</td>\n",
       "      <td>0.000115</td>\n",
       "      <td>0.0</td>\n",
       "    </tr>\n",
       "    <tr>\n",
       "      <th>161513</th>\n",
       "      <td>Neural networks as a prognostic tool for patie...</td>\n",
       "      <td>0.000031</td>\n",
       "      <td>0.0</td>\n",
       "    </tr>\n",
       "    <tr>\n",
       "      <th>161517</th>\n",
       "      <td>Automated interpretation of myocardial SPECT p...</td>\n",
       "      <td>0.000384</td>\n",
       "      <td>0.0</td>\n",
       "    </tr>\n",
       "    <tr>\n",
       "      <th>161524</th>\n",
       "      <td>Acute pulmonary embolism: cost-effectiveness a...</td>\n",
       "      <td>0.005829</td>\n",
       "      <td>0.0</td>\n",
       "    </tr>\n",
       "  </tbody>\n",
       "</table>\n",
       "</div>"
      ],
      "text/plain": [
       "                                                  feature   include  \\\n",
       "161510  On the use of neural network techniques to ana...  0.000022   \n",
       "161511  Analysis of quantitative EEG with artificial n...  0.000115   \n",
       "161513  Neural networks as a prognostic tool for patie...  0.000031   \n",
       "161517  Automated interpretation of myocardial SPECT p...  0.000384   \n",
       "161524  Acute pulmonary embolism: cost-effectiveness a...  0.005829   \n",
       "\n",
       "        include_rounded  \n",
       "161510              0.0  \n",
       "161511              0.0  \n",
       "161513              0.0  \n",
       "161517              0.0  \n",
       "161524              0.0  "
      ]
     },
     "execution_count": 18,
     "metadata": {},
     "output_type": "execute_result"
    }
   ],
   "source": [
    "labelled.tail(5)"
   ]
  },
  {
   "cell_type": "code",
   "execution_count": 19,
   "id": "4f525e80-e88c-41f4-b840-b2b951f47a24",
   "metadata": {},
   "outputs": [
    {
     "name": "stdout",
     "output_type": "stream",
     "text": [
      "<class 'pandas.core.frame.DataFrame'>\n",
      "Int64Index: 32472 entries, 0 to 161524\n",
      "Data columns (total 3 columns):\n",
      " #   Column           Non-Null Count  Dtype  \n",
      "---  ------           --------------  -----  \n",
      " 0   feature          32472 non-null  object \n",
      " 1   include          32472 non-null  float64\n",
      " 2   include_rounded  32472 non-null  float64\n",
      "dtypes: float64(2), object(1)\n",
      "memory usage: 2.0+ MB\n"
     ]
    }
   ],
   "source": [
    "labelled.info()"
   ]
  },
  {
   "cell_type": "code",
   "execution_count": 20,
   "id": "cc2b9d50",
   "metadata": {},
   "outputs": [
    {
     "data": {
      "text/html": [
       "<div>\n",
       "<style scoped>\n",
       "    .dataframe tbody tr th:only-of-type {\n",
       "        vertical-align: middle;\n",
       "    }\n",
       "\n",
       "    .dataframe tbody tr th {\n",
       "        vertical-align: top;\n",
       "    }\n",
       "\n",
       "    .dataframe thead th {\n",
       "        text-align: right;\n",
       "    }\n",
       "</style>\n",
       "<table border=\"1\" class=\"dataframe\">\n",
       "  <thead>\n",
       "    <tr style=\"text-align: right;\">\n",
       "      <th></th>\n",
       "      <th>pmid</th>\n",
       "      <th>doi</th>\n",
       "      <th>title</th>\n",
       "      <th>abstract</th>\n",
       "      <th>article_date</th>\n",
       "      <th>pubmed_date</th>\n",
       "      <th>article_type</th>\n",
       "      <th>lang</th>\n",
       "      <th>journal</th>\n",
       "      <th>journal_short</th>\n",
       "      <th>journal_country</th>\n",
       "      <th>authors</th>\n",
       "      <th>author_affils</th>\n",
       "      <th>keywords</th>\n",
       "      <th>mesh_terms</th>\n",
       "      <th>references_pmids</th>\n",
       "      <th>feature</th>\n",
       "      <th>include</th>\n",
       "    </tr>\n",
       "  </thead>\n",
       "  <tbody>\n",
       "    <tr>\n",
       "      <th>161510</th>\n",
       "      <td>9438272</td>\n",
       "      <td>NaN</td>\n",
       "      <td>On the use of neural network techniques to ana...</td>\n",
       "      <td>This is the third communication on the use of ...</td>\n",
       "      <td>NaN</td>\n",
       "      <td>23/01/1998</td>\n",
       "      <td>Clinical Trial</td>\n",
       "      <td>eng</td>\n",
       "      <td>Neuropsychobiology</td>\n",
       "      <td>Neuropsychobiology</td>\n",
       "      <td>Switzerland</td>\n",
       "      <td>['Baumgart-Schmitt R', 'Herrmann W M', 'Eilers...</td>\n",
       "      <td>NaN</td>\n",
       "      <td>NaN</td>\n",
       "      <td>['Algorithms', 'Electroencephalography', 'Elec...</td>\n",
       "      <td>NaN</td>\n",
       "      <td>On the use of neural network techniques to ana...</td>\n",
       "      <td>1.0</td>\n",
       "    </tr>\n",
       "    <tr>\n",
       "      <th>161511</th>\n",
       "      <td>9438271</td>\n",
       "      <td>NaN</td>\n",
       "      <td>Analysis of quantitative EEG with artificial n...</td>\n",
       "      <td>Artificial neural networks (ANN) are widely us...</td>\n",
       "      <td>NaN</td>\n",
       "      <td>23/01/1998</td>\n",
       "      <td>Clinical Trial</td>\n",
       "      <td>eng</td>\n",
       "      <td>Neuropsychobiology</td>\n",
       "      <td>Neuropsychobiology</td>\n",
       "      <td>Switzerland</td>\n",
       "      <td>['Winterer G', 'Ziller M', 'Klöppel B', 'Heinz...</td>\n",
       "      <td>NaN</td>\n",
       "      <td>NaN</td>\n",
       "      <td>['Alcoholism', 'Algorithms', 'Discriminant Ana...</td>\n",
       "      <td>NaN</td>\n",
       "      <td>Analysis of quantitative EEG with artificial n...</td>\n",
       "      <td>1.0</td>\n",
       "    </tr>\n",
       "    <tr>\n",
       "      <th>161513</th>\n",
       "      <td>9436967</td>\n",
       "      <td>NaN</td>\n",
       "      <td>Neural networks as a prognostic tool for patie...</td>\n",
       "      <td>Patients with non-small cell carcinoma of the ...</td>\n",
       "      <td>NaN</td>\n",
       "      <td>22/01/1998</td>\n",
       "      <td>Journal Article</td>\n",
       "      <td>eng</td>\n",
       "      <td>Modern pathology : an official journal of the ...</td>\n",
       "      <td>Mod Pathol</td>\n",
       "      <td>United States</td>\n",
       "      <td>['Bellotti M', 'Elsner B', 'Paez De Lima A', '...</td>\n",
       "      <td>NaN</td>\n",
       "      <td>NaN</td>\n",
       "      <td>['Adenocarcinoma', 'Antigens, Nuclear', 'Bioma...</td>\n",
       "      <td>NaN</td>\n",
       "      <td>Neural networks as a prognostic tool for patie...</td>\n",
       "      <td>1.0</td>\n",
       "    </tr>\n",
       "    <tr>\n",
       "      <th>161517</th>\n",
       "      <td>9430460</td>\n",
       "      <td>NaN</td>\n",
       "      <td>Automated interpretation of myocardial SPECT p...</td>\n",
       "      <td>The purpose of this study was to develop a com...</td>\n",
       "      <td>NaN</td>\n",
       "      <td>16/01/1998</td>\n",
       "      <td>Comparative Study</td>\n",
       "      <td>eng</td>\n",
       "      <td>Journal of nuclear medicine : official publica...</td>\n",
       "      <td>J Nucl Med</td>\n",
       "      <td>United States</td>\n",
       "      <td>['Lindahl D', 'Palmer J', 'Ohlsson M', 'Peters...</td>\n",
       "      <td>NaN</td>\n",
       "      <td>NaN</td>\n",
       "      <td>['Coronary Angiography', 'Coronary Disease', '...</td>\n",
       "      <td>NaN</td>\n",
       "      <td>Automated interpretation of myocardial SPECT p...</td>\n",
       "      <td>1.0</td>\n",
       "    </tr>\n",
       "    <tr>\n",
       "      <th>161524</th>\n",
       "      <td>9423655</td>\n",
       "      <td>NaN</td>\n",
       "      <td>Acute pulmonary embolism: cost-effectiveness a...</td>\n",
       "      <td>To evaluate the cost-effectiveness of artifici...</td>\n",
       "      <td>NaN</td>\n",
       "      <td>10/01/1998</td>\n",
       "      <td>Journal Article</td>\n",
       "      <td>eng</td>\n",
       "      <td>Radiology</td>\n",
       "      <td>Radiology</td>\n",
       "      <td>United States</td>\n",
       "      <td>['Tourassi G D', 'Floyd C E', 'Coleman R E']</td>\n",
       "      <td>NaN</td>\n",
       "      <td>NaN</td>\n",
       "      <td>['Acute Disease', 'Angiography', 'Cost-Benefit...</td>\n",
       "      <td>NaN</td>\n",
       "      <td>Acute pulmonary embolism: cost-effectiveness a...</td>\n",
       "      <td>1.0</td>\n",
       "    </tr>\n",
       "  </tbody>\n",
       "</table>\n",
       "</div>"
      ],
      "text/plain": [
       "           pmid  doi                                              title  \\\n",
       "161510  9438272  NaN  On the use of neural network techniques to ana...   \n",
       "161511  9438271  NaN  Analysis of quantitative EEG with artificial n...   \n",
       "161513  9436967  NaN  Neural networks as a prognostic tool for patie...   \n",
       "161517  9430460  NaN  Automated interpretation of myocardial SPECT p...   \n",
       "161524  9423655  NaN  Acute pulmonary embolism: cost-effectiveness a...   \n",
       "\n",
       "                                                 abstract article_date  \\\n",
       "161510  This is the third communication on the use of ...          NaN   \n",
       "161511  Artificial neural networks (ANN) are widely us...          NaN   \n",
       "161513  Patients with non-small cell carcinoma of the ...          NaN   \n",
       "161517  The purpose of this study was to develop a com...          NaN   \n",
       "161524  To evaluate the cost-effectiveness of artifici...          NaN   \n",
       "\n",
       "       pubmed_date       article_type lang  \\\n",
       "161510  23/01/1998     Clinical Trial  eng   \n",
       "161511  23/01/1998     Clinical Trial  eng   \n",
       "161513  22/01/1998    Journal Article  eng   \n",
       "161517  16/01/1998  Comparative Study  eng   \n",
       "161524  10/01/1998    Journal Article  eng   \n",
       "\n",
       "                                                  journal       journal_short  \\\n",
       "161510                                 Neuropsychobiology  Neuropsychobiology   \n",
       "161511                                 Neuropsychobiology  Neuropsychobiology   \n",
       "161513  Modern pathology : an official journal of the ...          Mod Pathol   \n",
       "161517  Journal of nuclear medicine : official publica...          J Nucl Med   \n",
       "161524                                          Radiology           Radiology   \n",
       "\n",
       "       journal_country                                            authors  \\\n",
       "161510     Switzerland  ['Baumgart-Schmitt R', 'Herrmann W M', 'Eilers...   \n",
       "161511     Switzerland  ['Winterer G', 'Ziller M', 'Klöppel B', 'Heinz...   \n",
       "161513   United States  ['Bellotti M', 'Elsner B', 'Paez De Lima A', '...   \n",
       "161517   United States  ['Lindahl D', 'Palmer J', 'Ohlsson M', 'Peters...   \n",
       "161524   United States       ['Tourassi G D', 'Floyd C E', 'Coleman R E']   \n",
       "\n",
       "       author_affils keywords  \\\n",
       "161510           NaN      NaN   \n",
       "161511           NaN      NaN   \n",
       "161513           NaN      NaN   \n",
       "161517           NaN      NaN   \n",
       "161524           NaN      NaN   \n",
       "\n",
       "                                               mesh_terms references_pmids  \\\n",
       "161510  ['Algorithms', 'Electroencephalography', 'Elec...              NaN   \n",
       "161511  ['Alcoholism', 'Algorithms', 'Discriminant Ana...              NaN   \n",
       "161513  ['Adenocarcinoma', 'Antigens, Nuclear', 'Bioma...              NaN   \n",
       "161517  ['Coronary Angiography', 'Coronary Disease', '...              NaN   \n",
       "161524  ['Acute Disease', 'Angiography', 'Cost-Benefit...              NaN   \n",
       "\n",
       "                                                  feature  include  \n",
       "161510  On the use of neural network techniques to ana...      1.0  \n",
       "161511  Analysis of quantitative EEG with artificial n...      1.0  \n",
       "161513  Neural networks as a prognostic tool for patie...      1.0  \n",
       "161517  Automated interpretation of myocardial SPECT p...      1.0  \n",
       "161524  Acute pulmonary embolism: cost-effectiveness a...      1.0  "
      ]
     },
     "execution_count": 20,
     "metadata": {},
     "output_type": "execute_result"
    }
   ],
   "source": [
    "complete.dropna(subset=['feature'], inplace=True)\n",
    "complete.tail(5)"
   ]
  },
  {
   "cell_type": "code",
   "execution_count": 21,
   "id": "b01cfb07",
   "metadata": {},
   "outputs": [
    {
     "name": "stdout",
     "output_type": "stream",
     "text": [
      "32472\n",
      "32472\n"
     ]
    }
   ],
   "source": [
    "print(len(complete))\n",
    "print(len(labelled))"
   ]
  },
  {
   "cell_type": "code",
   "execution_count": 22,
   "id": "3199dc2b",
   "metadata": {},
   "outputs": [],
   "source": [
    "complete['include_fuzzy'] = labelled['include']\n",
    "complete['include'] = labelled['include_rounded']"
   ]
  },
  {
   "cell_type": "code",
   "execution_count": 23,
   "id": "a2590738",
   "metadata": {},
   "outputs": [],
   "source": [
    "# SAVE FINAL FILES"
   ]
  },
  {
   "cell_type": "code",
   "execution_count": 24,
   "id": "e85a6424",
   "metadata": {},
   "outputs": [],
   "source": [
    "#uncertain.to_csv(\"final_outputs/comparative_uncertain.csv\")"
   ]
  },
  {
   "cell_type": "code",
   "execution_count": 25,
   "id": "da63104c",
   "metadata": {},
   "outputs": [],
   "source": [
    "complete.to_csv(\"data/maturity_labelled.csv\")"
   ]
  },
  {
   "cell_type": "code",
   "execution_count": 26,
   "id": "ce79c410",
   "metadata": {},
   "outputs": [
    {
     "data": {
      "text/plain": [
       "0.0    31407\n",
       "1.0     1065\n",
       "Name: include, dtype: int64"
      ]
     },
     "execution_count": 26,
     "metadata": {},
     "output_type": "execute_result"
    }
   ],
   "source": [
    "complete['include'].value_counts()"
   ]
  },
  {
   "cell_type": "code",
   "execution_count": null,
   "id": "05fd292d",
   "metadata": {},
   "outputs": [],
   "source": []
  }
 ],
 "metadata": {
  "kernelspec": {
   "display_name": "Python 3 (ipykernel)",
   "language": "python",
   "name": "python3"
  },
  "language_info": {
   "codemirror_mode": {
    "name": "ipython",
    "version": 3
   },
   "file_extension": ".py",
   "mimetype": "text/x-python",
   "name": "python",
   "nbconvert_exporter": "python",
   "pygments_lexer": "ipython3",
   "version": "3.9.5"
  }
 },
 "nbformat": 4,
 "nbformat_minor": 5
}
