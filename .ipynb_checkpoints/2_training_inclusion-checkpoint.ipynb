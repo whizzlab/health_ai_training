{
 "cells": [
  {
   "cell_type": "code",
   "execution_count": 42,
   "id": "6c67812a",
   "metadata": {},
   "outputs": [],
   "source": [
    "import os\n",
    "import shutil\n",
    "\n",
    "import tensorflow as tf\n",
    "import tensorflow_hub as hub\n",
    "import tensorflow_text as text\n",
    "from official.nlp import optimization  # to create AdamW optimizer\n",
    "\n",
    "tf.get_logger().setLevel('ERROR')"
   ]
  },
  {
   "cell_type": "code",
   "execution_count": 43,
   "id": "61e2efca",
   "metadata": {},
   "outputs": [],
   "source": [
    "import pandas as pd\n",
    "import numpy as np\n",
    "import matplotlib.pyplot as plt\n",
    "import seaborn as sns\n",
    "import re\n",
    "import nltk\n",
    "import datetime\n",
    "\n",
    "#for BERT\n",
    "import transformers"
   ]
  },
  {
   "cell_type": "code",
   "execution_count": 44,
   "id": "d3b49073-2f62-4ca1-9e42-e55654107c68",
   "metadata": {},
   "outputs": [],
   "source": [
    "# GPU options to limit OOM erors\n",
    "physical_devices = tf.config.experimental.list_physical_devices('GPU')\n",
    "tf.config.experimental.set_memory_growth(physical_devices[0], True)"
   ]
  },
  {
   "cell_type": "code",
   "execution_count": 45,
   "id": "7e22ed1a",
   "metadata": {},
   "outputs": [
    {
     "name": "stdout",
     "output_type": "stream",
     "text": [
      "[name: \"/device:CPU:0\"\n",
      "device_type: \"CPU\"\n",
      "memory_limit: 268435456\n",
      "locality {\n",
      "}\n",
      "incarnation: 5810617667612574802\n",
      ", name: \"/device:GPU:0\"\n",
      "device_type: \"GPU\"\n",
      "memory_limit: 22723493888\n",
      "locality {\n",
      "  bus_id: 1\n",
      "  links {\n",
      "  }\n",
      "}\n",
      "incarnation: 2564675705662896253\n",
      "physical_device_desc: \"device: 0, name: NVIDIA GeForce RTX 3090, pci bus id: 0000:01:00.0, compute capability: 8.6\"\n",
      "]\n",
      "2.5.0\n"
     ]
    }
   ],
   "source": [
    "from tensorflow.python.client import device_lib\n",
    "print(device_lib.list_local_devices())\n",
    "print(tf.__version__)"
   ]
  },
  {
   "cell_type": "code",
   "execution_count": 46,
   "id": "fa195a7b",
   "metadata": {},
   "outputs": [],
   "source": [
    "#make sure csv only contains labelled examples\n",
    "#in excel, have concat title and abstract into same text block = feature. \n",
    "labelled = pd.read_csv('training_data/training_main_classifier.csv', index_col=0)"
   ]
  },
  {
   "cell_type": "code",
   "execution_count": 47,
   "id": "e2f78b6c",
   "metadata": {},
   "outputs": [
    {
     "data": {
      "text/html": [
       "<div>\n",
       "<style scoped>\n",
       "    .dataframe tbody tr th:only-of-type {\n",
       "        vertical-align: middle;\n",
       "    }\n",
       "\n",
       "    .dataframe tbody tr th {\n",
       "        vertical-align: top;\n",
       "    }\n",
       "\n",
       "    .dataframe thead th {\n",
       "        text-align: right;\n",
       "    }\n",
       "</style>\n",
       "<table border=\"1\" class=\"dataframe\">\n",
       "  <thead>\n",
       "    <tr style=\"text-align: right;\">\n",
       "      <th></th>\n",
       "      <th>pmid</th>\n",
       "      <th>include</th>\n",
       "      <th>feature</th>\n",
       "    </tr>\n",
       "  </thead>\n",
       "  <tbody>\n",
       "    <tr>\n",
       "      <th>0</th>\n",
       "      <td>28278461</td>\n",
       "      <td>1</td>\n",
       "      <td>Automatic Quantification of Tumour Hypoxia From Multi-Modal Microscopy Images Using Weakly-Supervised Learning Methods. In recently published clinical trial results, hypoxia-modified therapies have shown to provide more positive outcomes to cancer patients, compared with standard cancer treatments. The development and validation of these hypoxia-modified therapies depend on an effective way of measuring tumor hypoxia, but a standardized measurement is currently unavailable in clinical practice. Different types of manual measurements have been proposed in clinical research, but in this paper we focus on a recently published approach that quantifies the number and proportion of hypoxic regions using high resolution (immuno-)fluorescence (IF) and hematoxylin and eosin (HE) stained images of a histological specimen of a tumor. We introduce new machine learning-based methodologies to automate this measurement, where the main challenge is the fact that the clinical annotations available for training the proposed methodologies consist of the total number of normoxic, chronically hypoxic, and acutely hypoxic regions without any indication of their location in the image. Therefore, this represents a weakly-supervised structured output classification problem, where training is based on a high-order loss function formed by the norm of the difference between the manual and estimated annotations mentioned above. We propose four methodologies to solve this problem: 1) a naive method that uses a majority classifier applied on the nodes of a fixed grid placed over the input images; 2) a baseline method based on a structured output learning formulation that relies on a fixed grid placed over the input images; 3) an extension to this baseline based on a latent structured output learning formulation that uses a graph that is flexible in terms of the amount and positions of nodes; and 4) a pixel-wise labeling based on a fully-convolutional neural network. Using a data set of 89 weakly annotated pairs of IF and HE images from eight tumors, we show that the quantitative results of methods (3) and (4) above are equally competitive and superior to the naive (1) and baseline (2) methods. All proposed methodologies show high correlation values with respect to the clinical annotations.</td>\n",
       "    </tr>\n",
       "    <tr>\n",
       "      <th>2</th>\n",
       "      <td>32660549</td>\n",
       "      <td>1</td>\n",
       "      <td>A decision support system based on support vector machine for diagnosis of periodontal disease. OBJECTIVE: Early diagnosis of many diseases is essential for their treatment. Furthermore, the existence of abundant and unknown variables makes more complicated decision making. For this reason, the diagnosis and classification of diseases using machine learning algorithms have attracted a lot of attention. Therefore, this study aimed to design a support vector machine (SVM) based decision-making support system to diagnosis various periodontal diseases. Data were collected from 300 patients referring to Periodontics department of Hamadan University of Medical Sciences, west of Iran. Among these patients, 160 were Gingivitis, 60 were localized periodontitis and 80 were generalized periodontitis. In the designed classification model, 11 variables such as age, sex, smoking, gingival index, plaque index and so on used as input and output variable show the individual's status as a periodontal disease. RESULTS: Using different kernel functions in the design of the SVM classification model showed that the radial kernel function with an overall correct classification accuracy of 88.7% and the overall hypervolume under the manifold (HUM) value was to 0.912 has the best performance. The results of the present study show that the designed classification model has an acceptable performance in predicting periodontitis.</td>\n",
       "    </tr>\n",
       "    <tr>\n",
       "      <th>4</th>\n",
       "      <td>32079910</td>\n",
       "      <td>1</td>\n",
       "      <td>Posture and Physical Activity Detection: Impact of Number of Sensors and Feature Type. Studies using wearable sensors to measure posture, physical activity (PA), and sedentary behavior typically use a single sensor worn on the ankle, thigh, wrist, or hip. Although the use of single sensors may be convenient, using multiple sensors is becoming more practical as sensors miniaturize. PURPOSE: We evaluated the effect of single-site versus multisite motion sensing at seven body locations (both ankles, wrists, hips, and dominant thigh) on the detection of physical behavior recognition using a machine learning algorithm. We also explored the effect of using orientation versus orientation-invariant features on performance. METHODS: Performance (F1 score) of PA and posture recognition was evaluated using leave-one-subject-out cross-validation on a 42-participant data set containing 22 physical activities with three postures (lying, sitting, and upright). RESULTS: Posture and PA recognition models using two sensors had higher F1 scores (posture, 0.89 +/- 0.06; PA, 0.53 +/- 0.08) than did models using a single sensor (posture, 0.78 +/- 0.11; PA, 0.43 +/- 0.03). Models using two nonwrist sensors for posture recognition (F1 score, 0.93 +/- 0.03) outperformed two-sensor models including one or two wrist sensors (F1 score, 0.85 +/- 0.06). However, two-sensor models for PA recognition with at least one wrist sensor (F1 score, 0.60 +/- 0.05) outperformed other two-sensor models (F1 score, 0.47 +/- 0.02). Both posture and PA recognition F1 scores improved with more sensors (up to seven; 0.99 for posture and 0.70 for PA), but with diminishing performance returns. Models performed best when including orientation-based features. CONCLUSIONS: Researchers measuring posture should consider multisite sensing using at least two nonwrist sensors, and researchers measuring PA should consider multisite sensing using at least one wrist sensor and one nonwrist sensor. Including orientation-based features improved both posture and PA recognition.</td>\n",
       "    </tr>\n",
       "    <tr>\n",
       "      <th>7</th>\n",
       "      <td>29127485</td>\n",
       "      <td>1</td>\n",
       "      <td>OCT-based deep learning algorithm for the evaluation of treatment indication with anti-vascular endothelial growth factor medications. PURPOSE: Intravitreal injections with anti-vascular endothelial growth factor (anti-VEGF) medications have become the standard of care for their respective indications. Optical coherence tomography (OCT) scans of the central retina provide detailed anatomical data and are widely used by clinicians in the decision-making process of anti-VEGF indication. In recent years, significant progress has been made in artificial intelligence and computer vision research. We trained a deep convolutional artificial neural network to predict treatment indication based on central retinal OCT scans without human intervention. METHOD: A total of 183,402 retinal OCT B-scans acquired between 2008 and 2016 were exported from the institutional image archive of a university hospital. OCT images were cross-referenced with the electronic institutional intravitreal injection records. OCT images with a following intravitreal injection during the first 21 days after image acquisition were assigned into the 'injection' group, while the same amount of random OCT images without intravitreal injections was labeled as 'no injection'. After image preprocessing, OCT images were split in a 9:1 ratio to training and test datasets. We trained a GoogLeNet inception deep convolutional neural network and assessed its performance on the validation dataset. We calculated prediction accuracy, sensitivity, specificity, and receiver operating characteristics. RESULTS: The deep convolutional neural network was successfully trained on the extracted clinical data. The trained neural network classifier reached a prediction accuracy of 95.5% on the images in the validation dataset. For single retinal B-scans in the validation dataset, a sensitivity of 90.1% and a specificity of 96.2% were achieved. The area under the receiver operating characteristic curve was 0.968 on a per B-scan image basis, and 0.988 by averaging over six B-scans per examination on the validation dataset. CONCLUSION: Deep artificial neural networks show impressive performance on classification of retinal OCT scans. After training on historical clinical data, machine learning methods can offer the clinician support in the decision-making process. Care should be taken not to mistake neural network output as treatment recommendation and to ensure a final thorough evaluation by the treating physician.</td>\n",
       "    </tr>\n",
       "    <tr>\n",
       "      <th>8</th>\n",
       "      <td>30815461</td>\n",
       "      <td>1</td>\n",
       "      <td>Blood Pressure Assessment with Differential Pulse Transit Time and Deep Learning: A Proof of Concept. Background: Modern clinical environments are laden with technology devices continuously gathering physiological data from patients. This is especially true in critical care environments, where life-saving decisions may have to be made on the basis of signals from monitoring devices. Hemodynamic monitoring is essential in dialysis, surgery, and in critically ill patients. For the most severe patients, blood pressure is normally assessed through a catheter, which is an invasive procedure that may result in adverse effects. Blood pressure can also be monitored noninvasively through different methods and these data can be used for the continuous assessment of pressure using machine learning methods. Previous studies have found pulse transit time to be related to blood pressure. In this short paper, we propose to study the feasibility of implementing a data-driven model based on restricted Boltzmann machine artificial neural networks, delivering a first proof of concept for the validity and viability of a method for blood pressure prediction based on these models. Summary and Key Messages: For the most severe patients (e.g., dialysis, surgery, and the critically ill), blood pressure is normally assessed through invasive catheters. Alternatively, noninvasive methods have also been developed for its monitorization. Data obtained from noninvasive measurements can be used for the continuous assessment of pressure using machine learning methods. In this study, a restricted Boltzmann machine artificial neural network is used to present a first proof of concept for the validity and viability of a method for blood pressure prediction.</td>\n",
       "    </tr>\n",
       "  </tbody>\n",
       "</table>\n",
       "</div>"
      ],
      "text/plain": [
       "       pmid  include  \\\n",
       "0  28278461        1   \n",
       "2  32660549        1   \n",
       "4  32079910        1   \n",
       "7  29127485        1   \n",
       "8  30815461        1   \n",
       "\n",
       "                                                                                                                                                                                                                                                                                                                                                                                                                                                                                                                                                                                                                                                                                                                                                                                                                                                                                                                                                                                                                                                                                                                                                                                                                                                                                                                                                                                                                                                                                                                                                                                                                                                                                                                                                                                                                                                                                                                                                                                                                                                                                                                                                                                                                                                                                                                                                                                                                                                                                                                                                                                          feature  \n",
       "0                                                                                                                                                                                                     Automatic Quantification of Tumour Hypoxia From Multi-Modal Microscopy Images Using Weakly-Supervised Learning Methods. In recently published clinical trial results, hypoxia-modified therapies have shown to provide more positive outcomes to cancer patients, compared with standard cancer treatments. The development and validation of these hypoxia-modified therapies depend on an effective way of measuring tumor hypoxia, but a standardized measurement is currently unavailable in clinical practice. Different types of manual measurements have been proposed in clinical research, but in this paper we focus on a recently published approach that quantifies the number and proportion of hypoxic regions using high resolution (immuno-)fluorescence (IF) and hematoxylin and eosin (HE) stained images of a histological specimen of a tumor. We introduce new machine learning-based methodologies to automate this measurement, where the main challenge is the fact that the clinical annotations available for training the proposed methodologies consist of the total number of normoxic, chronically hypoxic, and acutely hypoxic regions without any indication of their location in the image. Therefore, this represents a weakly-supervised structured output classification problem, where training is based on a high-order loss function formed by the norm of the difference between the manual and estimated annotations mentioned above. We propose four methodologies to solve this problem: 1) a naive method that uses a majority classifier applied on the nodes of a fixed grid placed over the input images; 2) a baseline method based on a structured output learning formulation that relies on a fixed grid placed over the input images; 3) an extension to this baseline based on a latent structured output learning formulation that uses a graph that is flexible in terms of the amount and positions of nodes; and 4) a pixel-wise labeling based on a fully-convolutional neural network. Using a data set of 89 weakly annotated pairs of IF and HE images from eight tumors, we show that the quantitative results of methods (3) and (4) above are equally competitive and superior to the naive (1) and baseline (2) methods. All proposed methodologies show high correlation values with respect to the clinical annotations.  \n",
       "2                                                                                                                                                                                                                                                                                                                                                                                                                                                                                                                                                                                                                                                                                                                                                                                                                                                                                                                                                                                                                                                                                                                A decision support system based on support vector machine for diagnosis of periodontal disease. OBJECTIVE: Early diagnosis of many diseases is essential for their treatment. Furthermore, the existence of abundant and unknown variables makes more complicated decision making. For this reason, the diagnosis and classification of diseases using machine learning algorithms have attracted a lot of attention. Therefore, this study aimed to design a support vector machine (SVM) based decision-making support system to diagnosis various periodontal diseases. Data were collected from 300 patients referring to Periodontics department of Hamadan University of Medical Sciences, west of Iran. Among these patients, 160 were Gingivitis, 60 were localized periodontitis and 80 were generalized periodontitis. In the designed classification model, 11 variables such as age, sex, smoking, gingival index, plaque index and so on used as input and output variable show the individual's status as a periodontal disease. RESULTS: Using different kernel functions in the design of the SVM classification model showed that the radial kernel function with an overall correct classification accuracy of 88.7% and the overall hypervolume under the manifold (HUM) value was to 0.912 has the best performance. The results of the present study show that the designed classification model has an acceptable performance in predicting periodontitis.  \n",
       "4                                                                                                                                                                                                                                                                                                                                                                                                                                                              Posture and Physical Activity Detection: Impact of Number of Sensors and Feature Type. Studies using wearable sensors to measure posture, physical activity (PA), and sedentary behavior typically use a single sensor worn on the ankle, thigh, wrist, or hip. Although the use of single sensors may be convenient, using multiple sensors is becoming more practical as sensors miniaturize. PURPOSE: We evaluated the effect of single-site versus multisite motion sensing at seven body locations (both ankles, wrists, hips, and dominant thigh) on the detection of physical behavior recognition using a machine learning algorithm. We also explored the effect of using orientation versus orientation-invariant features on performance. METHODS: Performance (F1 score) of PA and posture recognition was evaluated using leave-one-subject-out cross-validation on a 42-participant data set containing 22 physical activities with three postures (lying, sitting, and upright). RESULTS: Posture and PA recognition models using two sensors had higher F1 scores (posture, 0.89 +/- 0.06; PA, 0.53 +/- 0.08) than did models using a single sensor (posture, 0.78 +/- 0.11; PA, 0.43 +/- 0.03). Models using two nonwrist sensors for posture recognition (F1 score, 0.93 +/- 0.03) outperformed two-sensor models including one or two wrist sensors (F1 score, 0.85 +/- 0.06). However, two-sensor models for PA recognition with at least one wrist sensor (F1 score, 0.60 +/- 0.05) outperformed other two-sensor models (F1 score, 0.47 +/- 0.02). Both posture and PA recognition F1 scores improved with more sensors (up to seven; 0.99 for posture and 0.70 for PA), but with diminishing performance returns. Models performed best when including orientation-based features. CONCLUSIONS: Researchers measuring posture should consider multisite sensing using at least two nonwrist sensors, and researchers measuring PA should consider multisite sensing using at least one wrist sensor and one nonwrist sensor. Including orientation-based features improved both posture and PA recognition.  \n",
       "7  OCT-based deep learning algorithm for the evaluation of treatment indication with anti-vascular endothelial growth factor medications. PURPOSE: Intravitreal injections with anti-vascular endothelial growth factor (anti-VEGF) medications have become the standard of care for their respective indications. Optical coherence tomography (OCT) scans of the central retina provide detailed anatomical data and are widely used by clinicians in the decision-making process of anti-VEGF indication. In recent years, significant progress has been made in artificial intelligence and computer vision research. We trained a deep convolutional artificial neural network to predict treatment indication based on central retinal OCT scans without human intervention. METHOD: A total of 183,402 retinal OCT B-scans acquired between 2008 and 2016 were exported from the institutional image archive of a university hospital. OCT images were cross-referenced with the electronic institutional intravitreal injection records. OCT images with a following intravitreal injection during the first 21 days after image acquisition were assigned into the 'injection' group, while the same amount of random OCT images without intravitreal injections was labeled as 'no injection'. After image preprocessing, OCT images were split in a 9:1 ratio to training and test datasets. We trained a GoogLeNet inception deep convolutional neural network and assessed its performance on the validation dataset. We calculated prediction accuracy, sensitivity, specificity, and receiver operating characteristics. RESULTS: The deep convolutional neural network was successfully trained on the extracted clinical data. The trained neural network classifier reached a prediction accuracy of 95.5% on the images in the validation dataset. For single retinal B-scans in the validation dataset, a sensitivity of 90.1% and a specificity of 96.2% were achieved. The area under the receiver operating characteristic curve was 0.968 on a per B-scan image basis, and 0.988 by averaging over six B-scans per examination on the validation dataset. CONCLUSION: Deep artificial neural networks show impressive performance on classification of retinal OCT scans. After training on historical clinical data, machine learning methods can offer the clinician support in the decision-making process. Care should be taken not to mistake neural network output as treatment recommendation and to ensure a final thorough evaluation by the treating physician.  \n",
       "8                                                                                                                                                                                                                                                                                                                                                                                                                                                                                                                                                                                                                                                                                                                                                                         Blood Pressure Assessment with Differential Pulse Transit Time and Deep Learning: A Proof of Concept. Background: Modern clinical environments are laden with technology devices continuously gathering physiological data from patients. This is especially true in critical care environments, where life-saving decisions may have to be made on the basis of signals from monitoring devices. Hemodynamic monitoring is essential in dialysis, surgery, and in critically ill patients. For the most severe patients, blood pressure is normally assessed through a catheter, which is an invasive procedure that may result in adverse effects. Blood pressure can also be monitored noninvasively through different methods and these data can be used for the continuous assessment of pressure using machine learning methods. Previous studies have found pulse transit time to be related to blood pressure. In this short paper, we propose to study the feasibility of implementing a data-driven model based on restricted Boltzmann machine artificial neural networks, delivering a first proof of concept for the validity and viability of a method for blood pressure prediction based on these models. Summary and Key Messages: For the most severe patients (e.g., dialysis, surgery, and the critically ill), blood pressure is normally assessed through invasive catheters. Alternatively, noninvasive methods have also been developed for its monitorization. Data obtained from noninvasive measurements can be used for the continuous assessment of pressure using machine learning methods. In this study, a restricted Boltzmann machine artificial neural network is used to present a first proof of concept for the validity and viability of a method for blood pressure prediction.  "
      ]
     },
     "execution_count": 47,
     "metadata": {},
     "output_type": "execute_result"
    }
   ],
   "source": [
    "analysisdf = labelled[['pmid', 'include', 'feature']].copy()       \n",
    "                      \n",
    "#pipeline now independent from csv\n",
    "analysisdf['include'] = analysisdf['include'].astype(np.int64)\n",
    "analysisdf.head()"
   ]
  },
  {
   "cell_type": "code",
   "execution_count": 48,
   "id": "db0f7b05",
   "metadata": {},
   "outputs": [],
   "source": [
    "analysisdf = analysisdf.drop(['pmid'], axis=1)"
   ]
  },
  {
   "cell_type": "code",
   "execution_count": 49,
   "id": "b0c39b71",
   "metadata": {},
   "outputs": [
    {
     "name": "stdout",
     "output_type": "stream",
     "text": [
      "labels:\n",
      "0    9209\n",
      "1    2270\n",
      "Name: include, dtype: int64\n"
     ]
    },
    {
     "data": {
      "image/png": "[encoded data removed]",
      "text/plain": [
       "<Figure size 432x288 with 1 Axes>"
      ]
     },
     "metadata": {
      "needs_background": "light"
     },
     "output_type": "display_data"
    }
   ],
   "source": [
    "print(\"labels:\")\n",
    "print(analysisdf['include'].value_counts())\n",
    "\n",
    "plt.figure()\n",
    "pd.value_counts(analysisdf['include']).plot.bar(title=\"inclusion 0 vs 1\")\n",
    "plt.xlabel(\"inclusion\")\n",
    "plt.ylabel(\"number\")\n",
    "plt.show()"
   ]
  },
  {
   "cell_type": "code",
   "execution_count": 50,
   "id": "6ee7c5b2",
   "metadata": {},
   "outputs": [
    {
     "data": {
      "text/html": [
       "<div>\n",
       "<style scoped>\n",
       "    .dataframe tbody tr th:only-of-type {\n",
       "        vertical-align: middle;\n",
       "    }\n",
       "\n",
       "    .dataframe tbody tr th {\n",
       "        vertical-align: top;\n",
       "    }\n",
       "\n",
       "    .dataframe thead th {\n",
       "        text-align: right;\n",
       "    }\n",
       "</style>\n",
       "<table border=\"1\" class=\"dataframe\">\n",
       "  <thead>\n",
       "    <tr style=\"text-align: right;\">\n",
       "      <th></th>\n",
       "      <th>include</th>\n",
       "      <th>feature</th>\n",
       "    </tr>\n",
       "  </thead>\n",
       "  <tbody>\n",
       "  </tbody>\n",
       "</table>\n",
       "</div>"
      ],
      "text/plain": [
       "Empty DataFrame\n",
       "Columns: [include, feature]\n",
       "Index: []"
      ]
     },
     "execution_count": 50,
     "metadata": {},
     "output_type": "execute_result"
    }
   ],
   "source": [
    "analysisdf[analysisdf['feature'].isna()]"
   ]
  },
  {
   "cell_type": "code",
   "execution_count": 51,
   "id": "fb129b8c",
   "metadata": {},
   "outputs": [],
   "source": [
    "#analysisdf.dropna(subset=['feature'], inplace=True)"
   ]
  },
  {
   "cell_type": "markdown",
   "id": "07d047fb",
   "metadata": {},
   "source": [
    "## creating training/validation, and test sets"
   ]
  },
  {
   "cell_type": "code",
   "execution_count": 52,
   "id": "55685ecb",
   "metadata": {},
   "outputs": [
    {
     "name": "stdout",
     "output_type": "stream",
     "text": [
      "tempdf\n"
     ]
    },
    {
     "data": {
      "image/png": "[encoded data removed]",
      "text/plain": [
       "<Figure size 432x288 with 1 Axes>"
      ]
     },
     "metadata": {
      "needs_background": "light"
     },
     "output_type": "display_data"
    },
    {
     "name": "stdout",
     "output_type": "stream",
     "text": [
      "valdf\n"
     ]
    },
    {
     "data": {
      "image/png": "[encoded data removed]",
      "text/plain": [
       "<Figure size 432x288 with 1 Axes>"
      ]
     },
     "metadata": {
      "needs_background": "light"
     },
     "output_type": "display_data"
    }
   ],
   "source": [
    "from sklearn.model_selection import train_test_split\n",
    "\n",
    "tempdf, valdf = train_test_split(analysisdf, test_size=0.06, stratify=analysisdf['include'])\n",
    "\n",
    "print(\"tempdf\")\n",
    "plt.figure()\n",
    "pd.value_counts(tempdf['include']).plot.bar(title=\"inclusion 0 vs 1\")\n",
    "plt.xlabel(\"inclusion\")\n",
    "plt.ylabel(\"number\")\n",
    "plt.show()\n",
    "\n",
    "print(\"valdf\")\n",
    "plt.figure()\n",
    "pd.value_counts(valdf['include']).plot.bar(title=\"inclusion 0 vs 1\")\n",
    "plt.xlabel(\"inclusion\")\n",
    "plt.ylabel(\"number\")\n",
    "plt.show()"
   ]
  },
  {
   "cell_type": "code",
   "execution_count": 53,
   "id": "8f70a7b2",
   "metadata": {},
   "outputs": [
    {
     "name": "stdout",
     "output_type": "stream",
     "text": [
      "traindf\n"
     ]
    },
    {
     "data": {
      "image/png": "[encoded data removed]",
      "text/plain": [
       "<Figure size 432x288 with 1 Axes>"
      ]
     },
     "metadata": {
      "needs_background": "light"
     },
     "output_type": "display_data"
    },
    {
     "name": "stdout",
     "output_type": "stream",
     "text": [
      "testdf\n"
     ]
    },
    {
     "data": {
      "image/png": "[encoded data removed]",
      "text/plain": [
       "<Figure size 432x288 with 1 Axes>"
      ]
     },
     "metadata": {
      "needs_background": "light"
     },
     "output_type": "display_data"
    }
   ],
   "source": [
    "traindf, testdf = train_test_split(tempdf, test_size=0.10, stratify=tempdf['include'])\n",
    "\n",
    "print(\"traindf\")\n",
    "plt.figure()\n",
    "pd.value_counts(traindf['include']).plot.bar(title=\"inclusion 0 vs 1\")\n",
    "plt.xlabel(\"inclusion\")\n",
    "plt.ylabel(\"number\")\n",
    "plt.show()\n",
    "\n",
    "print(\"testdf\")\n",
    "plt.figure()\n",
    "pd.value_counts(testdf['include']).plot.bar(title=\"inclusion 0 vs 1\")\n",
    "plt.xlabel(\"inclusion\")\n",
    "plt.ylabel(\"number\")\n",
    "plt.show()"
   ]
  },
  {
   "cell_type": "code",
   "execution_count": 54,
   "id": "ec566f88",
   "metadata": {
    "scrolled": true
   },
   "outputs": [
    {
     "data": {
      "text/html": [
       "<div>\n",
       "<style scoped>\n",
       "    .dataframe tbody tr th:only-of-type {\n",
       "        vertical-align: middle;\n",
       "    }\n",
       "\n",
       "    .dataframe tbody tr th {\n",
       "        vertical-align: top;\n",
       "    }\n",
       "\n",
       "    .dataframe thead th {\n",
       "        text-align: right;\n",
       "    }\n",
       "</style>\n",
       "<table border=\"1\" class=\"dataframe\">\n",
       "  <thead>\n",
       "    <tr style=\"text-align: right;\">\n",
       "      <th></th>\n",
       "      <th>include</th>\n",
       "      <th>feature</th>\n",
       "    </tr>\n",
       "  </thead>\n",
       "  <tbody>\n",
       "    <tr>\n",
       "      <th>8642</th>\n",
       "      <td>0</td>\n",
       "      <td>The Impact of the Wuhan Covid-19 Lockdown on Air Pollution and Health: A Machine Learning and Augmented Synthetic Control Approach. We quantify the impact of the Wuhan Covid-19 lockdown on concentrations of four air pollutants using a two-step approach. First, we use machine learning to remove the confounding effects of weather conditions on pollution concentrations. Second, we use a new augmented synthetic control method (Ben-Michael et al. in The augmented synthetic control method. University of California Berkeley, Mimeo, 2019. https://arxiv.org/pdf/1811.04170.pdf) to estimate the impact of the lockdown on weather normalised pollution relative to a control group of cities that were not in lockdown. We find NO 2 concentrations fell by as much as 24 mu g/m 3 during the lockdown (a reduction of 63% from the pre-lockdown level), while PM10 concentrations fell by a similar amount but for a shorter period. The lockdown had no discernible impact on concentrations of SO 2 or CO. We calculate that the reduction of NO 2 concentrations could have prevented as many as 496 deaths in Wuhan city, 3368 deaths in Hubei province and 10,822 deaths in China as a whole.</td>\n",
       "    </tr>\n",
       "    <tr>\n",
       "      <th>1709</th>\n",
       "      <td>0</td>\n",
       "      <td>Viscosity of ionic liquids: an extensive database and a new group contribution model based on a feed-forward artificial neural network. A knowledge of various thermophysical (in particular transport) properties of ionic liquids (ILs) is crucial from the point of view of potential applications of these fluids in chemical and related industries. In this work, over 13 000 data points of temperature- and pressure-dependent viscosity of 1484 ILs were retrieved from more than 450 research papers published in the open literature in the last three decades. The data were critically revised and then used to develop and test a new model allowing in silico predictions of the viscosities of ILs on the basis of the chemical structures of their cations and anions. The model employs a two-layer feed-forward artificial neural network (FFANN) strategy to represent the relationship between the viscosity and the input variables: temperature, pressure, and group contributions (GCs). In total, the resulting GC-FFANN model employs 242 GC-type molecular descriptors that are capable of accurately representing the viscosity behavior of ILs composed of 901 distinct ions. The neural network training, validation, and testing processes, involving 90, 5, and 5% of the whole data pool, respectively, gave mean square errors of 0.0334, 0.0595, and 0.0603 log units, corresponding to squared correlation coefficients of 0.986, 0.973, and 0.972 and overall relative deviations at the level of 11.1, 13.8, and 14.7%, respectively. The results calculated in this work were shown be more accurate than those obtained with the best current GC model for viscosity of ILs described in the literature.</td>\n",
       "    </tr>\n",
       "    <tr>\n",
       "      <th>4262</th>\n",
       "      <td>0</td>\n",
       "      <td>Repurposing Approved Drugs as Inhibitors of Kv7.1 and Nav1.8 to Treat Pitt Hopkins Syndrome. PURPOSE: Pitt Hopkins Syndrome (PTHS) is a rare genetic disorder caused by mutations of a specific gene, transcription factor 4 (TCF4), located on chromosome 18. PTHS results in individuals that have moderate to severe intellectual disability, with most exhibiting psychomotor delay. PTHS also exhibits features of autistic spectrum disorders, which are characterized by the impaired ability to communicate and socialize. PTHS is comorbid with a higher prevalence of epileptic seizures which can be present from birth or which commonly develop in childhood. Attenuated or absent TCF4 expression results in increased translation of peripheral ion channels Kv7.1 and Nav1.8 which triggers an increase in after-hyperpolarization and altered firing properties. METHODS: We now describe a high throughput screen (HTS) of 1280 approved drugs and machine learning models developed from this data. The ion channels were expressed in either CHO (KV7.1) or HEK293 (Nav1.8) cells and the HTS used either (86)Rb(+) efflux (KV7.1) or a FLIPR assay (Nav1.8). RESULTS: The HTS delivered 55 inhibitors of Kv7.1 (4.2% hit rate) and 93 inhibitors of Nav1.8 (7.2% hit rate) at a screening concentration of 10 muM. These datasets also enabled us to generate and validate Bayesian machine learning models for these ion channels. We also describe a structure activity relationship for several dihydropyridine compounds as inhibitors of Nav1.8. CONCLUSIONS: This work could lead to the potential repurposing of nicardipine or other dihydropyridine calcium channel antagonists as potential treatments for PTHS acting via Nav1.8, as there are currently no approved treatments for this rare disorder.</td>\n",
       "    </tr>\n",
       "    <tr>\n",
       "      <th>9356</th>\n",
       "      <td>0</td>\n",
       "      <td>Comparative analysis of outcomes and costs following open radical cystectomy versus robot-assisted laparoscopic radical cystectomy: results from the US Nationwide Inpatient Sample. BACKGROUND: Although robot-assisted laparoscopic radical cystectomy (RARC) was first reported in 2003 and has gained popularity, comparisons with open radical cystectomy (ORC) are limited to reports from high-volume referral centers. OBJECTIVE: To compare population-based perioperative outcomes and costs of ORC and RARC. DESIGN, SETTING, AND PARTICIPANTS: A retrospective observational cohort study using the US Nationwide Inpatient Sample to characterize 2009 RARC compared with ORC use and outcomes. OUTCOME MEASUREMENTS AND STATISTICAL ANALYSIS: Propensity score methods were used to compare inpatient morbidity and mortality, lengths of stay, and costs. RESULTS AND LIMITATIONS: We identified 1444 ORCs and 224 RARCs. Women were less likely to undergo RARC than ORC (9.8% compared with 15.5%, p = 0.048), and 95.7% of RARCs and 73.9% of ORCs were performed at teaching hospitals (p&lt;0.001). In adjusted analyses, subjects undergoing RARC compared with ORC experienced fewer inpatient complications (49.1% and 63.8%, p = 0.035) and fewer deaths (0% and 2.5%, p&lt;0.001). RARC compared with ORC was associated with lower parenteral nutrition use (6.4% and 13.3%, p = 0.046); however, there was no difference in length of stay. RARC compared with ORC was $3797 more costly (p = 0.023). Limitations include retrospective design, absence of tumor characteristics, and lack of outcomes beyond hospital discharge. CONCLUSIONS: RARC is associated with lower parenteral nutrition use and fewer inpatient complications and deaths. However, lengths of stay are similar, and the robotic approach is significantly more costly.</td>\n",
       "    </tr>\n",
       "    <tr>\n",
       "      <th>6249</th>\n",
       "      <td>1</td>\n",
       "      <td>Mobile healthcare for automatic driving sleep-onset detection using wavelet-based EEG and respiration signals. Driving drowsiness is a major cause of traffic accidents worldwide and has drawn the attention of researchers in recent decades. This paper presents an application for in-vehicle non-intrusive mobile-device-based automatic detection of driver sleep-onset in real time. The proposed application classifies the driving mental fatigue condition by analyzing the electroencephalogram (EEG) and respiration signals of a driver in the time and frequency domains. Our concept is heavily reliant on mobile technology, particularly remote physiological monitoring using Bluetooth. Respiratory events are gathered, and eight-channel EEG readings are captured from the frontal, central, and parietal (Fpz-Cz, Pz-Oz) regions. EEGs are preprocessed with a Butterworth bandpass filter, and features are subsequently extracted from the filtered EEG signals by employing the wavelet-packet-transform (WPT) method to categorize the signals into four frequency bands: alpha, beta, theta, and delta. A mutual information (MI) technique selects the most descriptive features for further classification. The reduction in the number of prominent features improves the sleep-onset classification speed in the support vector machine (SVM) and results in a high sleep-onset recognition rate. Test results reveal that the combined use of the EEG and respiration signals results in 98.6% recognition accuracy. Our proposed application explores the possibility of processing long-term multi-channel signals.</td>\n",
       "    </tr>\n",
       "    <tr>\n",
       "      <th>5089</th>\n",
       "      <td>0</td>\n",
       "      <td>SelfAT-Fold: protein fold recognition based on residue-based and motif-based self-attention networks. The protein fold recognition is a fundamental and crucial step of tertiary structure determination. In this regard, several computational predictors have been proposed. Recently, the predictive performance has been obviously improved by the fold-specific features generated by deep learning techniques. However, these methods failed to measure the global associations among residues or motifs along the protein sequences. Furthermore, these deep learning techniques are often treated as black boxes without interpretability. Inspired by the similarities between protein sequences and natural language sentences, we applied the self-attention mechanism derived from natural language processing (NLP) field to protein fold recognition. The motif-based self-attention network (MSAN) and the residue-based self-attention network (RSAN) capture the global associations among the structure motifs and residues along the protein sequences, respectively. The fold-specific attention features trained and generated from the training set were then combined with Support Vector Machines (SVMs) to predict the samples in the widely used LE benchmark dataset. Experimental results showed that the proposed two SelfAT-Fold predictors outperformed 34 existing state-of-the-art computational predictors. The two SelfAT-Fold predictors were further tested on an independent dataset SCOP_TEST, and they can achieve stable performance. The models and data of SelfAT-Fold can be downloaded from http://bliulab.net/selfAT_fold/.</td>\n",
       "    </tr>\n",
       "    <tr>\n",
       "      <th>1003</th>\n",
       "      <td>0</td>\n",
       "      <td>Acrosome integrity assessment of boar spermatozoa images using an early fusion of texture and contour descriptors. The assessment of the state of the acrosome is a priority in artificial insemination centres since it is one of the main causes of function loss. In this work, boar spermatozoa present in gray scale images acquired with a phase-contrast microscope have been classified as acrosome-intact or acrosome-damaged, after using fluorescent images for creating the ground truth. Based on shape prior criteria combined with Otsu's thresholding, regional minima and watershed transform, the spermatozoa heads were segmented and registered. One of the main novelties of this proposal is that, unlike what previous works stated, the obtained results show that the contour information of the spermatozoon head is important for improving description and classification. Other of this work novelties is that it confirms that combining different texture descriptors and contour descriptors yield the best classification rates for this problem up to date. The classification was performed with a Support Vector Machine backed by a Least Squares training algorithm and a linear kernel. Using the biggest acrosome intact-damaged dataset ever created, the early fusion approach followed provides a 0.9913 F-Score, outperforming all previous related works.</td>\n",
       "    </tr>\n",
       "    <tr>\n",
       "      <th>6713</th>\n",
       "      <td>1</td>\n",
       "      <td>Dimensionality reduced cortical features and their use in predicting longitudinal changes in Alzheimer's disease. Neuroimaging features derived from the cortical surface provide important information in detecting changes related to the progression of Alzheimer's disease (AD). Recent widespread adoption of neuroimaging has allowed researchers to study longitudinal data in AD. We adopted cortical thickness and sulcal depth, parameterized by three-dimensional meshes, from magnetic resonance imaging as the surface features. The cortical feature is high-dimensional, and it is difficult to use directly with a classifier because of the \"small sample size\" problem. We applied manifold learning to reduce the dimensionality of the feature and then tested the usage of the dimensionality reduced feature with a support vector machine classifier. Principal component analysis (PCA) was chosen as the method of manifold learning. PCA was applied to a region of interest within the cortical surface. We used 30 normal, 30 mild cognitive impairment (MCI) and 12 conversion cases taken from the ADNI database. The classifier was trained using the cortical features extracted from normal and MCI patients. The classifier was tested for the 12 conversion patients only using the imaging data before the actual conversion. The conversion was predicted early with an accuracy of 83%.</td>\n",
       "    </tr>\n",
       "    <tr>\n",
       "      <th>7195</th>\n",
       "      <td>0</td>\n",
       "      <td>Defaults, context, and knowledge: alternatives for OWL-indexed knowledge bases. The new Web Ontology Language (OWL) and its Description Logic compatible sublanguage (OWL-DL) explicitly exclude defaults and exceptions, as do all logic based formalisms for ontologies. However, many biomedical applications appear to require default reasoning, at least if they are to be engineered in a maintainable way. Default reasoning has always been one of the great strengths of Frame systems such as Protege. Resolving this conflict requires analysis of the different uses for defaults and exceptions. In some cases, alternatives can be provided within the OWL framework; in others, it appears that hybrid reasoning about a knowledge base of contingent facts built around the core ontology is necessary. Trade-offs include both human factors and the scaling of computational performance. The analysis presented here is based on the OpenGALEN experience with large scale ontologies using a formalism, GRAIL, which explicitly incorporates constructs for hybrid reasoning, numerous experiments with OWL, and initial work on combining OWL and Protege.</td>\n",
       "    </tr>\n",
       "    <tr>\n",
       "      <th>9629</th>\n",
       "      <td>0</td>\n",
       "      <td>Non-contrast coronary magnetic resonance angiography: current frontiers and future horizons. Coronary magnetic resonance angiography (coronary MRA) is advantageous in its ability to assess coronary artery morphology and function without ionizing radiation or contrast media. However, technical limitations including reduced spatial resolution, long acquisition times, and low signal-to-noise ratios prevent it from clinical routine utilization. Nonetheless, each of these limitations can be specifically addressed by a combination of novel technologies including super-resolution imaging, compressed sensing, and deep-learning reconstruction. In this paper, we first review the current clinical use and motivations for non-contrast coronary MRA, discuss currently available coronary MRA techniques, and highlight current technical developments that hold unique potential to optimize coronary MRA image acquisition and post-processing. In the final section, we examine the various research-based coronary MRA methods and metrics that can be leveraged to assess coronary stenosis severity, physiological function, and atherosclerotic plaque characterization. We specifically discuss how such technologies may contribute to the clinical translation of coronary MRA into a robust modality for routine clinical use.</td>\n",
       "    </tr>\n",
       "  </tbody>\n",
       "</table>\n",
       "</div>"
      ],
      "text/plain": [
       "      include  \\\n",
       "8642        0   \n",
       "1709        0   \n",
       "4262        0   \n",
       "9356        0   \n",
       "6249        1   \n",
       "5089        0   \n",
       "1003        0   \n",
       "6713        1   \n",
       "7195        0   \n",
       "9629        0   \n",
       "\n",
       "                                                                                                                                                                                                                                                                                                                                                                                                                                                                                                                                                                                                                                                                                                                                                                                                                                                                                                                                                                                                                                                                                                                                                                                                                                                                                                                                                                                                                                                                                                                                                                                                                                                                                                                                                                                                                                                                    feature  \n",
       "8642                                                                                                                                                                                                                                                                                                                                                                                                                                                                                                                                                                                                                                                     The Impact of the Wuhan Covid-19 Lockdown on Air Pollution and Health: A Machine Learning and Augmented Synthetic Control Approach. We quantify the impact of the Wuhan Covid-19 lockdown on concentrations of four air pollutants using a two-step approach. First, we use machine learning to remove the confounding effects of weather conditions on pollution concentrations. Second, we use a new augmented synthetic control method (Ben-Michael et al. in The augmented synthetic control method. University of California Berkeley, Mimeo, 2019. https://arxiv.org/pdf/1811.04170.pdf) to estimate the impact of the lockdown on weather normalised pollution relative to a control group of cities that were not in lockdown. We find NO 2 concentrations fell by as much as 24 mu g/m 3 during the lockdown (a reduction of 63% from the pre-lockdown level), while PM10 concentrations fell by a similar amount but for a shorter period. The lockdown had no discernible impact on concentrations of SO 2 or CO. We calculate that the reduction of NO 2 concentrations could have prevented as many as 496 deaths in Wuhan city, 3368 deaths in Hubei province and 10,822 deaths in China as a whole.  \n",
       "1709                                                                                                                       Viscosity of ionic liquids: an extensive database and a new group contribution model based on a feed-forward artificial neural network. A knowledge of various thermophysical (in particular transport) properties of ionic liquids (ILs) is crucial from the point of view of potential applications of these fluids in chemical and related industries. In this work, over 13 000 data points of temperature- and pressure-dependent viscosity of 1484 ILs were retrieved from more than 450 research papers published in the open literature in the last three decades. The data were critically revised and then used to develop and test a new model allowing in silico predictions of the viscosities of ILs on the basis of the chemical structures of their cations and anions. The model employs a two-layer feed-forward artificial neural network (FFANN) strategy to represent the relationship between the viscosity and the input variables: temperature, pressure, and group contributions (GCs). In total, the resulting GC-FFANN model employs 242 GC-type molecular descriptors that are capable of accurately representing the viscosity behavior of ILs composed of 901 distinct ions. The neural network training, validation, and testing processes, involving 90, 5, and 5% of the whole data pool, respectively, gave mean square errors of 0.0334, 0.0595, and 0.0603 log units, corresponding to squared correlation coefficients of 0.986, 0.973, and 0.972 and overall relative deviations at the level of 11.1, 13.8, and 14.7%, respectively. The results calculated in this work were shown be more accurate than those obtained with the best current GC model for viscosity of ILs described in the literature.  \n",
       "4262                                Repurposing Approved Drugs as Inhibitors of Kv7.1 and Nav1.8 to Treat Pitt Hopkins Syndrome. PURPOSE: Pitt Hopkins Syndrome (PTHS) is a rare genetic disorder caused by mutations of a specific gene, transcription factor 4 (TCF4), located on chromosome 18. PTHS results in individuals that have moderate to severe intellectual disability, with most exhibiting psychomotor delay. PTHS also exhibits features of autistic spectrum disorders, which are characterized by the impaired ability to communicate and socialize. PTHS is comorbid with a higher prevalence of epileptic seizures which can be present from birth or which commonly develop in childhood. Attenuated or absent TCF4 expression results in increased translation of peripheral ion channels Kv7.1 and Nav1.8 which triggers an increase in after-hyperpolarization and altered firing properties. METHODS: We now describe a high throughput screen (HTS) of 1280 approved drugs and machine learning models developed from this data. The ion channels were expressed in either CHO (KV7.1) or HEK293 (Nav1.8) cells and the HTS used either (86)Rb(+) efflux (KV7.1) or a FLIPR assay (Nav1.8). RESULTS: The HTS delivered 55 inhibitors of Kv7.1 (4.2% hit rate) and 93 inhibitors of Nav1.8 (7.2% hit rate) at a screening concentration of 10 muM. These datasets also enabled us to generate and validate Bayesian machine learning models for these ion channels. We also describe a structure activity relationship for several dihydropyridine compounds as inhibitors of Nav1.8. CONCLUSIONS: This work could lead to the potential repurposing of nicardipine or other dihydropyridine calcium channel antagonists as potential treatments for PTHS acting via Nav1.8, as there are currently no approved treatments for this rare disorder.  \n",
       "9356  Comparative analysis of outcomes and costs following open radical cystectomy versus robot-assisted laparoscopic radical cystectomy: results from the US Nationwide Inpatient Sample. BACKGROUND: Although robot-assisted laparoscopic radical cystectomy (RARC) was first reported in 2003 and has gained popularity, comparisons with open radical cystectomy (ORC) are limited to reports from high-volume referral centers. OBJECTIVE: To compare population-based perioperative outcomes and costs of ORC and RARC. DESIGN, SETTING, AND PARTICIPANTS: A retrospective observational cohort study using the US Nationwide Inpatient Sample to characterize 2009 RARC compared with ORC use and outcomes. OUTCOME MEASUREMENTS AND STATISTICAL ANALYSIS: Propensity score methods were used to compare inpatient morbidity and mortality, lengths of stay, and costs. RESULTS AND LIMITATIONS: We identified 1444 ORCs and 224 RARCs. Women were less likely to undergo RARC than ORC (9.8% compared with 15.5%, p = 0.048), and 95.7% of RARCs and 73.9% of ORCs were performed at teaching hospitals (p<0.001). In adjusted analyses, subjects undergoing RARC compared with ORC experienced fewer inpatient complications (49.1% and 63.8%, p = 0.035) and fewer deaths (0% and 2.5%, p<0.001). RARC compared with ORC was associated with lower parenteral nutrition use (6.4% and 13.3%, p = 0.046); however, there was no difference in length of stay. RARC compared with ORC was $3797 more costly (p = 0.023). Limitations include retrospective design, absence of tumor characteristics, and lack of outcomes beyond hospital discharge. CONCLUSIONS: RARC is associated with lower parenteral nutrition use and fewer inpatient complications and deaths. However, lengths of stay are similar, and the robotic approach is significantly more costly.  \n",
       "6249                                                                                                                                                                                                                 Mobile healthcare for automatic driving sleep-onset detection using wavelet-based EEG and respiration signals. Driving drowsiness is a major cause of traffic accidents worldwide and has drawn the attention of researchers in recent decades. This paper presents an application for in-vehicle non-intrusive mobile-device-based automatic detection of driver sleep-onset in real time. The proposed application classifies the driving mental fatigue condition by analyzing the electroencephalogram (EEG) and respiration signals of a driver in the time and frequency domains. Our concept is heavily reliant on mobile technology, particularly remote physiological monitoring using Bluetooth. Respiratory events are gathered, and eight-channel EEG readings are captured from the frontal, central, and parietal (Fpz-Cz, Pz-Oz) regions. EEGs are preprocessed with a Butterworth bandpass filter, and features are subsequently extracted from the filtered EEG signals by employing the wavelet-packet-transform (WPT) method to categorize the signals into four frequency bands: alpha, beta, theta, and delta. A mutual information (MI) technique selects the most descriptive features for further classification. The reduction in the number of prominent features improves the sleep-onset classification speed in the support vector machine (SVM) and results in a high sleep-onset recognition rate. Test results reveal that the combined use of the EEG and respiration signals results in 98.6% recognition accuracy. Our proposed application explores the possibility of processing long-term multi-channel signals.  \n",
       "5089                                                                                                                                                                                              SelfAT-Fold: protein fold recognition based on residue-based and motif-based self-attention networks. The protein fold recognition is a fundamental and crucial step of tertiary structure determination. In this regard, several computational predictors have been proposed. Recently, the predictive performance has been obviously improved by the fold-specific features generated by deep learning techniques. However, these methods failed to measure the global associations among residues or motifs along the protein sequences. Furthermore, these deep learning techniques are often treated as black boxes without interpretability. Inspired by the similarities between protein sequences and natural language sentences, we applied the self-attention mechanism derived from natural language processing (NLP) field to protein fold recognition. The motif-based self-attention network (MSAN) and the residue-based self-attention network (RSAN) capture the global associations among the structure motifs and residues along the protein sequences, respectively. The fold-specific attention features trained and generated from the training set were then combined with Support Vector Machines (SVMs) to predict the samples in the widely used LE benchmark dataset. Experimental results showed that the proposed two SelfAT-Fold predictors outperformed 34 existing state-of-the-art computational predictors. The two SelfAT-Fold predictors were further tested on an independent dataset SCOP_TEST, and they can achieve stable performance. The models and data of SelfAT-Fold can be downloaded from http://bliulab.net/selfAT_fold/.  \n",
       "1003                                                                                                                                                                                                                                                                                                                                                                                                                                                                 Acrosome integrity assessment of boar spermatozoa images using an early fusion of texture and contour descriptors. The assessment of the state of the acrosome is a priority in artificial insemination centres since it is one of the main causes of function loss. In this work, boar spermatozoa present in gray scale images acquired with a phase-contrast microscope have been classified as acrosome-intact or acrosome-damaged, after using fluorescent images for creating the ground truth. Based on shape prior criteria combined with Otsu's thresholding, regional minima and watershed transform, the spermatozoa heads were segmented and registered. One of the main novelties of this proposal is that, unlike what previous works stated, the obtained results show that the contour information of the spermatozoon head is important for improving description and classification. Other of this work novelties is that it confirms that combining different texture descriptors and contour descriptors yield the best classification rates for this problem up to date. The classification was performed with a Support Vector Machine backed by a Least Squares training algorithm and a linear kernel. Using the biggest acrosome intact-damaged dataset ever created, the early fusion approach followed provides a 0.9913 F-Score, outperforming all previous related works.  \n",
       "6713                                                                                                                                                                                                                                                                                                                                                                                                                                          Dimensionality reduced cortical features and their use in predicting longitudinal changes in Alzheimer's disease. Neuroimaging features derived from the cortical surface provide important information in detecting changes related to the progression of Alzheimer's disease (AD). Recent widespread adoption of neuroimaging has allowed researchers to study longitudinal data in AD. We adopted cortical thickness and sulcal depth, parameterized by three-dimensional meshes, from magnetic resonance imaging as the surface features. The cortical feature is high-dimensional, and it is difficult to use directly with a classifier because of the \"small sample size\" problem. We applied manifold learning to reduce the dimensionality of the feature and then tested the usage of the dimensionality reduced feature with a support vector machine classifier. Principal component analysis (PCA) was chosen as the method of manifold learning. PCA was applied to a region of interest within the cortical surface. We used 30 normal, 30 mild cognitive impairment (MCI) and 12 conversion cases taken from the ADNI database. The classifier was trained using the cortical features extracted from normal and MCI patients. The classifier was tested for the 12 conversion patients only using the imaging data before the actual conversion. The conversion was predicted early with an accuracy of 83%.  \n",
       "7195                                                                                                                                                                                                                                                                                                                                                                                                                                                                                                                                                                                                                                                                                       Defaults, context, and knowledge: alternatives for OWL-indexed knowledge bases. The new Web Ontology Language (OWL) and its Description Logic compatible sublanguage (OWL-DL) explicitly exclude defaults and exceptions, as do all logic based formalisms for ontologies. However, many biomedical applications appear to require default reasoning, at least if they are to be engineered in a maintainable way. Default reasoning has always been one of the great strengths of Frame systems such as Protege. Resolving this conflict requires analysis of the different uses for defaults and exceptions. In some cases, alternatives can be provided within the OWL framework; in others, it appears that hybrid reasoning about a knowledge base of contingent facts built around the core ontology is necessary. Trade-offs include both human factors and the scaling of computational performance. The analysis presented here is based on the OpenGALEN experience with large scale ontologies using a formalism, GRAIL, which explicitly incorporates constructs for hybrid reasoning, numerous experiments with OWL, and initial work on combining OWL and Protege.  \n",
       "9629                                                                                                                                                                                                                                                                                                                                                                                                                                                                                                         Non-contrast coronary magnetic resonance angiography: current frontiers and future horizons. Coronary magnetic resonance angiography (coronary MRA) is advantageous in its ability to assess coronary artery morphology and function without ionizing radiation or contrast media. However, technical limitations including reduced spatial resolution, long acquisition times, and low signal-to-noise ratios prevent it from clinical routine utilization. Nonetheless, each of these limitations can be specifically addressed by a combination of novel technologies including super-resolution imaging, compressed sensing, and deep-learning reconstruction. In this paper, we first review the current clinical use and motivations for non-contrast coronary MRA, discuss currently available coronary MRA techniques, and highlight current technical developments that hold unique potential to optimize coronary MRA image acquisition and post-processing. In the final section, we examine the various research-based coronary MRA methods and metrics that can be leveraged to assess coronary stenosis severity, physiological function, and atherosclerotic plaque characterization. We specifically discuss how such technologies may contribute to the clinical translation of coronary MRA into a robust modality for routine clinical use.  "
      ]
     },
     "execution_count": 54,
     "metadata": {},
     "output_type": "execute_result"
    }
   ],
   "source": [
    "pd.set_option('display.max_colwidth', None)\n",
    "\n",
    "traindf.head(10)"
   ]
  },
  {
   "cell_type": "markdown",
   "id": "ac6dd023",
   "metadata": {},
   "source": [
    "## tensor wrappers\n",
    "\n",
    "from_tensor_slices creates a tensor wrapper that combines training features with labels"
   ]
  },
  {
   "cell_type": "code",
   "execution_count": 55,
   "id": "7c979686",
   "metadata": {},
   "outputs": [],
   "source": [
    "##TRAINING WRAPPER\n",
    "train_ds = tf.data.Dataset.from_tensor_slices((traindf['feature'].to_numpy().reshape(-1,1),\n",
    "                                               traindf['include'].to_numpy().reshape(-1,1)))"
   ]
  },
  {
   "cell_type": "code",
   "execution_count": 56,
   "id": "c2d8106a",
   "metadata": {},
   "outputs": [],
   "source": [
    "##VALIDATION WRAPPER\n",
    "val_ds = tf.data.Dataset.from_tensor_slices((valdf['feature'].to_numpy().reshape(-1,1),\n",
    "                                             valdf['include'].to_numpy().reshape(-1,1)))"
   ]
  },
  {
   "cell_type": "code",
   "execution_count": 57,
   "id": "04d07f57",
   "metadata": {},
   "outputs": [],
   "source": [
    "##TEST SET WRAPPER\n",
    "test_ds = tf.data.Dataset.from_tensor_slices((testdf['feature'].to_numpy().reshape(-1,1),\n",
    "                                              testdf['include'].to_numpy().reshape(-1,1)))"
   ]
  },
  {
   "cell_type": "markdown",
   "id": "f0c2c746-58c3-4af7-a0f2-9a6d0396f823",
   "metadata": {},
   "source": [
    "## Batch and optimise datasets"
   ]
  },
  {
   "cell_type": "code",
   "execution_count": 58,
   "id": "f695aeb6-8d01-421c-8145-c69d8021ba8f",
   "metadata": {},
   "outputs": [],
   "source": [
    "AUTOTUNE = tf.data.experimental.AUTOTUNE\n",
    "\n",
    "def configure_for_performance(ds):\n",
    "    ds = ds.cache()\n",
    "    ds = ds.shuffle(buffer_size=1000)\n",
    "    ds = ds.batch(batch_size)\n",
    "    ds = ds.prefetch(buffer_size=AUTOTUNE)\n",
    "    return ds"
   ]
  },
  {
   "cell_type": "code",
   "execution_count": 59,
   "id": "715291c4-dadf-4f48-8099-5cf2a0fd47f5",
   "metadata": {},
   "outputs": [],
   "source": [
    "batch_size = 8\n",
    "\n",
    "train_ds_batched = configure_for_performance(train_ds)\n",
    "val_ds_batched = configure_for_performance(val_ds)\n",
    "test_ds_batched = configure_for_performance(test_ds)"
   ]
  },
  {
   "cell_type": "markdown",
   "id": "3210971b",
   "metadata": {},
   "source": [
    "## Configuring BERT: 1) preprocessing 2) vectorization\n",
    "\n",
    "Code is largely adapted from here (also has links to other BERT libraries): https://www.tensorflow.org/text/tutorials/classify_text_with_bert"
   ]
  },
  {
   "cell_type": "code",
   "execution_count": 60,
   "id": "ea148a4b",
   "metadata": {},
   "outputs": [],
   "source": [
    "# BERT model for vectorization\n",
    "\n",
    "bert_vec_model = 'experts_pubmed'\n",
    "\n",
    "map_name_to_handle = {\n",
    "    'experts_pubmed':\n",
    "        'https://tfhub.dev/google/experts/bert/pubmed/2',\n",
    "}\n",
    "\n",
    "tfhub_handle_encoder = map_name_to_handle[bert_vec_model]\n",
    "\n",
    "bert_model = hub.KerasLayer(tfhub_handle_encoder) #wraps this as a Keras layer"
   ]
  },
  {
   "cell_type": "code",
   "execution_count": 61,
   "id": "491e790f",
   "metadata": {},
   "outputs": [],
   "source": [
    "#BERT model for pre-processing\n",
    "\n",
    "map_model_to_preprocess = {\n",
    "    'experts_pubmed':\n",
    "        'https://tfhub.dev/tensorflow/bert_en_uncased_preprocess/3',\n",
    "}\n",
    "\n",
    "tfhub_handle_preprocess = map_model_to_preprocess[bert_vec_model]\n",
    "\n",
    "bert_preprocess_model = hub.KerasLayer(tfhub_handle_preprocess) #wraps this as a Keras layer"
   ]
  },
  {
   "cell_type": "code",
   "execution_count": 62,
   "id": "844c1475",
   "metadata": {},
   "outputs": [
    {
     "name": "stdout",
     "output_type": "stream",
     "text": [
      "BERT model selected: https://tfhub.dev/google/experts/bert/pubmed/2\n",
      "Pre-process model selected: https://tfhub.dev/tensorflow/bert_en_uncased_preprocess/3\n"
     ]
    }
   ],
   "source": [
    "print(f'BERT model selected: {tfhub_handle_encoder}')\n",
    "print(f'Pre-process model selected: {tfhub_handle_preprocess}')"
   ]
  },
  {
   "cell_type": "code",
   "execution_count": 63,
   "id": "52802f91",
   "metadata": {},
   "outputs": [
    {
     "name": "stdout",
     "output_type": "stream",
     "text": [
      "Keys       : ['input_word_ids', 'input_type_ids', 'input_mask']\n",
      "Shape      : (1, 128)\n",
      "Word Ids   : [  101  2023  7976  4454  2944 16014  2015 22935  3891  2013  9052 11522]\n",
      "Input Mask : [1 1 1 1 1 1 1 1 1 1 1 1]\n",
      "Type Ids   : [0 0 0 0 0 0 0 0 0 0 0 0]\n"
     ]
    }
   ],
   "source": [
    "#check bert_preprocess_model on test text - preprocessing should split tokens into word ids / mask /type\n",
    "\n",
    "text_test = ['This artificial intelligence model predicts cardiovascular risk from echocardiogram images']\n",
    "text_preprocessed = bert_preprocess_model(text_test)\n",
    "\n",
    "print(f'Keys       : {list(text_preprocessed.keys())}')\n",
    "print(f'Shape      : {text_preprocessed[\"input_word_ids\"].shape}')\n",
    "print(f'Word Ids   : {text_preprocessed[\"input_word_ids\"][0, :12]}')\n",
    "print(f'Input Mask : {text_preprocessed[\"input_mask\"][0, :12]}')\n",
    "print(f'Type Ids   : {text_preprocessed[\"input_type_ids\"][0, :12]}')"
   ]
  },
  {
   "cell_type": "code",
   "execution_count": 64,
   "id": "f0b09b7e",
   "metadata": {},
   "outputs": [
    {
     "name": "stdout",
     "output_type": "stream",
     "text": [
      "Loaded BERT: https://tfhub.dev/google/experts/bert/pubmed/2\n",
      "Pooled Outputs Shape:(1, 768)\n",
      "Pooled Outputs Values:[-0.32493797 -0.08269644  0.43817562 -0.00690068 -0.62928677  0.05597171\n",
      "  0.4818498   0.99116695  0.3956298  -0.67973065  0.58589137 -0.84271526]\n",
      "Sequence Outputs Shape:(1, 128, 768)\n",
      "Sequence Outputs Values:[[-0.33714035 -0.08289197  0.46994045 ...  0.90201384  0.09892417\n",
      "   0.4827702 ]\n",
      " [-0.43940446 -0.53751194  0.9816394  ... -0.1439727   0.04650824\n",
      "  -1.0800732 ]\n",
      " [-0.37110242  0.54176795  1.1818852  ...  0.6468271   1.2018124\n",
      "  -0.12319165]\n",
      " ...\n",
      " [-0.26433367  0.506499   -0.15520334 ... -0.1534574  -0.32176602\n",
      "   2.5074317 ]\n",
      " [ 1.027251    1.5112157   0.9053338  ...  0.43650022  0.8284113\n",
      "   0.36862728]\n",
      " [ 1.0718784   1.1523868   0.58389664 ...  0.7688351   0.5206408\n",
      "  -0.4710126 ]]\n"
     ]
    }
   ],
   "source": [
    "#check bert_model is functional for given inputs\n",
    "\n",
    "bert_results = bert_model(text_preprocessed)\n",
    "\n",
    "print(f'Loaded BERT: {tfhub_handle_encoder}')\n",
    "print(f'Pooled Outputs Shape:{bert_results[\"pooled_output\"].shape}')\n",
    "print(f'Pooled Outputs Values:{bert_results[\"pooled_output\"][0, :12]}')\n",
    "print(f'Sequence Outputs Shape:{bert_results[\"sequence_output\"].shape}')\n",
    "print(f'Sequence Outputs Values:{bert_results[\"sequence_output\"][0, :12]}')"
   ]
  },
  {
   "cell_type": "markdown",
   "id": "72a243c5",
   "metadata": {},
   "source": [
    "## Building BERT classifier pipeline\n",
    "\n",
    "This pipeline will: take raw data wrappers -> pre-process and encode with BERT (using Keraslayers defined above) -> classify using simple net"
   ]
  },
  {
   "cell_type": "code",
   "execution_count": 65,
   "id": "4c5d5e92",
   "metadata": {},
   "outputs": [],
   "source": [
    "def build_classifier_model(seq_length=256):\n",
    "\n",
    "    # Define input layer\n",
    "    text_input = tf.keras.layers.Input(shape=(), dtype=tf.string, name=\"text_input\")\n",
    "    \n",
    "    # Load the pretrained preprocessor\n",
    "    bert_preprocessor = hub.load(tfhub_handle_preprocess)\n",
    "    \n",
    "    # Tokenize the input text\n",
    "    tokenizer = hub.KerasLayer(bert_preprocessor.tokenize, name='tokenizer')\n",
    "    tokenized_inputs = [tokenizer(text_input)]\n",
    "\n",
    "    # Pack the tokenized input for the encoder\n",
    "    bert_pack_inputs = hub.KerasLayer(bert_preprocessor.bert_pack_inputs,\n",
    "                                      arguments=dict(seq_length=seq_length), name='packer')\n",
    "    \n",
    "    encoder_inputs = bert_pack_inputs(tokenized_inputs)\n",
    "    \n",
    "    #BERT encoding layer\n",
    "    encoder = hub.KerasLayer(tfhub_handle_encoder, trainable=True, name='BERT_encoder')\n",
    "    outputs = encoder(encoder_inputs)\n",
    "    \n",
    "    #Output layers\n",
    "    net = outputs['pooled_output']\n",
    "    net = tf.keras.layers.Dropout(0.1)(net)\n",
    "    net = tf.keras.layers.Dense(1, activation=None, name='classifier')(net)\n",
    "    \n",
    "    return tf.keras.Model(text_input, net)"
   ]
  },
  {
   "cell_type": "code",
   "execution_count": 66,
   "id": "5be1ea92",
   "metadata": {},
   "outputs": [
    {
     "name": "stdout",
     "output_type": "stream",
     "text": [
      "Model: \"model_1\"\n",
      "__________________________________________________________________________________________________\n",
      "Layer (type)                    Output Shape         Param #     Connected to                     \n",
      "==================================================================================================\n",
      "text_input (InputLayer)         [(None,)]            0                                            \n",
      "__________________________________________________________________________________________________\n",
      "tokenizer (KerasLayer)          (None, None, None)   0           text_input[0][0]                 \n",
      "__________________________________________________________________________________________________\n",
      "packer (KerasLayer)             {'input_mask': (None 0           tokenizer[0][0]                  \n",
      "__________________________________________________________________________________________________\n",
      "BERT_encoder (KerasLayer)       {'encoder_outputs':  109482241   packer[0][0]                     \n",
      "                                                                 packer[0][1]                     \n",
      "                                                                 packer[0][2]                     \n",
      "__________________________________________________________________________________________________\n",
      "dropout_1 (Dropout)             (None, 768)          0           BERT_encoder[0][13]              \n",
      "__________________________________________________________________________________________________\n",
      "classifier (Dense)              (None, 1)            769         dropout_1[0][0]                  \n",
      "==================================================================================================\n",
      "Total params: 109,483,010\n",
      "Trainable params: 109,483,009\n",
      "Non-trainable params: 1\n",
      "__________________________________________________________________________________________________\n"
     ]
    }
   ],
   "source": [
    "classifier_model = build_classifier_model()\n",
    "\n",
    "classifier_model.summary()"
   ]
  },
  {
   "cell_type": "code",
   "execution_count": 79,
   "id": "94ccc5d7",
   "metadata": {},
   "outputs": [
    {
     "name": "stderr",
     "output_type": "stream",
     "text": [
      "INFO:absl:using Adamw optimizer\n",
      "INFO:absl:gradient_clip_norm=1.000000\n"
     ]
    },
    {
     "name": "stdout",
     "output_type": "stream",
     "text": [
      "1214\n",
      "2428\n",
      "242\n"
     ]
    }
   ],
   "source": [
    "#loss\n",
    "loss = tf.keras.losses.BinaryCrossentropy(from_logits=True)\n",
    "\n",
    "#metrics\n",
    "metrics = ['BinaryAccuracy']\n",
    "\n",
    "#epochs\n",
    "epochs = 2\n",
    "\n",
    "#optimization\n",
    "steps_per_epoch = tf.data.experimental.cardinality(train_ds_batched).numpy()\n",
    "print(steps_per_epoch)\n",
    "num_train_steps = steps_per_epoch * epochs\n",
    "print(num_train_steps)\n",
    "num_warmup_steps = int(0.1*num_train_steps)\n",
    "print(num_warmup_steps)\n",
    "init_lr = 1e-5\n",
    "\n",
    "optimizer = optimization.create_optimizer(init_lr=init_lr,\n",
    "                                          num_train_steps=num_train_steps,\n",
    "                                          num_warmup_steps=num_warmup_steps,\n",
    "                                          optimizer_type='adamw')\n",
    "\n",
    "\n",
    "# models.optimization dependent on tf-official-models, which depends on pycococo which does not install on windows without workaround:\n",
    "# https://github.com/philferriere/cocoapi\n",
    "# 1) upgrade visual basic to 2019 and install C++ tools in that library\n",
    "# 2) install pycococo using direct from git installation in the github link (may need git library first)\n",
    "# 3) then install tf-official-models using pip\n",
    "\n",
    "##alternative optimizer\n",
    "#optimizer = tf.keras.optimizers.Adam(learning_rate=0.001, beta_1=0.9, beta_2=0.999, epsilon=1e-07, amsgrad=False,\n",
    "#                                        name='Adam'\n",
    "#                                        )"
   ]
  },
  {
   "cell_type": "code",
   "execution_count": 80,
   "id": "55f95b05",
   "metadata": {},
   "outputs": [],
   "source": [
    "classifier_model.compile(optimizer=optimizer,\n",
    "                         loss=loss,\n",
    "                         metrics=metrics)"
   ]
  },
  {
   "cell_type": "markdown",
   "id": "64560f20",
   "metadata": {},
   "source": [
    "## Fit classifier model"
   ]
  },
  {
   "cell_type": "code",
   "execution_count": 81,
   "id": "f5e6995b",
   "metadata": {},
   "outputs": [
    {
     "name": "stdout",
     "output_type": "stream",
     "text": [
      "Training model with https://tfhub.dev/google/experts/bert/pubmed/2\n",
      "Epoch 1/2\n",
      "1214/1214 [==============================] - 226s 180ms/step - loss: 0.0694 - binary_accuracy: 0.9849 - val_loss: 0.1045 - val_binary_accuracy: 0.9753\n",
      "Epoch 2/2\n",
      "1214/1214 [==============================] - 218s 179ms/step - loss: 0.0277 - binary_accuracy: 0.9935 - val_loss: 0.1109 - val_binary_accuracy: 0.9724\n"
     ]
    }
   ],
   "source": [
    "print(f'Training model with {tfhub_handle_encoder}')\n",
    "history = classifier_model.fit(x=train_ds_batched,\n",
    "                               validation_data=val_ds_batched,\n",
    "                               epochs=epochs\n",
    "                               )"
   ]
  },
  {
   "cell_type": "code",
   "execution_count": 82,
   "id": "a02c8de2",
   "metadata": {},
   "outputs": [
    {
     "name": "stdout",
     "output_type": "stream",
     "text": [
      "dict_keys(['loss', 'binary_accuracy', 'val_loss', 'val_binary_accuracy'])\n"
     ]
    },
    {
     "data": {
      "text/plain": [
       "<matplotlib.legend.Legend at 0x23400e242e0>"
      ]
     },
     "execution_count": 82,
     "metadata": {},
     "output_type": "execute_result"
    },
    {
     "data": {
      "image/png": "[encoded data removed]",
      "text/plain": [
       "<Figure size 720x432 with 2 Axes>"
      ]
     },
     "metadata": {
      "needs_background": "light"
     },
     "output_type": "display_data"
    }
   ],
   "source": [
    "history_dict = history.history\n",
    "print(history_dict.keys())\n",
    "\n",
    "acc = history_dict['binary_accuracy']\n",
    "val_acc = history_dict['val_binary_accuracy']\n",
    "loss = history_dict['loss']\n",
    "val_loss = history_dict['val_loss']\n",
    "\n",
    "epochs = range(1, len(acc) + 1)\n",
    "fig = plt.figure(figsize=(10, 6))\n",
    "fig.tight_layout()\n",
    "\n",
    "plt.subplot(2, 1, 1)\n",
    "# \"bo\" is for \"blue dot\"\n",
    "plt.plot(epochs, loss, 'r', label='Training loss')\n",
    "# b is for \"solid blue line\"\n",
    "plt.plot(epochs, val_loss, 'b', label='Validation loss')\n",
    "plt.title('Training and validation loss')\n",
    "# plt.xlabel('Epochs')\n",
    "plt.ylabel('Loss')\n",
    "plt.legend()\n",
    "\n",
    "plt.subplot(2, 1, 2)\n",
    "plt.plot(epochs, acc, 'r', label='Training acc')\n",
    "plt.plot(epochs, val_acc, 'b', label='Validation acc')\n",
    "plt.title('Training and validation accuracy')\n",
    "plt.xlabel('Epochs')\n",
    "plt.ylabel('Accuracy')\n",
    "plt.legend(loc='lower right')"
   ]
  },
  {
   "cell_type": "code",
   "execution_count": 83,
   "id": "6df4710f",
   "metadata": {},
   "outputs": [
    {
     "name": "stdout",
     "output_type": "stream",
     "text": [
      "1079/1079 [==============================] - 28s 25ms/step - loss: 0.1645 - binary_accuracy: 0.9750\n",
      "Loss: 0.16449490189552307\n",
      "Accuracy: 0.9749768376350403\n"
     ]
    }
   ],
   "source": [
    "##re-test on test_ds\n",
    "\n",
    "loss, accuracy = classifier_model.evaluate(test_ds)\n",
    "\n",
    "print(f'Loss: {loss}')\n",
    "print(f'Accuracy: {accuracy}')"
   ]
  },
  {
   "cell_type": "code",
   "execution_count": 84,
   "id": "acc66591-4490-4b6a-bdd7-f30057f50bdf",
   "metadata": {},
   "outputs": [],
   "source": [
    "y_pred = classifier_model.predict(testdf['feature'])\n",
    "y_pred = y_pred.reshape(1079)\n",
    "y_pred = np.asarray(tf.round(tf.nn.sigmoid(y_pred)))"
   ]
  },
  {
   "cell_type": "code",
   "execution_count": 85,
   "id": "1f3c603d-254f-4121-bd73-a6e8b4a5f267",
   "metadata": {},
   "outputs": [],
   "source": [
    "from sklearn.metrics import classification_report, confusion_matrix, ConfusionMatrixDisplay"
   ]
  },
  {
   "cell_type": "code",
   "execution_count": 86,
   "id": "9bf9f363-e210-43ba-8d3b-761f214856d0",
   "metadata": {},
   "outputs": [
    {
     "name": "stdout",
     "output_type": "stream",
     "text": [
      "              precision    recall  f1-score   support\n",
      "\n",
      "           0       0.99      0.98      0.98       866\n",
      "           1       0.93      0.94      0.94       213\n",
      "\n",
      "    accuracy                           0.97      1079\n",
      "   macro avg       0.96      0.96      0.96      1079\n",
      "weighted avg       0.98      0.97      0.98      1079\n",
      "\n"
     ]
    }
   ],
   "source": [
    "print(classification_report(testdf['include'], y_pred))"
   ]
  },
  {
   "cell_type": "code",
   "execution_count": 87,
   "id": "9c6df07c-15bc-4d67-92a3-d1b0e47b13fa",
   "metadata": {},
   "outputs": [
    {
     "data": {
      "text/plain": [
       "<sklearn.metrics._plot.confusion_matrix.ConfusionMatrixDisplay at 0x233fdce6910>"
      ]
     },
     "execution_count": 87,
     "metadata": {},
     "output_type": "execute_result"
    },
    {
     "data": {
      "image/png": "[encoded data removed]",
      "text/plain": [
       "<Figure size 432x288 with 2 Axes>"
      ]
     },
     "metadata": {
      "needs_background": "light"
     },
     "output_type": "display_data"
    }
   ],
   "source": [
    "cm = ConfusionMatrixDisplay(confusion_matrix(testdf['include'], y_pred))\n",
    "\n",
    "cm.plot()"
   ]
  },
  {
   "cell_type": "code",
   "execution_count": 88,
   "id": "8651328d-4910-403e-87da-d7bdb5738719",
   "metadata": {},
   "outputs": [
    {
     "name": "stderr",
     "output_type": "stream",
     "text": [
      "C:\\Users\\Joe Z\\anaconda3\\envs\\tensorflow\\lib\\site-packages\\pandas\\core\\indexing.py:1773: SettingWithCopyWarning: \n",
      "A value is trying to be set on a copy of a slice from a DataFrame.\n",
      "Try using .loc[row_indexer,col_indexer] = value instead\n",
      "\n",
      "See the caveats in the documentation: https://pandas.pydata.org/pandas-docs/stable/user_guide/indexing.html#returning-a-view-versus-a-copy\n",
      "  self._setitem_single_column(ilocs[0], value, pi)\n"
     ]
    }
   ],
   "source": [
    "testdf.loc[:,'predicted'] = np.asarray(y_pred)"
   ]
  },
  {
   "cell_type": "code",
   "execution_count": 89,
   "id": "8f6668f0-9ee2-4c8f-9d2b-baa825b4cfd3",
   "metadata": {},
   "outputs": [
    {
     "data": {
      "text/plain": [
       "(1079,)"
      ]
     },
     "execution_count": 89,
     "metadata": {},
     "output_type": "execute_result"
    }
   ],
   "source": [
    "np.asarray(y_pred).shape"
   ]
  },
  {
   "cell_type": "code",
   "execution_count": 90,
   "id": "924c0ae5-2c79-492f-9b44-55b244798721",
   "metadata": {},
   "outputs": [],
   "source": [
    "misclassified = testdf[testdf.include != testdf.predicted]\n",
    "misclassified.to_csv('bert_misclassified.csv')"
   ]
  },
  {
   "cell_type": "markdown",
   "id": "d488f8ca",
   "metadata": {},
   "source": [
    "## Save model"
   ]
  },
  {
   "cell_type": "code",
   "execution_count": 91,
   "id": "0231517b",
   "metadata": {},
   "outputs": [
    {
     "name": "stderr",
     "output_type": "stream",
     "text": [
      "WARNING:absl:Found untraced functions such as restored_function_body, restored_function_body, restored_function_body, restored_function_body, restored_function_body while saving (showing 5 of 900). These functions will not be directly callable after loading.\n"
     ]
    }
   ],
   "source": [
    "#EXPORT MODEL\n",
    "\n",
    "saved_model_path = 'models/ai_literature_bert'\n",
    "\n",
    "classifier_model.save(saved_model_path, include_optimizer=False)"
   ]
  },
  {
   "cell_type": "code",
   "execution_count": 92,
   "id": "c1340800",
   "metadata": {},
   "outputs": [
    {
     "name": "stderr",
     "output_type": "stream",
     "text": [
      "WARNING:absl:Found untraced functions such as restored_function_body, restored_function_body, restored_function_body, restored_function_body, restored_function_body while saving (showing 5 of 900). These functions will not be directly callable after loading.\n"
     ]
    }
   ],
   "source": [
    "#EXPORT MODEL2\n",
    "\n",
    "saved_model_path = 'models/ai_literature_bert_optimizer'\n",
    "\n",
    "classifier_model.save(saved_model_path, include_optimizer=True)"
   ]
  },
  {
   "cell_type": "code",
   "execution_count": null,
   "id": "801474d5",
   "metadata": {},
   "outputs": [],
   "source": []
  }
 ],
 "metadata": {
  "kernelspec": {
   "display_name": "Python 3 (ipykernel)",
   "language": "python",
   "name": "python3"
  },
  "language_info": {
   "codemirror_mode": {
    "name": "ipython",
    "version": 3
   },
   "file_extension": ".py",
   "mimetype": "text/x-python",
   "name": "python",
   "nbconvert_exporter": "python",
   "pygments_lexer": "ipython3",
   "version": "3.9.5"
  }
 },
 "nbformat": 4,
 "nbformat_minor": 5
}
