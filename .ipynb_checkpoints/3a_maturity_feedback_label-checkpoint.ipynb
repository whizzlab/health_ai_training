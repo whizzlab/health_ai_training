{
 "cells": [
  {
   "cell_type": "code",
   "execution_count": 1,
   "id": "d0d403c7",
   "metadata": {},
   "outputs": [],
   "source": [
    "import os\n",
    "import shutil\n",
    "import sys\n",
    "from tqdm import tqdm\n",
    "\n",
    "import tensorflow as tf\n",
    "import tensorflow_hub as hub\n",
    "import tensorflow_text as text\n",
    "from official.nlp import optimization  # to create AdamW optimizer\n",
    "\n",
    "tf.get_logger().setLevel('ERROR')"
   ]
  },
  {
   "cell_type": "code",
   "execution_count": 2,
   "id": "d6838b41",
   "metadata": {},
   "outputs": [],
   "source": [
    "import pandas as pd\n",
    "import numpy as np\n",
    "import matplotlib.pyplot as plt\n",
    "import seaborn as sns\n",
    "import re\n",
    "import nltk\n",
    "\n",
    "#for BERT\n",
    "import transformers"
   ]
  },
  {
   "cell_type": "code",
   "execution_count": 3,
   "id": "4510e657",
   "metadata": {},
   "outputs": [
    {
     "name": "stdout",
     "output_type": "stream",
     "text": [
      "[name: \"/device:CPU:0\"\n",
      "device_type: \"CPU\"\n",
      "memory_limit: 268435456\n",
      "locality {\n",
      "}\n",
      "incarnation: 11667513408113877868\n",
      ", name: \"/device:GPU:0\"\n",
      "device_type: \"GPU\"\n",
      "memory_limit: 10161326080\n",
      "locality {\n",
      "  bus_id: 1\n",
      "  links {\n",
      "  }\n",
      "}\n",
      "incarnation: 5468096745878897231\n",
      "physical_device_desc: \"device: 0, name: NVIDIA GeForce RTX 3090, pci bus id: 0000:01:00.0, compute capability: 8.6\"\n",
      "]\n",
      "2.5.0\n"
     ]
    }
   ],
   "source": [
    "from tensorflow.python.client import device_lib\n",
    "print(device_lib.list_local_devices())\n",
    "print(tf.__version__)"
   ]
  },
  {
   "cell_type": "code",
   "execution_count": 4,
   "id": "575ce426",
   "metadata": {},
   "outputs": [],
   "source": [
    "# GPU options to limit OOM erors\n",
    "physical_devices = tf.config.experimental.list_physical_devices('GPU')\n",
    "tf.config.experimental.set_memory_growth(physical_devices[0], True)"
   ]
  },
  {
   "cell_type": "markdown",
   "id": "862bb192",
   "metadata": {},
   "source": [
    "## Reload model"
   ]
  },
  {
   "cell_type": "code",
   "execution_count": 5,
   "id": "e03214bc",
   "metadata": {},
   "outputs": [],
   "source": [
    "#RELOAD MODEL\n",
    "\n",
    "saved_model_path = 'models/maturity_bert'\n",
    "\n",
    "reloaded_model = tf.saved_model.load(saved_model_path)"
   ]
  },
  {
   "cell_type": "code",
   "execution_count": 6,
   "id": "40e5e78d",
   "metadata": {},
   "outputs": [
    {
     "data": {
      "text/plain": [
       "<tensorflow.python.saved_model.load.Loader._recreate_base_user_object.<locals>._UserObject at 0x253992638e0>"
      ]
     },
     "execution_count": 6,
     "metadata": {},
     "output_type": "execute_result"
    }
   ],
   "source": [
    "reloaded_model"
   ]
  },
  {
   "cell_type": "markdown",
   "id": "4960d6e2",
   "metadata": {},
   "source": [
    "## Label data subset for further round of active learning"
   ]
  },
  {
   "cell_type": "code",
   "execution_count": 8,
   "id": "fae69321",
   "metadata": {},
   "outputs": [],
   "source": [
    "complete = pd.read_csv('training_data/training_maturity.csv', index_col=0)"
   ]
  },
  {
   "cell_type": "code",
   "execution_count": 9,
   "id": "db8f2fe5",
   "metadata": {},
   "outputs": [
    {
     "data": {
      "text/html": [
       "<div>\n",
       "<style scoped>\n",
       "    .dataframe tbody tr th:only-of-type {\n",
       "        vertical-align: middle;\n",
       "    }\n",
       "\n",
       "    .dataframe tbody tr th {\n",
       "        vertical-align: top;\n",
       "    }\n",
       "\n",
       "    .dataframe thead th {\n",
       "        text-align: right;\n",
       "    }\n",
       "</style>\n",
       "<table border=\"1\" class=\"dataframe\">\n",
       "  <thead>\n",
       "    <tr style=\"text-align: right;\">\n",
       "      <th></th>\n",
       "      <th>feature</th>\n",
       "    </tr>\n",
       "  </thead>\n",
       "  <tbody>\n",
       "    <tr>\n",
       "      <th>1000001566</th>\n",
       "      <td>We developed and evaluated the accuracy/perfor...</td>\n",
       "    </tr>\n",
       "    <tr>\n",
       "      <th>1000001567</th>\n",
       "      <td>The drug addicts are classified into mild, mod...</td>\n",
       "    </tr>\n",
       "    <tr>\n",
       "      <th>1000001568</th>\n",
       "      <td>Neural network performs better than clinical j...</td>\n",
       "    </tr>\n",
       "    <tr>\n",
       "      <th>1000001569</th>\n",
       "      <td>We compare results from our machine learning c...</td>\n",
       "    </tr>\n",
       "    <tr>\n",
       "      <th>1000001570</th>\n",
       "      <td>Automatic measurement using automated segmenta...</td>\n",
       "    </tr>\n",
       "    <tr>\n",
       "      <th>1000001571</th>\n",
       "      <td>The results of the model built from machine le...</td>\n",
       "    </tr>\n",
       "    <tr>\n",
       "      <th>1000001572</th>\n",
       "      <td>Accuracy was compared to most recent iteration...</td>\n",
       "    </tr>\n",
       "    <tr>\n",
       "      <th>1000001573</th>\n",
       "      <td>The output from the automated procedure was co...</td>\n",
       "    </tr>\n",
       "    <tr>\n",
       "      <th>1000001574</th>\n",
       "      <td>When compared to a risk screening algorithm th...</td>\n",
       "    </tr>\n",
       "    <tr>\n",
       "      <th>1000001575</th>\n",
       "      <td>The results from the imaging risk scoring mode...</td>\n",
       "    </tr>\n",
       "  </tbody>\n",
       "</table>\n",
       "</div>"
      ],
      "text/plain": [
       "                                                      feature\n",
       "1000001566  We developed and evaluated the accuracy/perfor...\n",
       "1000001567  The drug addicts are classified into mild, mod...\n",
       "1000001568  Neural network performs better than clinical j...\n",
       "1000001569  We compare results from our machine learning c...\n",
       "1000001570  Automatic measurement using automated segmenta...\n",
       "1000001571  The results of the model built from machine le...\n",
       "1000001572  Accuracy was compared to most recent iteration...\n",
       "1000001573  The output from the automated procedure was co...\n",
       "1000001574  When compared to a risk screening algorithm th...\n",
       "1000001575  The results from the imaging risk scoring mode..."
      ]
     },
     "execution_count": 9,
     "metadata": {},
     "output_type": "execute_result"
    }
   ],
   "source": [
    "labeldf = complete[['feature']].copy()\n",
    "labeldf.tail(10)"
   ]
  },
  {
   "cell_type": "code",
   "execution_count": 10,
   "id": "675e5597",
   "metadata": {},
   "outputs": [
    {
     "data": {
      "text/html": [
       "<div>\n",
       "<style scoped>\n",
       "    .dataframe tbody tr th:only-of-type {\n",
       "        vertical-align: middle;\n",
       "    }\n",
       "\n",
       "    .dataframe tbody tr th {\n",
       "        vertical-align: top;\n",
       "    }\n",
       "\n",
       "    .dataframe thead th {\n",
       "        text-align: right;\n",
       "    }\n",
       "</style>\n",
       "<table border=\"1\" class=\"dataframe\">\n",
       "  <thead>\n",
       "    <tr style=\"text-align: right;\">\n",
       "      <th></th>\n",
       "      <th>feature</th>\n",
       "    </tr>\n",
       "  </thead>\n",
       "  <tbody>\n",
       "  </tbody>\n",
       "</table>\n",
       "</div>"
      ],
      "text/plain": [
       "Empty DataFrame\n",
       "Columns: [feature]\n",
       "Index: []"
      ]
     },
     "execution_count": 10,
     "metadata": {},
     "output_type": "execute_result"
    }
   ],
   "source": [
    "labeldf[labeldf['feature'].isna()]"
   ]
  },
  {
   "cell_type": "code",
   "execution_count": 11,
   "id": "af082ac8",
   "metadata": {},
   "outputs": [
    {
     "data": {
      "text/html": [
       "<div>\n",
       "<style scoped>\n",
       "    .dataframe tbody tr th:only-of-type {\n",
       "        vertical-align: middle;\n",
       "    }\n",
       "\n",
       "    .dataframe tbody tr th {\n",
       "        vertical-align: top;\n",
       "    }\n",
       "\n",
       "    .dataframe thead th {\n",
       "        text-align: right;\n",
       "    }\n",
       "</style>\n",
       "<table border=\"1\" class=\"dataframe\">\n",
       "  <thead>\n",
       "    <tr style=\"text-align: right;\">\n",
       "      <th></th>\n",
       "      <th>feature</th>\n",
       "    </tr>\n",
       "  </thead>\n",
       "  <tbody>\n",
       "  </tbody>\n",
       "</table>\n",
       "</div>"
      ],
      "text/plain": [
       "Empty DataFrame\n",
       "Columns: [feature]\n",
       "Index: []"
      ]
     },
     "execution_count": 11,
     "metadata": {},
     "output_type": "execute_result"
    }
   ],
   "source": [
    "labeldf.dropna(subset=['feature'], inplace=True)\n",
    "labeldf[labeldf['feature'].isna()]"
   ]
  },
  {
   "cell_type": "code",
   "execution_count": 12,
   "id": "0072007f-3b05-42f6-9ceb-bf57ee5bedd3",
   "metadata": {},
   "outputs": [
    {
     "name": "stdout",
     "output_type": "stream",
     "text": [
      "<class 'pandas.core.frame.DataFrame'>\n",
      "Int64Index: 4285 entries, 37 to 1000001575\n",
      "Data columns (total 1 columns):\n",
      " #   Column   Non-Null Count  Dtype \n",
      "---  ------   --------------  ----- \n",
      " 0   feature  4285 non-null   object\n",
      "dtypes: object(1)\n",
      "memory usage: 67.0+ KB\n"
     ]
    }
   ],
   "source": [
    "labeldf.info()"
   ]
  },
  {
   "cell_type": "code",
   "execution_count": 13,
   "id": "e5c373d2-5661-4b76-86b5-845f4878cbcf",
   "metadata": {},
   "outputs": [],
   "source": [
    "def label_unlabelled(df, feature_column = 'feature', model=reloaded_model, number_to_label='all', cpu_labelling=False, chunk_size=100):\n",
    "    \n",
    "    # Either use the whole df, random sample of size specified or a list of indices\n",
    "    if number_to_label == 'all':\n",
    "        labelled_df = df[feature_column].copy()\n",
    "        \n",
    "    elif isinstance(number_to_label, list):\n",
    "        labelled_df = df.loc[number_to_label, feature_column].copy()\n",
    "        \n",
    "    else:\n",
    "        assert isinstance(number_to_label, int), \"Number to label must be 'all' or an integer subset to label\"\n",
    "        assert number_to_label < len(df), \"When specifying a subset to label, must be less than the total number of samples\"\n",
    "        labelled_df = df[feature_column].sample(number_to_label).copy()\n",
    "        \n",
    "    # Add a column to the DF for labels\n",
    "    labelled_df = labelled_df.to_frame()\n",
    "    labelled_df['include'] = np.nan \n",
    "    \n",
    "    # Decide what device we want TF to use\n",
    "    if cpu_labelling:\n",
    "        device = '/cpu:0'\n",
    "        print(\"Labelling with CPU...\")\n",
    "    else:\n",
    "        device = '/gpu:0'\n",
    "        print(\"Labelling with GPU...\")\n",
    "     \n",
    "    # Label by specified chunk size\n",
    "    with tqdm(total=len(labelled_df), file=sys.stdout) as pbar:\n",
    "        for chunk_i in range(0, len(labelled_df.index), chunk_size):\n",
    "            \n",
    "            chunk = labelled_df.index[chunk_i:chunk_i + chunk_size]\n",
    "        \n",
    "            try:\n",
    "                with tf.device(device):\n",
    "                    labels = tf.sigmoid(model(tf.constant(labelled_df.loc[chunk, 'feature'])))\n",
    "                labelled_df.loc[chunk, 'include'] = labels\n",
    "                pbar.update(len(chunk))\n",
    "            except Exception as e:\n",
    "                print(e)\n",
    "                print(\"Returning (possibly) partially labelled dataset...\")\n",
    "                return labelled_df\n",
    "                break\n",
    "            \n",
    "    return labelled_df"
   ]
  },
  {
   "cell_type": "code",
   "execution_count": null,
   "id": "fa0263ad-40f1-42cf-9f5e-7928f9f7bf7c",
   "metadata": {},
   "outputs": [
    {
     "name": "stdout",
     "output_type": "stream",
     "text": [
      "Labelling with GPU...\n",
      " 85%|██████████████████████████████████████████████████████████████████▍           | 3650/4285 [00:49<00:07, 79.55it/s]"
     ]
    }
   ],
   "source": [
    "labelled = label_unlabelled(labeldf, number_to_label='all', cpu_labelling=False, chunk_size=50)"
   ]
  },
  {
   "cell_type": "code",
   "execution_count": 14,
   "id": "496dbd2b-1b2a-4c20-b401-7ce855c838b7",
   "metadata": {},
   "outputs": [
    {
     "data": {
      "text/html": [
       "<div>\n",
       "<style scoped>\n",
       "    .dataframe tbody tr th:only-of-type {\n",
       "        vertical-align: middle;\n",
       "    }\n",
       "\n",
       "    .dataframe tbody tr th {\n",
       "        vertical-align: top;\n",
       "    }\n",
       "\n",
       "    .dataframe thead th {\n",
       "        text-align: right;\n",
       "    }\n",
       "</style>\n",
       "<table border=\"1\" class=\"dataframe\">\n",
       "  <thead>\n",
       "    <tr style=\"text-align: right;\">\n",
       "      <th></th>\n",
       "      <th>feature</th>\n",
       "      <th>include</th>\n",
       "    </tr>\n",
       "  </thead>\n",
       "  <tbody>\n",
       "    <tr>\n",
       "      <th>168</th>\n",
       "      <td>A Clinical Study to Evaluate Autofluorescence ...</td>\n",
       "      <td>0.127680</td>\n",
       "    </tr>\n",
       "    <tr>\n",
       "      <th>909</th>\n",
       "      <td>COVID-view: Diagnosis of COVID-19 using Chest ...</td>\n",
       "      <td>0.109709</td>\n",
       "    </tr>\n",
       "    <tr>\n",
       "      <th>975</th>\n",
       "      <td>Deep learning-based virtual cytokeratin staini...</td>\n",
       "      <td>0.198843</td>\n",
       "    </tr>\n",
       "    <tr>\n",
       "      <th>1026</th>\n",
       "      <td>Development of a semi-automated method for tum...</td>\n",
       "      <td>0.860473</td>\n",
       "    </tr>\n",
       "    <tr>\n",
       "      <th>1244</th>\n",
       "      <td>The Reproducibility of Deep Learning-Based Seg...</td>\n",
       "      <td>0.753388</td>\n",
       "    </tr>\n",
       "    <tr>\n",
       "      <th>1255</th>\n",
       "      <td>Automatized Detection and Categorization of Fi...</td>\n",
       "      <td>0.655719</td>\n",
       "    </tr>\n",
       "    <tr>\n",
       "      <th>1485</th>\n",
       "      <td>Do plaque-related factors affect the diagnosti...</td>\n",
       "      <td>0.675015</td>\n",
       "    </tr>\n",
       "    <tr>\n",
       "      <th>1561</th>\n",
       "      <td>Robust whole slide image analysis for cervical...</td>\n",
       "      <td>0.325925</td>\n",
       "    </tr>\n",
       "    <tr>\n",
       "      <th>1774</th>\n",
       "      <td>Implementation of artificial intelligence algo...</td>\n",
       "      <td>0.138411</td>\n",
       "    </tr>\n",
       "    <tr>\n",
       "      <th>1832</th>\n",
       "      <td>Predicting Survived Events in Nontraumatic Out...</td>\n",
       "      <td>0.289305</td>\n",
       "    </tr>\n",
       "    <tr>\n",
       "      <th>1835</th>\n",
       "      <td>Modular deep neural networks for automatic qua...</td>\n",
       "      <td>0.807030</td>\n",
       "    </tr>\n",
       "    <tr>\n",
       "      <th>2269</th>\n",
       "      <td>DEEP LEARNING COMPUTER-AIDED POLYP DETECTION R...</td>\n",
       "      <td>0.342709</td>\n",
       "    </tr>\n",
       "    <tr>\n",
       "      <th>2533</th>\n",
       "      <td>Deep learning-based signal-independent assessm...</td>\n",
       "      <td>0.688793</td>\n",
       "    </tr>\n",
       "    <tr>\n",
       "      <th>2787</th>\n",
       "      <td>Deep generative models for automated muscle se...</td>\n",
       "      <td>0.142801</td>\n",
       "    </tr>\n",
       "    <tr>\n",
       "      <th>2865</th>\n",
       "      <td>Automated PD-L1 Scoring Using Artificial Intel...</td>\n",
       "      <td>0.567963</td>\n",
       "    </tr>\n",
       "    <tr>\n",
       "      <th>3230</th>\n",
       "      <td>Automatic annotation of cervical vertebrae in ...</td>\n",
       "      <td>0.149255</td>\n",
       "    </tr>\n",
       "    <tr>\n",
       "      <th>3270</th>\n",
       "      <td>Ability of a Machine Learning Algorithm to Pre...</td>\n",
       "      <td>0.686696</td>\n",
       "    </tr>\n",
       "    <tr>\n",
       "      <th>3659</th>\n",
       "      <td>Automatic segmentation of gadolinium-enhancing...</td>\n",
       "      <td>0.880483</td>\n",
       "    </tr>\n",
       "    <tr>\n",
       "      <th>3718</th>\n",
       "      <td>A deep learning framework for autonomous detec...</td>\n",
       "      <td>0.886096</td>\n",
       "    </tr>\n",
       "    <tr>\n",
       "      <th>3730</th>\n",
       "      <td>Predicting post-operative right ventricular fa...</td>\n",
       "      <td>0.773919</td>\n",
       "    </tr>\n",
       "  </tbody>\n",
       "</table>\n",
       "</div>"
      ],
      "text/plain": [
       "                                                feature   include\n",
       "168   A Clinical Study to Evaluate Autofluorescence ...  0.127680\n",
       "909   COVID-view: Diagnosis of COVID-19 using Chest ...  0.109709\n",
       "975   Deep learning-based virtual cytokeratin staini...  0.198843\n",
       "1026  Development of a semi-automated method for tum...  0.860473\n",
       "1244  The Reproducibility of Deep Learning-Based Seg...  0.753388\n",
       "1255  Automatized Detection and Categorization of Fi...  0.655719\n",
       "1485  Do plaque-related factors affect the diagnosti...  0.675015\n",
       "1561  Robust whole slide image analysis for cervical...  0.325925\n",
       "1774  Implementation of artificial intelligence algo...  0.138411\n",
       "1832  Predicting Survived Events in Nontraumatic Out...  0.289305\n",
       "1835  Modular deep neural networks for automatic qua...  0.807030\n",
       "2269  DEEP LEARNING COMPUTER-AIDED POLYP DETECTION R...  0.342709\n",
       "2533  Deep learning-based signal-independent assessm...  0.688793\n",
       "2787  Deep generative models for automated muscle se...  0.142801\n",
       "2865  Automated PD-L1 Scoring Using Artificial Intel...  0.567963\n",
       "3230  Automatic annotation of cervical vertebrae in ...  0.149255\n",
       "3270  Ability of a Machine Learning Algorithm to Pre...  0.686696\n",
       "3659  Automatic segmentation of gadolinium-enhancing...  0.880483\n",
       "3718  A deep learning framework for autonomous detec...  0.886096\n",
       "3730  Predicting post-operative right ventricular fa...  0.773919"
      ]
     },
     "execution_count": 14,
     "metadata": {},
     "output_type": "execute_result"
    }
   ],
   "source": [
    "uncertain = labelled[(labelled.include < 0.9) & (labelled.include > 0.1)]\n",
    "uncertain.head(20)"
   ]
  },
  {
   "cell_type": "code",
   "execution_count": 15,
   "id": "8783ef7c-1c62-4a8f-8966-df0d3e932a38",
   "metadata": {},
   "outputs": [],
   "source": [
    "#labelled['include_rounded'] = np.round(labelled.include)\n",
    "\n",
    "labelled['include_rounded'] = np.where(labelled.include > 0.5, 1, 0)"
   ]
  },
  {
   "cell_type": "code",
   "execution_count": 16,
   "id": "d49a1c98-2aee-410f-907a-69a0c2f1fb98",
   "metadata": {},
   "outputs": [
    {
     "data": {
      "text/plain": [
       "0    7660\n",
       "1     395\n",
       "Name: include_rounded, dtype: int64"
      ]
     },
     "execution_count": 16,
     "metadata": {},
     "output_type": "execute_result"
    }
   ],
   "source": [
    "labelled.include_rounded.value_counts()"
   ]
  },
  {
   "cell_type": "code",
   "execution_count": 17,
   "id": "c53888ec",
   "metadata": {},
   "outputs": [
    {
     "data": {
      "text/html": [
       "<div>\n",
       "<style scoped>\n",
       "    .dataframe tbody tr th:only-of-type {\n",
       "        vertical-align: middle;\n",
       "    }\n",
       "\n",
       "    .dataframe tbody tr th {\n",
       "        vertical-align: top;\n",
       "    }\n",
       "\n",
       "    .dataframe thead th {\n",
       "        text-align: right;\n",
       "    }\n",
       "</style>\n",
       "<table border=\"1\" class=\"dataframe\">\n",
       "  <thead>\n",
       "    <tr style=\"text-align: right;\">\n",
       "      <th></th>\n",
       "      <th>feature</th>\n",
       "      <th>include</th>\n",
       "      <th>include_rounded</th>\n",
       "    </tr>\n",
       "  </thead>\n",
       "  <tbody>\n",
       "    <tr>\n",
       "      <th>27388</th>\n",
       "      <td>Stress detection using deep neural networks. O...</td>\n",
       "      <td>0.000143</td>\n",
       "      <td>0</td>\n",
       "    </tr>\n",
       "    <tr>\n",
       "      <th>27411</th>\n",
       "      <td>The Prediction of Hepatitis E through Ensemble...</td>\n",
       "      <td>0.000115</td>\n",
       "      <td>0</td>\n",
       "    </tr>\n",
       "    <tr>\n",
       "      <th>27412</th>\n",
       "      <td>A Machine Learning Approach to Identify Predic...</td>\n",
       "      <td>0.000081</td>\n",
       "      <td>0</td>\n",
       "    </tr>\n",
       "    <tr>\n",
       "      <th>27414</th>\n",
       "      <td>Interpretable Machine Learning Model for Locor...</td>\n",
       "      <td>0.000116</td>\n",
       "      <td>0</td>\n",
       "    </tr>\n",
       "    <tr>\n",
       "      <th>27426</th>\n",
       "      <td>Using high-dimensional features for high-accur...</td>\n",
       "      <td>0.000042</td>\n",
       "      <td>0</td>\n",
       "    </tr>\n",
       "  </tbody>\n",
       "</table>\n",
       "</div>"
      ],
      "text/plain": [
       "                                                 feature   include  \\\n",
       "27388  Stress detection using deep neural networks. O...  0.000143   \n",
       "27411  The Prediction of Hepatitis E through Ensemble...  0.000115   \n",
       "27412  A Machine Learning Approach to Identify Predic...  0.000081   \n",
       "27414  Interpretable Machine Learning Model for Locor...  0.000116   \n",
       "27426  Using high-dimensional features for high-accur...  0.000042   \n",
       "\n",
       "       include_rounded  \n",
       "27388                0  \n",
       "27411                0  \n",
       "27412                0  \n",
       "27414                0  \n",
       "27426                0  "
      ]
     },
     "execution_count": 17,
     "metadata": {},
     "output_type": "execute_result"
    }
   ],
   "source": [
    "labelled.tail(5)"
   ]
  },
  {
   "cell_type": "code",
   "execution_count": 18,
   "id": "4f525e80-e88c-41f4-b840-b2b951f47a24",
   "metadata": {},
   "outputs": [
    {
     "name": "stdout",
     "output_type": "stream",
     "text": [
      "<class 'pandas.core.frame.DataFrame'>\n",
      "Int64Index: 8055 entries, 0 to 27426\n",
      "Data columns (total 3 columns):\n",
      " #   Column           Non-Null Count  Dtype  \n",
      "---  ------           --------------  -----  \n",
      " 0   feature          8055 non-null   object \n",
      " 1   include          8055 non-null   float64\n",
      " 2   include_rounded  8055 non-null   int32  \n",
      "dtypes: float64(1), int32(1), object(1)\n",
      "memory usage: 478.3+ KB\n"
     ]
    }
   ],
   "source": [
    "labelled.info()"
   ]
  },
  {
   "cell_type": "code",
   "execution_count": 19,
   "id": "cc2b9d50",
   "metadata": {},
   "outputs": [
    {
     "data": {
      "text/html": [
       "<div>\n",
       "<style scoped>\n",
       "    .dataframe tbody tr th:only-of-type {\n",
       "        vertical-align: middle;\n",
       "    }\n",
       "\n",
       "    .dataframe tbody tr th {\n",
       "        vertical-align: top;\n",
       "    }\n",
       "\n",
       "    .dataframe thead th {\n",
       "        text-align: right;\n",
       "    }\n",
       "</style>\n",
       "<table border=\"1\" class=\"dataframe\">\n",
       "  <thead>\n",
       "    <tr style=\"text-align: right;\">\n",
       "      <th></th>\n",
       "      <th>feature</th>\n",
       "      <th>include</th>\n",
       "      <th>include_rounded</th>\n",
       "    </tr>\n",
       "  </thead>\n",
       "  <tbody>\n",
       "    <tr>\n",
       "      <th>27388</th>\n",
       "      <td>Stress detection using deep neural networks. O...</td>\n",
       "      <td>0.999779</td>\n",
       "      <td>1</td>\n",
       "    </tr>\n",
       "    <tr>\n",
       "      <th>27411</th>\n",
       "      <td>The Prediction of Hepatitis E through Ensemble...</td>\n",
       "      <td>0.996813</td>\n",
       "      <td>1</td>\n",
       "    </tr>\n",
       "    <tr>\n",
       "      <th>27412</th>\n",
       "      <td>A Machine Learning Approach to Identify Predic...</td>\n",
       "      <td>0.999936</td>\n",
       "      <td>1</td>\n",
       "    </tr>\n",
       "    <tr>\n",
       "      <th>27414</th>\n",
       "      <td>Interpretable Machine Learning Model for Locor...</td>\n",
       "      <td>0.999928</td>\n",
       "      <td>1</td>\n",
       "    </tr>\n",
       "    <tr>\n",
       "      <th>27426</th>\n",
       "      <td>Using high-dimensional features for high-accur...</td>\n",
       "      <td>0.999877</td>\n",
       "      <td>1</td>\n",
       "    </tr>\n",
       "  </tbody>\n",
       "</table>\n",
       "</div>"
      ],
      "text/plain": [
       "                                                 feature   include  \\\n",
       "27388  Stress detection using deep neural networks. O...  0.999779   \n",
       "27411  The Prediction of Hepatitis E through Ensemble...  0.996813   \n",
       "27412  A Machine Learning Approach to Identify Predic...  0.999936   \n",
       "27414  Interpretable Machine Learning Model for Locor...  0.999928   \n",
       "27426  Using high-dimensional features for high-accur...  0.999877   \n",
       "\n",
       "       include_rounded  \n",
       "27388                1  \n",
       "27411                1  \n",
       "27412                1  \n",
       "27414                1  \n",
       "27426                1  "
      ]
     },
     "execution_count": 19,
     "metadata": {},
     "output_type": "execute_result"
    }
   ],
   "source": [
    "complete.dropna(subset=['feature'], inplace=True)\n",
    "complete.tail(5)"
   ]
  },
  {
   "cell_type": "code",
   "execution_count": 20,
   "id": "b01cfb07",
   "metadata": {},
   "outputs": [
    {
     "name": "stdout",
     "output_type": "stream",
     "text": [
      "8055\n",
      "8055\n"
     ]
    }
   ],
   "source": [
    "print(len(complete))\n",
    "print(len(labelled))"
   ]
  },
  {
   "cell_type": "code",
   "execution_count": 21,
   "id": "3199dc2b",
   "metadata": {},
   "outputs": [],
   "source": [
    "complete['include_fuzzy'] = labelled['include']\n",
    "complete['include'] = labelled['include_rounded']"
   ]
  },
  {
   "cell_type": "code",
   "execution_count": 22,
   "id": "a2590738",
   "metadata": {},
   "outputs": [],
   "source": [
    "# SAVE FINAL FILES"
   ]
  },
  {
   "cell_type": "code",
   "execution_count": 23,
   "id": "e85a6424",
   "metadata": {},
   "outputs": [],
   "source": [
    "#uncertain.to_csv(\"final_outputs/comparative_uncertain.csv\")"
   ]
  },
  {
   "cell_type": "code",
   "execution_count": 24,
   "id": "da63104c",
   "metadata": {},
   "outputs": [],
   "source": [
    "complete.to_csv(\"maturity_labelled.csv\")"
   ]
  },
  {
   "cell_type": "code",
   "execution_count": 25,
   "id": "ce79c410",
   "metadata": {},
   "outputs": [
    {
     "data": {
      "text/plain": [
       "0    7660\n",
       "1     395\n",
       "Name: include, dtype: int64"
      ]
     },
     "execution_count": 25,
     "metadata": {},
     "output_type": "execute_result"
    }
   ],
   "source": [
    "complete['include'].value_counts()"
   ]
  },
  {
   "cell_type": "code",
   "execution_count": null,
   "id": "05fd292d",
   "metadata": {},
   "outputs": [],
   "source": []
  },
  {
   "cell_type": "code",
   "execution_count": null,
   "id": "8d8796ed",
   "metadata": {},
   "outputs": [],
   "source": []
  }
 ],
 "metadata": {
  "kernelspec": {
   "display_name": "Python 3 (ipykernel)",
   "language": "python",
   "name": "python3"
  },
  "language_info": {
   "codemirror_mode": {
    "name": "ipython",
    "version": 3
   },
   "file_extension": ".py",
   "mimetype": "text/x-python",
   "name": "python",
   "nbconvert_exporter": "python",
   "pygments_lexer": "ipython3",
   "version": "3.9.5"
  }
 },
 "nbformat": 4,
 "nbformat_minor": 5
}
