{
 "cells": [
  {
   "cell_type": "code",
   "execution_count": 1,
   "id": "6c67812a",
   "metadata": {},
   "outputs": [],
   "source": [
    "import os\n",
    "import shutil\n",
    "\n",
    "import tensorflow as tf\n",
    "import tensorflow_hub as hub\n",
    "import tensorflow_text as text\n",
    "from official.nlp import optimization  # to create AdamW optimizer\n",
    "\n",
    "tf.get_logger().setLevel('ERROR')"
   ]
  },
  {
   "cell_type": "code",
   "execution_count": 2,
   "id": "61e2efca",
   "metadata": {},
   "outputs": [],
   "source": [
    "import pandas as pd\n",
    "import numpy as np\n",
    "import matplotlib.pyplot as plt\n",
    "import seaborn as sns\n",
    "import re\n",
    "import nltk\n",
    "import datetime\n",
    "\n",
    "#for BERT\n",
    "import transformers"
   ]
  },
  {
   "cell_type": "code",
   "execution_count": 3,
   "id": "d3b49073-2f62-4ca1-9e42-e55654107c68",
   "metadata": {},
   "outputs": [],
   "source": [
    "# GPU options to limit OOM erors\n",
    "physical_devices = tf.config.experimental.list_physical_devices('GPU')\n",
    "tf.config.experimental.set_memory_growth(physical_devices[0], True)"
   ]
  },
  {
   "cell_type": "code",
   "execution_count": 4,
   "id": "7e22ed1a",
   "metadata": {},
   "outputs": [
    {
     "name": "stdout",
     "output_type": "stream",
     "text": [
      "[name: \"/device:CPU:0\"\n",
      "device_type: \"CPU\"\n",
      "memory_limit: 268435456\n",
      "locality {\n",
      "}\n",
      "incarnation: 13790402721856059140\n",
      ", name: \"/device:GPU:0\"\n",
      "device_type: \"GPU\"\n",
      "memory_limit: 22723493888\n",
      "locality {\n",
      "  bus_id: 1\n",
      "  links {\n",
      "  }\n",
      "}\n",
      "incarnation: 1674026409919736231\n",
      "physical_device_desc: \"device: 0, name: NVIDIA GeForce RTX 3090, pci bus id: 0000:01:00.0, compute capability: 8.6\"\n",
      "]\n",
      "2.5.0\n"
     ]
    }
   ],
   "source": [
    "from tensorflow.python.client import device_lib\n",
    "print(device_lib.list_local_devices())\n",
    "print(tf.__version__)"
   ]
  },
  {
   "cell_type": "code",
   "execution_count": 5,
   "id": "fa195a7b",
   "metadata": {},
   "outputs": [],
   "source": [
    "#make sure csv only contains labelled examples\n",
    "#in excel, have concat title and abstract into same text block = feature. \n",
    "labelled = pd.read_csv('training_data/training_maturity.csv', index_col=0)"
   ]
  },
  {
   "cell_type": "code",
   "execution_count": 6,
   "id": "e2f78b6c",
   "metadata": {},
   "outputs": [
    {
     "data": {
      "text/html": [
       "<div>\n",
       "<style scoped>\n",
       "    .dataframe tbody tr th:only-of-type {\n",
       "        vertical-align: middle;\n",
       "    }\n",
       "\n",
       "    .dataframe tbody tr th {\n",
       "        vertical-align: top;\n",
       "    }\n",
       "\n",
       "    .dataframe thead th {\n",
       "        text-align: right;\n",
       "    }\n",
       "</style>\n",
       "<table border=\"1\" class=\"dataframe\">\n",
       "  <thead>\n",
       "    <tr style=\"text-align: right;\">\n",
       "      <th></th>\n",
       "      <th>pmid</th>\n",
       "      <th>include</th>\n",
       "      <th>feature</th>\n",
       "    </tr>\n",
       "  </thead>\n",
       "  <tbody>\n",
       "    <tr>\n",
       "      <th>37</th>\n",
       "      <td>34291325</td>\n",
       "      <td>0</td>\n",
       "      <td>Automated detection and segmentation of sclero...</td>\n",
       "    </tr>\n",
       "    <tr>\n",
       "      <th>58</th>\n",
       "      <td>34290333</td>\n",
       "      <td>1</td>\n",
       "      <td>Automated cortical thickness measurement of th...</td>\n",
       "    </tr>\n",
       "    <tr>\n",
       "      <th>101</th>\n",
       "      <td>34288412</td>\n",
       "      <td>1</td>\n",
       "      <td>Facial recognition accuracy in photographs of ...</td>\n",
       "    </tr>\n",
       "    <tr>\n",
       "      <th>146</th>\n",
       "      <td>34285309</td>\n",
       "      <td>1</td>\n",
       "      <td>Development of a system to support warfarin do...</td>\n",
       "    </tr>\n",
       "    <tr>\n",
       "      <th>222</th>\n",
       "      <td>34282757</td>\n",
       "      <td>0</td>\n",
       "      <td>DeepRePath: Identifying the Prognostic Feature...</td>\n",
       "    </tr>\n",
       "  </tbody>\n",
       "</table>\n",
       "</div>"
      ],
      "text/plain": [
       "         pmid  include                                            feature\n",
       "37   34291325        0  Automated detection and segmentation of sclero...\n",
       "58   34290333        1  Automated cortical thickness measurement of th...\n",
       "101  34288412        1  Facial recognition accuracy in photographs of ...\n",
       "146  34285309        1  Development of a system to support warfarin do...\n",
       "222  34282757        0  DeepRePath: Identifying the Prognostic Feature..."
      ]
     },
     "execution_count": 6,
     "metadata": {},
     "output_type": "execute_result"
    }
   ],
   "source": [
    "analysisdf = labelled[['pmid', 'include', 'feature']].copy()       \n",
    "                      \n",
    "#pipeline now independent from csv\n",
    "analysisdf['include'] = analysisdf['include'].astype(np.int64)\n",
    "analysisdf.head()"
   ]
  },
  {
   "cell_type": "code",
   "execution_count": 7,
   "id": "db0f7b05",
   "metadata": {},
   "outputs": [],
   "source": [
    "analysisdf = analysisdf.drop(['pmid'], axis=1)"
   ]
  },
  {
   "cell_type": "code",
   "execution_count": 8,
   "id": "b0c39b71",
   "metadata": {},
   "outputs": [
    {
     "name": "stdout",
     "output_type": "stream",
     "text": [
      "labels:\n",
      "0    3765\n",
      "1     499\n",
      "Name: include, dtype: int64\n"
     ]
    },
    {
     "data": {
      "image/png": "[encoded data removed]",
      "text/plain": [
       "<Figure size 432x288 with 1 Axes>"
      ]
     },
     "metadata": {
      "needs_background": "light"
     },
     "output_type": "display_data"
    }
   ],
   "source": [
    "#Significant imbalance -> but apparently not too much of a problem when using BERT? \n",
    "#Could try stratified k-folds in future iterations?\n",
    "\n",
    "print(\"labels:\")\n",
    "print(analysisdf['include'].value_counts())\n",
    "\n",
    "plt.figure()\n",
    "pd.value_counts(analysisdf['include']).plot.bar(title=\"inclusion 0 vs 1\")\n",
    "plt.xlabel(\"inclusion\")\n",
    "plt.ylabel(\"number\")\n",
    "plt.show()"
   ]
  },
  {
   "cell_type": "code",
   "execution_count": 9,
   "id": "6ee7c5b2",
   "metadata": {},
   "outputs": [
    {
     "data": {
      "text/html": [
       "<div>\n",
       "<style scoped>\n",
       "    .dataframe tbody tr th:only-of-type {\n",
       "        vertical-align: middle;\n",
       "    }\n",
       "\n",
       "    .dataframe tbody tr th {\n",
       "        vertical-align: top;\n",
       "    }\n",
       "\n",
       "    .dataframe thead th {\n",
       "        text-align: right;\n",
       "    }\n",
       "</style>\n",
       "<table border=\"1\" class=\"dataframe\">\n",
       "  <thead>\n",
       "    <tr style=\"text-align: right;\">\n",
       "      <th></th>\n",
       "      <th>include</th>\n",
       "      <th>feature</th>\n",
       "    </tr>\n",
       "  </thead>\n",
       "  <tbody>\n",
       "  </tbody>\n",
       "</table>\n",
       "</div>"
      ],
      "text/plain": [
       "Empty DataFrame\n",
       "Columns: [include, feature]\n",
       "Index: []"
      ]
     },
     "execution_count": 9,
     "metadata": {},
     "output_type": "execute_result"
    }
   ],
   "source": [
    "analysisdf[analysisdf['feature'].isna()]"
   ]
  },
  {
   "cell_type": "code",
   "execution_count": 10,
   "id": "fb129b8c",
   "metadata": {},
   "outputs": [],
   "source": [
    "#analysisdf.dropna(subset=['feature'], inplace=True)"
   ]
  },
  {
   "cell_type": "markdown",
   "id": "07d047fb",
   "metadata": {},
   "source": [
    "## creating training/validation, and test sets"
   ]
  },
  {
   "cell_type": "code",
   "execution_count": 11,
   "id": "55685ecb",
   "metadata": {},
   "outputs": [
    {
     "name": "stdout",
     "output_type": "stream",
     "text": [
      "tempdf\n"
     ]
    },
    {
     "data": {
      "image/png": "[encoded data removed]",
      "text/plain": [
       "<Figure size 432x288 with 1 Axes>"
      ]
     },
     "metadata": {
      "needs_background": "light"
     },
     "output_type": "display_data"
    },
    {
     "name": "stdout",
     "output_type": "stream",
     "text": [
      "valdf\n"
     ]
    },
    {
     "data": {
      "image/png": "[encoded data removed]",
      "text/plain": [
       "<Figure size 432x288 with 1 Axes>"
      ]
     },
     "metadata": {
      "needs_background": "light"
     },
     "output_type": "display_data"
    }
   ],
   "source": [
    "from sklearn.model_selection import train_test_split\n",
    "\n",
    "tempdf, valdf = train_test_split(analysisdf, test_size=0.12, stratify=analysisdf['include'])\n",
    "\n",
    "print(\"tempdf\")\n",
    "plt.figure()\n",
    "pd.value_counts(tempdf['include']).plot.bar(title=\"inclusion 0 vs 1\")\n",
    "plt.xlabel(\"inclusion\")\n",
    "plt.ylabel(\"number\")\n",
    "plt.show()\n",
    "\n",
    "print(\"valdf\")\n",
    "plt.figure()\n",
    "pd.value_counts(valdf['include']).plot.bar(title=\"inclusion 0 vs 1\")\n",
    "plt.xlabel(\"inclusion\")\n",
    "plt.ylabel(\"number\")\n",
    "plt.show()"
   ]
  },
  {
   "cell_type": "code",
   "execution_count": 12,
   "id": "8f70a7b2",
   "metadata": {},
   "outputs": [
    {
     "name": "stdout",
     "output_type": "stream",
     "text": [
      "traindf\n"
     ]
    },
    {
     "data": {
      "image/png": "[encoded data removed]",
      "text/plain": [
       "<Figure size 432x288 with 1 Axes>"
      ]
     },
     "metadata": {
      "needs_background": "light"
     },
     "output_type": "display_data"
    },
    {
     "name": "stdout",
     "output_type": "stream",
     "text": [
      "testdf\n"
     ]
    },
    {
     "data": {
      "image/png": "[encoded data removed]",
      "text/plain": [
       "<Figure size 432x288 with 1 Axes>"
      ]
     },
     "metadata": {
      "needs_background": "light"
     },
     "output_type": "display_data"
    }
   ],
   "source": [
    "traindf, testdf = train_test_split(tempdf, test_size=0.1, stratify=tempdf['include'])\n",
    "\n",
    "print(\"traindf\")\n",
    "plt.figure()\n",
    "pd.value_counts(traindf['include']).plot.bar(title=\"inclusion 0 vs 1\")\n",
    "plt.xlabel(\"inclusion\")\n",
    "plt.ylabel(\"number\")\n",
    "plt.show()\n",
    "\n",
    "print(\"testdf\")\n",
    "plt.figure()\n",
    "pd.value_counts(testdf['include']).plot.bar(title=\"inclusion 0 vs 1\")\n",
    "plt.xlabel(\"inclusion\")\n",
    "plt.ylabel(\"number\")\n",
    "plt.show()"
   ]
  },
  {
   "cell_type": "code",
   "execution_count": 13,
   "id": "ec566f88",
   "metadata": {
    "scrolled": true
   },
   "outputs": [
    {
     "data": {
      "text/html": [
       "<div>\n",
       "<style scoped>\n",
       "    .dataframe tbody tr th:only-of-type {\n",
       "        vertical-align: middle;\n",
       "    }\n",
       "\n",
       "    .dataframe tbody tr th {\n",
       "        vertical-align: top;\n",
       "    }\n",
       "\n",
       "    .dataframe thead th {\n",
       "        text-align: right;\n",
       "    }\n",
       "</style>\n",
       "<table border=\"1\" class=\"dataframe\">\n",
       "  <thead>\n",
       "    <tr style=\"text-align: right;\">\n",
       "      <th></th>\n",
       "      <th>include</th>\n",
       "      <th>feature</th>\n",
       "    </tr>\n",
       "  </thead>\n",
       "  <tbody>\n",
       "    <tr>\n",
       "      <th>141201</th>\n",
       "      <td>0</td>\n",
       "      <td>Validation and performance of a machine-learning derived prediction guide for total knee arthroplasty component sizing. INTRODUCTION: Anticipation of patient-specific component sizes prior to total knee arthroplasty (TKA) is essential to avoid excessive cost associated with additional surgical trays and morbidity associated with imperfect sizing. Current methods of size prediction, including templating, are inconsistent and time-consuming. Machine learning (ML) algorithms may allow for accurate TKA component size prediction with the ability to make predictions in real-time. METHODS: Consecutive patients receiving primary TKA between 2012 and 2020 from two large tertiary academic and six community hospitals were identified. The primary outcomes were the final femoral and tibial component sizes extracted from automated inventory systems. Five ML algorithms were trained with routinely corrected demographic variables (age, height, weight, body mass index, and sex) using 80% of the study population and internally validated on an independent set of the remaining 20% of patients. Algorithm performance was evaluated through accuracy, mean absolute error (MAE), and root mean-squared error (RMSE). RESULTS: A total of 17,283 patients that received one of 9 TKA implants from independent manufacturers were included. The SGB model accuracy for predicting +/- 4-mm of the true femoral anteroposterior diameter was 83.6% and for +/- 1 size of the true femoral component size was 95.0%. The SGB model accuracy for predicting +/- 4-mm of the true tibial medial/lateral diameter was 83.0% and for +/- 1 size of the true tibial component size was 97.8%. Patient sex was the most influential feature in terms of informing the SGB model predictions for both femoral and tibial component sizing. A TKA implant sizing application was subsequently created. CONCLUSION: Novel machine learning algorithms demonstrated good to excellent performance for predicting TKA component size. Patient sex appears to contribute an important role in predicting TKA size. A web-based real-time prediction application was created capable of integrating patient specific data to predict TKA size, which will require external validation prior to clinical use.</td>\n",
       "    </tr>\n",
       "    <tr>\n",
       "      <th>93073</th>\n",
       "      <td>0</td>\n",
       "      <td>Active learning based segmentation of Crohns disease from abdominal MRI. This paper proposes a novel active learning (AL) framework, and combines it with semi supervised learning (SSL) for segmenting Crohns disease (CD) tissues from abdominal magnetic resonance (MR) images. Robust fully supervised learning (FSL) based classifiers require lots of labeled data of different disease severities. Obtaining such data is time consuming and requires considerable expertise. SSL methods use a few labeled samples, and leverage the information from many unlabeled samples to train an accurate classifier. AL queries labels of most informative samples and maximizes gain from the labeling effort. Our primary contribution is in designing a query strategy that combines novel context information with classification uncertainty and feature similarity. Combining SSL and AL gives a robust segmentation method that: (1) optimally uses few labeled samples and many unlabeled samples; and (2) requires lower training time. Experimental results show our method achieves higher segmentation accuracy than FSL methods with fewer samples and reduced training effort.</td>\n",
       "    </tr>\n",
       "    <tr>\n",
       "      <th>1000000214</th>\n",
       "      <td>0</td>\n",
       "      <td>A Geno-Clinical Decision Model for the Diagnosis of Myelodysplastic Syndromes. The differential diagnosis of myeloid malignancies is challenging and subject to inter-observer variability. We used clinical and next-generation sequencing (NGS) data to develop a machine learning model for the diagnosis of myeloid malignancies independent of bone marrow biopsy data based on a three institution, international cohort of patients. The model achieves high performance, with model interpretations indicating that it relies on factors similar to those used by clinicians. Additionally, we describe associations between NGS findings and clinically important phenotypes, and introduce the use of machine learning algorithms to elucidate clinico-genomic relationships.</td>\n",
       "    </tr>\n",
       "    <tr>\n",
       "      <th>20173</th>\n",
       "      <td>1</td>\n",
       "      <td>Fully automated detection and segmentation of intracranial aneurysms in subarachnoid hemorrhage on CTA using deep learning. In aneurysmal subarachnoid hemorrhage (aSAH), accurate diagnosis of aneurysm is essential for subsequent treatment to prevent rebleeding. However, aneurysm detection proves to be challenging and time-consuming. The purpose of this study was to develop and evaluate a deep learning model (DLM) to automatically detect and segment aneurysms in patients with aSAH on computed tomography angiography. In this retrospective single-center study, three different DLMs were trained on 68 patients with 79 aneurysms treated for aSAH (2016-2017) using five-fold-cross-validation. Their outputs were combined to a single DLM via ensemble-learning. The DLM was evaluated on an independent test set consisting of 185 patients with 215 aneurysms (2010-2015). Independent manual segmentations of aneurysms in a 3D voxel-wise manner by two readers (neurosurgeon, radiologist) provided the reference standard. For aneurysmsÃ¢â‚¬â€°&gt;Ã¢â‚¬â€°30 mm&lt;sup&gt;3&lt;/sup&gt; (mean diameter ofÃ¢â‚¬â€°~Ã¢â‚¬â€°4Ã‚Â mm) on the test set, the DLM provided a detection sensitivity of 87% with false positives (FPs)/scan of 0.42. Automatic segmentations achieved a median dice similarity coefficient (DSC) of 0.80 compared to the reference standard. Aneurysm location (anterior vs. posterior circulation; PÃ¢â‚¬â€°=Ã¢â‚¬â€°.07) and bleeding severity (Fisher gradeÃ¢â‚¬â€°Ã¢â€°Â¤Ã¢â‚¬â€°3 vs. 4; PÃ¢â‚¬â€°=Ã¢â‚¬â€°.33) did not impede detection sensitivity or segmentation performance. For aneurysmsÃ¢â‚¬â€°&gt;Ã¢â‚¬â€°100 mm&lt;sup&gt;3&lt;/sup&gt; (mean diameter ofÃ¢â‚¬â€°~Ã¢â‚¬â€°6Ã‚Â mm), a sensitivity of 96% with DSC of 0.87 and FPs/scan of 0.14 were obtained. In the present study, we demonstrate that the proposed DLM detects and segments aneurysmsÃ¢â‚¬â€°&gt;Ã¢â‚¬â€°30 mm&lt;sup&gt;3&lt;/sup&gt; in patients with aSAH with high sensitivity independent of cerebral circulation and bleeding severity while producing FP findings of less than one per scan. Hence, the DLM can potentially assist treating physicians in aSAH by providing automated detection and segmentations of aneurysms.</td>\n",
       "    </tr>\n",
       "    <tr>\n",
       "      <th>1000000005</th>\n",
       "      <td>1</td>\n",
       "      <td>In ICU patients, it is difficult to predict wean from ventilation. We demosntrate that a model based on deep learning trained from ventilator parameters is non-inferior compared to predictions made by a team of  intensive care physicians.</td>\n",
       "    </tr>\n",
       "    <tr>\n",
       "      <th>54304</th>\n",
       "      <td>0</td>\n",
       "      <td>Machine Learning Classification for Assessing the Degree of Stenosis and Blood Flow Volume at Arteriovenous Fistulas of Hemodialysis Patients Using a New Photoplethysmography Sensor Device. The classifier of support vector machine (SVM) learning for assessing the quality of arteriovenous fistulae (AVFs) in hemodialysis (HD) patients using a new photoplethysmography (PPG) sensor device is presented in this work. In clinical practice, there are two important indices for assessing the quality of AVF: the blood flow volume (BFV) and the degree of stenosis (DOS). In hospitals, the BFV and DOS of AVFs are nowadays assessed using an ultrasound Doppler machine, which is bulky, expensive, hard to use, and time consuming. In this study, a newly-developed PPG sensor device was utilized to provide patients and doctors with an inexpensive and small-sized solution for ubiquitous AVF assessment. The readout in this sensor was custom-designed to increase the signal-to-noise ratio (SNR) and reduce the environment interference via maximizing successfully the full dynamic range of measured PPG entering an analog-digital converter (ADC) and effective filtering techniques. With quality PPG measurements obtained, machine learning classifiers including SVM were adopted to assess AVF quality, where the input features are determined based on optical Beer-Lambert's law and hemodynamic model, to ensure all the necessary features are considered. Finally, the clinical experiment results showed that the proposed PPG sensor device successfully achieved an accuracy of 87.84% based on SVM analysis in assessing DOS at AVF, while an accuracy of 88.61% was achieved for assessing BFV at AVF.</td>\n",
       "    </tr>\n",
       "    <tr>\n",
       "      <th>13080</th>\n",
       "      <td>0</td>\n",
       "      <td>Prediction of muscular paralysis disease based on hybrid feature extraction with machine learning technique for COVID-19 and post-COVID-19 patients. Many Coronavirus disease 2019 (COVID-19) and post-COVID-19 patients experience muscle fatigues. Early detection of muscle fatigue and muscular paralysis helps in the diagnosis, prediction, and prevention of COVID-19 and post-COVID-19 patients. Nowadays, the biomedical and clinical domains widely used the electromyography (EMG) signal due to its ability to differentiate various neuromuscular diseases. In general, nerves or muscles and the spinal cord influence numerous neuromuscular disorders. The clinical examination plays a major role in early finding and diagnosis of these diseases; this research study focused on the prediction of muscular paralysis using EMG signals. Machine learning-based diagnosis of the diseases has been widely used due to its efficiency and the hybrid feature extraction (FE) methods with deep learning classifier are used for the muscular paralysis disease prediction. The discrete wavelet transform (DWT) method is applied to decompose the EMG signal and reduce feature degradation. The proposed hybrid FE method consists of Yule-Walker, Burg's method, Renyi entropy, mean absolute value, min-max voltage FE, and other 17 conventional features for prediction of muscular paralysis disease. The hybrid FE method has the advantage of extract the relevant features from the signals and the Relief-F feature selection (FS) method is applied to select the optimal relevant feature for the deep learning classifier. The University of California, Irvine (UCI), EMG-Lower Limb Dataset is used to determine the performance of the proposed classifier. The evaluation shows that the proposed hybrid FE method achieved 88% of precision, while the existing neural network (NN) achieved 65% of precision and the support vector machine (SVM) achieved 35% of precision on whole EMG signal.</td>\n",
       "    </tr>\n",
       "    <tr>\n",
       "      <th>1000001175</th>\n",
       "      <td>0</td>\n",
       "      <td>Prediction of soft tissue sarcoma response to radiotherapy using longitudinal diffusion MRI and a deep neural network with generative adversarial network-based data augmentation. The goal of this study was to predict soft tissue sarcoma response to radiotherapy (RT) using longitudinal diffusion-weighted MRI (DWI). A novel deep-learning prediction framework along with generative adversarial network (GAN)-based data augmentation was investigated for the response prediction.</td>\n",
       "    </tr>\n",
       "    <tr>\n",
       "      <th>1000001422</th>\n",
       "      <td>0</td>\n",
       "      <td>[Detection of inferior myocardial infarction based on morphological characteristics]. Early accurate detection of inferior myocardial infarction is an important way to reduce the mortality from inferior myocardial infarction. Regrading the existing problems in the detection of inferior myocardial infarction, complex model structures and redundant features, this paper proposed a novel inferior myocardial infarction detection algorithm. Firstly, based on the clinic pathological information, the peak and area features of QRS and ST-T wavebands as well as the slope feature of ST waveband were extracted from electrocardiogram (ECG) signals leads â…¡, â…¢ and aVF. In addition, according to individual features and the dispersion between them, we applied genetic algorithm to make judgement and then input the feature with larger degree into support vector machine (SVM) to realize the accurate detection of inferior myocardial infarction. The proposed method in this paper was verified by Physikalisch-Technische Bundesanstalt (PTB) diagnostic electrocardio signal database and the accuracy rate was up to 98.33%. Conforming to the clinical diagnosis and the characteristics of specific changes in inferior myocardial infarction ECG signal, the proposed method can effectively make precise detection of inferior myocardial infarction by morphological features, and therefore is suitable to be applied in portable devices development for clinical promotion.</td>\n",
       "    </tr>\n",
       "    <tr>\n",
       "      <th>23166</th>\n",
       "      <td>0</td>\n",
       "      <td>Electrochemical and optical detection and machine learning applied to images of genosensors for diagnosis of prostate cancer with the biomarker PCA3. The development of simple detection methods aimed at widespread screening and testing is crucial for many infections and diseases, including prostate cancer where early diagnosis increases the chances of cure considerably. In this paper, we report on genosensors with different detection principles for a prostate cancer specific DNA sequence (PCA3). The genosensors were made with carbon printed electrodes or quartz coated with layer-by-layer (LbL) films containing gold nanoparticles and chondroitin sulfate and a layer of a complementary DNA sequence (PCA3 probe). The highest sensitivity was reached with electrochemical impedance spectroscopy with the detection limit of 83 pM in solutions of PCA3, while the limits of detection were 2000 pM and 900 pM for cyclic voltammetry and UV-vis spectroscopy, respectively. That detection could be performed with an optical method is encouraging, as one may envisage extending it to colorimetric tests. Since the morphology of sensing units is known to be affected in detection experiments, we applied machine learning algorithms to classify scanning electron microscopy images of the genosensors and managed to distinguish those exposed to PCA3-containing solutions from control measurements with an accuracy of 99.9%. The performance in distinguishing each individual PCA3 concentration in a multiclass task was lower, with an accuracy of 88.3%, which means that further developments in image analysis are required for this innovative approach.</td>\n",
       "    </tr>\n",
       "  </tbody>\n",
       "</table>\n",
       "</div>"
      ],
      "text/plain": [
       "            include  \\\n",
       "141201            0   \n",
       "93073             0   \n",
       "1000000214        0   \n",
       "20173             1   \n",
       "1000000005        1   \n",
       "54304             0   \n",
       "13080             0   \n",
       "1000001175        0   \n",
       "1000001422        0   \n",
       "23166             0   \n",
       "\n",
       "                                                                                                                                                                                                                                                                                                                                                                                                                                                                                                                                                                                                                                                                                                                                                                                                                                                                                                                                                                                                                                                                                                                                                                                                                                                                                                                                                                                                                                                                                                                                                                                                                                                                                                                                                                                                                                                                                                                                                                                                                                                                                                                                                                                                                                                                                                                                   feature  \n",
       "141201      Validation and performance of a machine-learning derived prediction guide for total knee arthroplasty component sizing. INTRODUCTION: Anticipation of patient-specific component sizes prior to total knee arthroplasty (TKA) is essential to avoid excessive cost associated with additional surgical trays and morbidity associated with imperfect sizing. Current methods of size prediction, including templating, are inconsistent and time-consuming. Machine learning (ML) algorithms may allow for accurate TKA component size prediction with the ability to make predictions in real-time. METHODS: Consecutive patients receiving primary TKA between 2012 and 2020 from two large tertiary academic and six community hospitals were identified. The primary outcomes were the final femoral and tibial component sizes extracted from automated inventory systems. Five ML algorithms were trained with routinely corrected demographic variables (age, height, weight, body mass index, and sex) using 80% of the study population and internally validated on an independent set of the remaining 20% of patients. Algorithm performance was evaluated through accuracy, mean absolute error (MAE), and root mean-squared error (RMSE). RESULTS: A total of 17,283 patients that received one of 9 TKA implants from independent manufacturers were included. The SGB model accuracy for predicting +/- 4-mm of the true femoral anteroposterior diameter was 83.6% and for +/- 1 size of the true femoral component size was 95.0%. The SGB model accuracy for predicting +/- 4-mm of the true tibial medial/lateral diameter was 83.0% and for +/- 1 size of the true tibial component size was 97.8%. Patient sex was the most influential feature in terms of informing the SGB model predictions for both femoral and tibial component sizing. A TKA implant sizing application was subsequently created. CONCLUSION: Novel machine learning algorithms demonstrated good to excellent performance for predicting TKA component size. Patient sex appears to contribute an important role in predicting TKA size. A web-based real-time prediction application was created capable of integrating patient specific data to predict TKA size, which will require external validation prior to clinical use.  \n",
       "93073                                                                                                                                                                                                                                                                                                                                                                                                                                                                                                                                                                                                                                                                                                                                                                                                                                                                                                                                                                                                                                                                                                                                       Active learning based segmentation of Crohns disease from abdominal MRI. This paper proposes a novel active learning (AL) framework, and combines it with semi supervised learning (SSL) for segmenting Crohns disease (CD) tissues from abdominal magnetic resonance (MR) images. Robust fully supervised learning (FSL) based classifiers require lots of labeled data of different disease severities. Obtaining such data is time consuming and requires considerable expertise. SSL methods use a few labeled samples, and leverage the information from many unlabeled samples to train an accurate classifier. AL queries labels of most informative samples and maximizes gain from the labeling effort. Our primary contribution is in designing a query strategy that combines novel context information with classification uncertainty and feature similarity. Combining SSL and AL gives a robust segmentation method that: (1) optimally uses few labeled samples and many unlabeled samples; and (2) requires lower training time. Experimental results show our method achieves higher segmentation accuracy than FSL methods with fewer samples and reduced training effort.   \n",
       "1000000214                                                                                                                                                                                                                                                                                                                                                                                                                                                                                                                                                                                                                                                                                                                                                                                                                                                                                                                                                                                                                                                                                                                                                                                                                                                                                                                                                                                                                                                                                                                                         A Geno-Clinical Decision Model for the Diagnosis of Myelodysplastic Syndromes. The differential diagnosis of myeloid malignancies is challenging and subject to inter-observer variability. We used clinical and next-generation sequencing (NGS) data to develop a machine learning model for the diagnosis of myeloid malignancies independent of bone marrow biopsy data based on a three institution, international cohort of patients. The model achieves high performance, with model interpretations indicating that it relies on factors similar to those used by clinicians. Additionally, we describe associations between NGS findings and clinically important phenotypes, and introduce the use of machine learning algorithms to elucidate clinico-genomic relationships.  \n",
       "20173                                                                                                   Fully automated detection and segmentation of intracranial aneurysms in subarachnoid hemorrhage on CTA using deep learning. In aneurysmal subarachnoid hemorrhage (aSAH), accurate diagnosis of aneurysm is essential for subsequent treatment to prevent rebleeding. However, aneurysm detection proves to be challenging and time-consuming. The purpose of this study was to develop and evaluate a deep learning model (DLM) to automatically detect and segment aneurysms in patients with aSAH on computed tomography angiography. In this retrospective single-center study, three different DLMs were trained on 68 patients with 79 aneurysms treated for aSAH (2016-2017) using five-fold-cross-validation. Their outputs were combined to a single DLM via ensemble-learning. The DLM was evaluated on an independent test set consisting of 185 patients with 215 aneurysms (2010-2015). Independent manual segmentations of aneurysms in a 3D voxel-wise manner by two readers (neurosurgeon, radiologist) provided the reference standard. For aneurysmsÃ¢â‚¬â€°>Ã¢â‚¬â€°30 mm<sup>3</sup> (mean diameter ofÃ¢â‚¬â€°~Ã¢â‚¬â€°4Ã‚Â mm) on the test set, the DLM provided a detection sensitivity of 87% with false positives (FPs)/scan of 0.42. Automatic segmentations achieved a median dice similarity coefficient (DSC) of 0.80 compared to the reference standard. Aneurysm location (anterior vs. posterior circulation; PÃ¢â‚¬â€°=Ã¢â‚¬â€°.07) and bleeding severity (Fisher gradeÃ¢â‚¬â€°Ã¢â€°Â¤Ã¢â‚¬â€°3 vs. 4; PÃ¢â‚¬â€°=Ã¢â‚¬â€°.33) did not impede detection sensitivity or segmentation performance. For aneurysmsÃ¢â‚¬â€°>Ã¢â‚¬â€°100 mm<sup>3</sup> (mean diameter ofÃ¢â‚¬â€°~Ã¢â‚¬â€°6Ã‚Â mm), a sensitivity of 96% with DSC of 0.87 and FPs/scan of 0.14 were obtained. In the present study, we demonstrate that the proposed DLM detects and segments aneurysmsÃ¢â‚¬â€°>Ã¢â‚¬â€°30 mm<sup>3</sup> in patients with aSAH with high sensitivity independent of cerebral circulation and bleeding severity while producing FP findings of less than one per scan. Hence, the DLM can potentially assist treating physicians in aSAH by providing automated detection and segmentations of aneurysms.  \n",
       "1000000005                                                                                                                                                                                                                                                                                                                                                                                                                                                                                                                                                                                                                                                                                                                                                                                                                                                                                                                                                                                                                                                                                                                                                                                                                                                                                                                                                                                                                                                                                                                                                                                                                                                                                                                                                                                                                                                                                                                                                                                                                                                                                  In ICU patients, it is difficult to predict wean from ventilation. We demosntrate that a model based on deep learning trained from ventilator parameters is non-inferior compared to predictions made by a team of  intensive care physicians.  \n",
       "54304                                                                                                                                                                                                                                                                                                                                                                                                                                                                                                                                                                                  Machine Learning Classification for Assessing the Degree of Stenosis and Blood Flow Volume at Arteriovenous Fistulas of Hemodialysis Patients Using a New Photoplethysmography Sensor Device. The classifier of support vector machine (SVM) learning for assessing the quality of arteriovenous fistulae (AVFs) in hemodialysis (HD) patients using a new photoplethysmography (PPG) sensor device is presented in this work. In clinical practice, there are two important indices for assessing the quality of AVF: the blood flow volume (BFV) and the degree of stenosis (DOS). In hospitals, the BFV and DOS of AVFs are nowadays assessed using an ultrasound Doppler machine, which is bulky, expensive, hard to use, and time consuming. In this study, a newly-developed PPG sensor device was utilized to provide patients and doctors with an inexpensive and small-sized solution for ubiquitous AVF assessment. The readout in this sensor was custom-designed to increase the signal-to-noise ratio (SNR) and reduce the environment interference via maximizing successfully the full dynamic range of measured PPG entering an analog-digital converter (ADC) and effective filtering techniques. With quality PPG measurements obtained, machine learning classifiers including SVM were adopted to assess AVF quality, where the input features are determined based on optical Beer-Lambert's law and hemodynamic model, to ensure all the necessary features are considered. Finally, the clinical experiment results showed that the proposed PPG sensor device successfully achieved an accuracy of 87.84% based on SVM analysis in assessing DOS at AVF, while an accuracy of 88.61% was achieved for assessing BFV at AVF.  \n",
       "13080                                                                                                                                                                                                                                                                                               Prediction of muscular paralysis disease based on hybrid feature extraction with machine learning technique for COVID-19 and post-COVID-19 patients. Many Coronavirus disease 2019 (COVID-19) and post-COVID-19 patients experience muscle fatigues. Early detection of muscle fatigue and muscular paralysis helps in the diagnosis, prediction, and prevention of COVID-19 and post-COVID-19 patients. Nowadays, the biomedical and clinical domains widely used the electromyography (EMG) signal due to its ability to differentiate various neuromuscular diseases. In general, nerves or muscles and the spinal cord influence numerous neuromuscular disorders. The clinical examination plays a major role in early finding and diagnosis of these diseases; this research study focused on the prediction of muscular paralysis using EMG signals. Machine learning-based diagnosis of the diseases has been widely used due to its efficiency and the hybrid feature extraction (FE) methods with deep learning classifier are used for the muscular paralysis disease prediction. The discrete wavelet transform (DWT) method is applied to decompose the EMG signal and reduce feature degradation. The proposed hybrid FE method consists of Yule-Walker, Burg's method, Renyi entropy, mean absolute value, min-max voltage FE, and other 17 conventional features for prediction of muscular paralysis disease. The hybrid FE method has the advantage of extract the relevant features from the signals and the Relief-F feature selection (FS) method is applied to select the optimal relevant feature for the deep learning classifier. The University of California, Irvine (UCI), EMG-Lower Limb Dataset is used to determine the performance of the proposed classifier. The evaluation shows that the proposed hybrid FE method achieved 88% of precision, while the existing neural network (NN) achieved 65% of precision and the support vector machine (SVM) achieved 35% of precision on whole EMG signal.  \n",
       "1000001175                                                                                                                                                                                                                                                                                                                                                                                                                                                                                                                                                                                                                                                                                                                                                                                                                                                                                                                                                                                                                                                                                                                                                                                                                                                                                                                                                                                                                                                                                                                                                                                                                                                                                                                                                                                                                                    Prediction of soft tissue sarcoma response to radiotherapy using longitudinal diffusion MRI and a deep neural network with generative adversarial network-based data augmentation. The goal of this study was to predict soft tissue sarcoma response to radiotherapy (RT) using longitudinal diffusion-weighted MRI (DWI). A novel deep-learning prediction framework along with generative adversarial network (GAN)-based data augmentation was investigated for the response prediction.  \n",
       "1000001422                                                                                                                                                                                                                                                                                                                                                                                                                                                                                                                                                                                                                                                                                                                                                                                                             [Detection of inferior myocardial infarction based on morphological characteristics]. Early accurate detection of inferior myocardial infarction is an important way to reduce the mortality from inferior myocardial infarction. Regrading the existing problems in the detection of inferior myocardial infarction, complex model structures and redundant features, this paper proposed a novel inferior myocardial infarction detection algorithm. Firstly, based on the clinic pathological information, the peak and area features of QRS and ST-T wavebands as well as the slope feature of ST waveband were extracted from electrocardiogram (ECG) signals leads â…¡, â…¢ and aVF. In addition, according to individual features and the dispersion between them, we applied genetic algorithm to make judgement and then input the feature with larger degree into support vector machine (SVM) to realize the accurate detection of inferior myocardial infarction. The proposed method in this paper was verified by Physikalisch-Technische Bundesanstalt (PTB) diagnostic electrocardio signal database and the accuracy rate was up to 98.33%. Conforming to the clinical diagnosis and the characteristics of specific changes in inferior myocardial infarction ECG signal, the proposed method can effectively make precise detection of inferior myocardial infarction by morphological features, and therefore is suitable to be applied in portable devices development for clinical promotion.  \n",
       "23166                                                                                                                                                                                                                                                                                                                                                                                                                                                                                                                                                                                                                          Electrochemical and optical detection and machine learning applied to images of genosensors for diagnosis of prostate cancer with the biomarker PCA3. The development of simple detection methods aimed at widespread screening and testing is crucial for many infections and diseases, including prostate cancer where early diagnosis increases the chances of cure considerably. In this paper, we report on genosensors with different detection principles for a prostate cancer specific DNA sequence (PCA3). The genosensors were made with carbon printed electrodes or quartz coated with layer-by-layer (LbL) films containing gold nanoparticles and chondroitin sulfate and a layer of a complementary DNA sequence (PCA3 probe). The highest sensitivity was reached with electrochemical impedance spectroscopy with the detection limit of 83 pM in solutions of PCA3, while the limits of detection were 2000 pM and 900 pM for cyclic voltammetry and UV-vis spectroscopy, respectively. That detection could be performed with an optical method is encouraging, as one may envisage extending it to colorimetric tests. Since the morphology of sensing units is known to be affected in detection experiments, we applied machine learning algorithms to classify scanning electron microscopy images of the genosensors and managed to distinguish those exposed to PCA3-containing solutions from control measurements with an accuracy of 99.9%. The performance in distinguishing each individual PCA3 concentration in a multiclass task was lower, with an accuracy of 88.3%, which means that further developments in image analysis are required for this innovative approach.  "
      ]
     },
     "execution_count": 13,
     "metadata": {},
     "output_type": "execute_result"
    }
   ],
   "source": [
    "pd.set_option('display.max_colwidth', None)\n",
    "\n",
    "traindf.head(10)"
   ]
  },
  {
   "cell_type": "markdown",
   "id": "ac6dd023",
   "metadata": {},
   "source": [
    "## Putting dataframes into tensor wrappers\n",
    "\n",
    "https://www.tensorflow.org/guide/data\n",
    "\n",
    "from_tensor_slices creates a tensor wrapper that combines training features with labels"
   ]
  },
  {
   "cell_type": "code",
   "execution_count": 14,
   "id": "7c979686",
   "metadata": {},
   "outputs": [],
   "source": [
    "##TRAINING WRAPPER\n",
    "train_ds = tf.data.Dataset.from_tensor_slices((traindf['feature'].to_numpy().reshape(-1,1),\n",
    "                                               traindf['include'].to_numpy().reshape(-1,1)))"
   ]
  },
  {
   "cell_type": "code",
   "execution_count": 15,
   "id": "0297c15a",
   "metadata": {},
   "outputs": [],
   "source": [
    "##VALIDATION WRAPPER"
   ]
  },
  {
   "cell_type": "code",
   "execution_count": 16,
   "id": "c2d8106a",
   "metadata": {},
   "outputs": [],
   "source": [
    "val_ds = tf.data.Dataset.from_tensor_slices((valdf['feature'].to_numpy().reshape(-1,1),\n",
    "                                             valdf['include'].to_numpy().reshape(-1,1)))"
   ]
  },
  {
   "cell_type": "code",
   "execution_count": 17,
   "id": "71e60ed6",
   "metadata": {},
   "outputs": [],
   "source": [
    "##TEST SET WRAPPER"
   ]
  },
  {
   "cell_type": "code",
   "execution_count": 18,
   "id": "04d07f57",
   "metadata": {},
   "outputs": [],
   "source": [
    "test_ds = tf.data.Dataset.from_tensor_slices((testdf['feature'].to_numpy().reshape(-1,1),\n",
    "                                              testdf['include'].to_numpy().reshape(-1,1)))"
   ]
  },
  {
   "cell_type": "code",
   "execution_count": 19,
   "id": "8c2a1304",
   "metadata": {},
   "outputs": [],
   "source": [
    "##now have three tensor data wrappers - train_ds and val_ds that can be fed into tf pipe, and test_ds for evaluation"
   ]
  },
  {
   "cell_type": "markdown",
   "id": "f0c2c746-58c3-4af7-a0f2-9a6d0396f823",
   "metadata": {},
   "source": [
    "## Batch and optimise datasets"
   ]
  },
  {
   "cell_type": "code",
   "execution_count": 20,
   "id": "f695aeb6-8d01-421c-8145-c69d8021ba8f",
   "metadata": {},
   "outputs": [],
   "source": [
    "AUTOTUNE = tf.data.experimental.AUTOTUNE\n",
    "\n",
    "def configure_for_performance(ds):\n",
    "    ds = ds.cache()\n",
    "    ds = ds.shuffle(buffer_size=1000)\n",
    "    ds = ds.batch(batch_size)\n",
    "    ds = ds.prefetch(buffer_size=AUTOTUNE)\n",
    "    return ds"
   ]
  },
  {
   "cell_type": "code",
   "execution_count": 21,
   "id": "715291c4-dadf-4f48-8099-5cf2a0fd47f5",
   "metadata": {},
   "outputs": [],
   "source": [
    "batch_size = 8\n",
    "\n",
    "train_ds_batched = configure_for_performance(train_ds)\n",
    "val_ds_batched = configure_for_performance(val_ds)\n",
    "test_ds_batched = configure_for_performance(test_ds)"
   ]
  },
  {
   "cell_type": "markdown",
   "id": "3210971b",
   "metadata": {},
   "source": [
    "## Configuring BERT: 1) preprocessing 2) vectorization\n",
    "\n",
    "Code is largely adapted from here (also has links to other BERT libraries): https://www.tensorflow.org/text/tutorials/classify_text_with_bert"
   ]
  },
  {
   "cell_type": "code",
   "execution_count": 22,
   "id": "ea148a4b",
   "metadata": {},
   "outputs": [
    {
     "name": "stderr",
     "output_type": "stream",
     "text": [
      "INFO:absl:Using C:\\Users\\JOEZ~1\\AppData\\Local\\Temp\\tfhub_modules to cache modules.\n"
     ]
    }
   ],
   "source": [
    "# BERT model for vectorization\n",
    "\n",
    "bert_vec_model = 'experts_pubmed'\n",
    "\n",
    "map_name_to_handle = {\n",
    "    'experts_pubmed':\n",
    "        'https://tfhub.dev/google/experts/bert/pubmed/2',\n",
    "}\n",
    "\n",
    "tfhub_handle_encoder = map_name_to_handle[bert_vec_model]\n",
    "\n",
    "bert_model = hub.KerasLayer(tfhub_handle_encoder) #wraps this as a Keras layer"
   ]
  },
  {
   "cell_type": "code",
   "execution_count": 23,
   "id": "491e790f",
   "metadata": {},
   "outputs": [],
   "source": [
    "#BERT model for pre-processing\n",
    "\n",
    "map_model_to_preprocess = {\n",
    "    'experts_pubmed':\n",
    "        'https://tfhub.dev/tensorflow/bert_en_uncased_preprocess/3',\n",
    "}\n",
    "\n",
    "tfhub_handle_preprocess = map_model_to_preprocess[bert_vec_model]\n",
    "\n",
    "bert_preprocess_model = hub.KerasLayer(tfhub_handle_preprocess) #wraps this as a Keras layer"
   ]
  },
  {
   "cell_type": "code",
   "execution_count": 24,
   "id": "844c1475",
   "metadata": {},
   "outputs": [
    {
     "name": "stdout",
     "output_type": "stream",
     "text": [
      "BERT model selected: https://tfhub.dev/google/experts/bert/pubmed/2\n",
      "Pre-process model selected: https://tfhub.dev/tensorflow/bert_en_uncased_preprocess/3\n"
     ]
    }
   ],
   "source": [
    "print(f'BERT model selected: {tfhub_handle_encoder}')\n",
    "print(f'Pre-process model selected: {tfhub_handle_preprocess}')"
   ]
  },
  {
   "cell_type": "code",
   "execution_count": 25,
   "id": "52802f91",
   "metadata": {},
   "outputs": [
    {
     "name": "stdout",
     "output_type": "stream",
     "text": [
      "Keys       : ['input_mask', 'input_word_ids', 'input_type_ids']\n",
      "Shape      : (1, 128)\n",
      "Word Ids   : [  101  2023  7976  4454  2944 16014  2015 22935  3891  2013  9052 11522]\n",
      "Input Mask : [1 1 1 1 1 1 1 1 1 1 1 1]\n",
      "Type Ids   : [0 0 0 0 0 0 0 0 0 0 0 0]\n"
     ]
    }
   ],
   "source": [
    "#check bert_preprocess_model on test text - preprocessing should split tokens into word ids / mask /type\n",
    "\n",
    "text_test = ['This artificial intelligence model predicts cardiovascular risk from echocardiogram images']\n",
    "text_preprocessed = bert_preprocess_model(text_test)\n",
    "\n",
    "print(f'Keys       : {list(text_preprocessed.keys())}')\n",
    "print(f'Shape      : {text_preprocessed[\"input_word_ids\"].shape}')\n",
    "print(f'Word Ids   : {text_preprocessed[\"input_word_ids\"][0, :12]}')\n",
    "print(f'Input Mask : {text_preprocessed[\"input_mask\"][0, :12]}')\n",
    "print(f'Type Ids   : {text_preprocessed[\"input_type_ids\"][0, :12]}')"
   ]
  },
  {
   "cell_type": "code",
   "execution_count": 26,
   "id": "f0b09b7e",
   "metadata": {},
   "outputs": [
    {
     "name": "stdout",
     "output_type": "stream",
     "text": [
      "Loaded BERT: https://tfhub.dev/google/experts/bert/pubmed/2\n",
      "Pooled Outputs Shape:(1, 768)\n",
      "Pooled Outputs Values:[-0.32493797 -0.08269644  0.43817562 -0.00690068 -0.62928677  0.05597171\n",
      "  0.4818498   0.99116695  0.3956298  -0.67973065  0.58589137 -0.84271526]\n",
      "Sequence Outputs Shape:(1, 128, 768)\n",
      "Sequence Outputs Values:[[-0.33714035 -0.08289197  0.46994045 ...  0.90201384  0.09892417\n",
      "   0.4827702 ]\n",
      " [-0.43940446 -0.53751194  0.9816394  ... -0.1439727   0.04650824\n",
      "  -1.0800732 ]\n",
      " [-0.37110242  0.54176795  1.1818852  ...  0.6468271   1.2018124\n",
      "  -0.12319165]\n",
      " ...\n",
      " [-0.26433367  0.506499   -0.15520334 ... -0.1534574  -0.32176602\n",
      "   2.5074317 ]\n",
      " [ 1.027251    1.5112157   0.9053338  ...  0.43650022  0.8284113\n",
      "   0.36862728]\n",
      " [ 1.0718784   1.1523868   0.58389664 ...  0.7688351   0.5206408\n",
      "  -0.4710126 ]]\n"
     ]
    }
   ],
   "source": [
    "#check bert_model is functional for given inputs\n",
    "\n",
    "bert_results = bert_model(text_preprocessed)\n",
    "\n",
    "print(f'Loaded BERT: {tfhub_handle_encoder}')\n",
    "print(f'Pooled Outputs Shape:{bert_results[\"pooled_output\"].shape}')\n",
    "print(f'Pooled Outputs Values:{bert_results[\"pooled_output\"][0, :12]}')\n",
    "print(f'Sequence Outputs Shape:{bert_results[\"sequence_output\"].shape}')\n",
    "print(f'Sequence Outputs Values:{bert_results[\"sequence_output\"][0, :12]}')"
   ]
  },
  {
   "cell_type": "markdown",
   "id": "72a243c5",
   "metadata": {},
   "source": [
    "## Building BERT classifier pipeline\n",
    "\n",
    "This pipeline will: take raw data wrappers -> pre-process and encode with BERT (using Keraslayers defined above) -> classify using simple net"
   ]
  },
  {
   "cell_type": "code",
   "execution_count": 27,
   "id": "4c5d5e92",
   "metadata": {},
   "outputs": [],
   "source": [
    "def build_classifier_model(seq_length=512):\n",
    "\n",
    "    # Define input layer\n",
    "    text_input = tf.keras.layers.Input(shape=(), dtype=tf.string, name=\"text_input\")\n",
    "    \n",
    "    # Load the pretrained preprocessor\n",
    "    bert_preprocessor = hub.load(tfhub_handle_preprocess)\n",
    "    \n",
    "    # Tokenize the input text\n",
    "    tokenizer = hub.KerasLayer(bert_preprocessor.tokenize, name='tokenizer')\n",
    "    tokenized_inputs = [tokenizer(text_input)]\n",
    "\n",
    "    # Pack the tokenized input for the encoder\n",
    "    bert_pack_inputs = hub.KerasLayer(bert_preprocessor.bert_pack_inputs,\n",
    "                                      arguments=dict(seq_length=seq_length), name='packer')\n",
    "    \n",
    "    encoder_inputs = bert_pack_inputs(tokenized_inputs)\n",
    "    \n",
    "    #BERT encoding layer\n",
    "    encoder = hub.KerasLayer(tfhub_handle_encoder, trainable=True, name='BERT_encoder')\n",
    "    outputs = encoder(encoder_inputs)\n",
    "    \n",
    "    #Output layers\n",
    "    net = outputs['pooled_output']\n",
    "    net = tf.keras.layers.Dropout(0.1)(net)\n",
    "    net = tf.keras.layers.Dense(1, activation=None, name='classifier')(net)\n",
    "    \n",
    "    return tf.keras.Model(text_input, net)"
   ]
  },
  {
   "cell_type": "code",
   "execution_count": 29,
   "id": "5be1ea92",
   "metadata": {},
   "outputs": [
    {
     "name": "stdout",
     "output_type": "stream",
     "text": [
      "Model: \"model\"\n",
      "__________________________________________________________________________________________________\n",
      "Layer (type)                    Output Shape         Param #     Connected to                     \n",
      "==================================================================================================\n",
      "text_input (InputLayer)         [(None,)]            0                                            \n",
      "__________________________________________________________________________________________________\n",
      "tokenizer (KerasLayer)          (None, None, None)   0           text_input[0][0]                 \n",
      "__________________________________________________________________________________________________\n",
      "packer (KerasLayer)             {'input_mask': (None 0           tokenizer[0][0]                  \n",
      "__________________________________________________________________________________________________\n",
      "BERT_encoder (KerasLayer)       {'sequence_output':  109482241   packer[0][0]                     \n",
      "                                                                 packer[0][1]                     \n",
      "                                                                 packer[0][2]                     \n",
      "__________________________________________________________________________________________________\n",
      "dropout (Dropout)               (None, 768)          0           BERT_encoder[0][13]              \n",
      "__________________________________________________________________________________________________\n",
      "classifier (Dense)              (None, 1)            769         dropout[0][0]                    \n",
      "==================================================================================================\n",
      "Total params: 109,483,010\n",
      "Trainable params: 109,483,009\n",
      "Non-trainable params: 1\n",
      "__________________________________________________________________________________________________\n"
     ]
    }
   ],
   "source": [
    "classifier_model = build_classifier_model()\n",
    "\n",
    "classifier_model.summary()"
   ]
  },
  {
   "cell_type": "code",
   "execution_count": 30,
   "id": "94ccc5d7",
   "metadata": {},
   "outputs": [
    {
     "name": "stderr",
     "output_type": "stream",
     "text": [
      "INFO:absl:using Adamw optimizer\n",
      "INFO:absl:gradient_clip_norm=1.000000\n"
     ]
    },
    {
     "name": "stdout",
     "output_type": "stream",
     "text": [
      "422\n",
      "1266\n",
      "126\n"
     ]
    }
   ],
   "source": [
    "#loss\n",
    "loss = tf.keras.losses.BinaryCrossentropy(from_logits=True)\n",
    "\n",
    "#metrics\n",
    "metrics = ['BinaryAccuracy']\n",
    "\n",
    "#metrics = tf.keras.metrics.BinaryAccuracy(name=\"binary_accuracy\", dtype=None, threshold=0.5)\n",
    "\n",
    "#epochs\n",
    "epochs = 3\n",
    "\n",
    "#optimization\n",
    "steps_per_epoch = tf.data.experimental.cardinality(train_ds_batched).numpy()\n",
    "print(steps_per_epoch)\n",
    "num_train_steps = steps_per_epoch * epochs\n",
    "print(num_train_steps)\n",
    "num_warmup_steps = int(0.1*num_train_steps)\n",
    "print(num_warmup_steps)\n",
    "init_lr = 1e-5\n",
    "\n",
    "optimizer = optimization.create_optimizer(init_lr=init_lr,\n",
    "                                          num_train_steps=num_train_steps,\n",
    "                                          num_warmup_steps=num_warmup_steps,\n",
    "                                          optimizer_type='adamw')\n",
    "\n",
    "\n",
    "# models.optimization dependent on tf-official-models, which depends on pycococo which does not install on windows without workaround:\n",
    "# https://github.com/philferriere/cocoapi\n",
    "# 1) upgrade visual basic to 2019 and install C++ tools in that library\n",
    "# 2) install pycococo using direct from git installation in the github link (may need git library first)\n",
    "# 3) then install tf-official-models using pip\n",
    "\n",
    "##alternative optimizer\n",
    "#optimizer = tf.keras.optimizers.Adam(learning_rate=0.001, beta_1=0.9, beta_2=0.999, epsilon=1e-07, amsgrad=False,\n",
    "#                                        name='Adam'\n",
    "#                                        )"
   ]
  },
  {
   "cell_type": "code",
   "execution_count": 31,
   "id": "55f95b05",
   "metadata": {},
   "outputs": [],
   "source": [
    "classifier_model.compile(optimizer=optimizer,\n",
    "                         loss=loss,\n",
    "                         metrics=metrics)"
   ]
  },
  {
   "cell_type": "markdown",
   "id": "64560f20",
   "metadata": {},
   "source": [
    "## Fit classifier model"
   ]
  },
  {
   "cell_type": "code",
   "execution_count": 32,
   "id": "f5e6995b",
   "metadata": {},
   "outputs": [
    {
     "name": "stdout",
     "output_type": "stream",
     "text": [
      "Training model with https://tfhub.dev/google/experts/bert/pubmed/2\n",
      "Epoch 1/3\n",
      "422/422 [==============================] - 143s 309ms/step - loss: 0.2697 - binary_accuracy: 0.9091 - val_loss: 0.1863 - val_binary_accuracy: 0.9492\n",
      "Epoch 2/3\n",
      "422/422 [==============================] - 130s 307ms/step - loss: 0.1002 - binary_accuracy: 0.9707 - val_loss: 0.1974 - val_binary_accuracy: 0.9609\n",
      "Epoch 3/3\n",
      "422/422 [==============================] - 131s 310ms/step - loss: 0.0601 - binary_accuracy: 0.9840 - val_loss: 0.2140 - val_binary_accuracy: 0.9609\n"
     ]
    }
   ],
   "source": [
    "print(f'Training model with {tfhub_handle_encoder}')\n",
    "history = classifier_model.fit(x=train_ds_batched,\n",
    "                               validation_data=val_ds_batched,\n",
    "                               epochs=epochs\n",
    "                               )"
   ]
  },
  {
   "cell_type": "code",
   "execution_count": 33,
   "id": "a02c8de2",
   "metadata": {
    "scrolled": false
   },
   "outputs": [
    {
     "name": "stdout",
     "output_type": "stream",
     "text": [
      "dict_keys(['loss', 'binary_accuracy', 'val_loss', 'val_binary_accuracy'])\n"
     ]
    },
    {
     "data": {
      "text/plain": [
       "<matplotlib.legend.Legend at 0x1823ec4db50>"
      ]
     },
     "execution_count": 33,
     "metadata": {},
     "output_type": "execute_result"
    },
    {
     "data": {
      "image/png": "[encoded data removed]",
      "text/plain": [
       "<Figure size 720x432 with 2 Axes>"
      ]
     },
     "metadata": {
      "needs_background": "light"
     },
     "output_type": "display_data"
    }
   ],
   "source": [
    "history_dict = history.history\n",
    "print(history_dict.keys())\n",
    "\n",
    "acc = history_dict['binary_accuracy']\n",
    "val_acc = history_dict['val_binary_accuracy']\n",
    "loss = history_dict['loss']\n",
    "val_loss = history_dict['val_loss']\n",
    "\n",
    "epochs = range(1, len(acc) + 1)\n",
    "fig = plt.figure(figsize=(10, 6))\n",
    "fig.tight_layout()\n",
    "\n",
    "plt.subplot(2, 1, 1)\n",
    "# \"bo\" is for \"blue dot\"\n",
    "plt.plot(epochs, loss, 'r', label='Training loss')\n",
    "# b is for \"solid blue line\"\n",
    "plt.plot(epochs, val_loss, 'b', label='Validation loss')\n",
    "plt.title('Training and validation loss')\n",
    "# plt.xlabel('Epochs')\n",
    "plt.ylabel('Loss')\n",
    "plt.legend()\n",
    "\n",
    "plt.subplot(2, 1, 2)\n",
    "plt.plot(epochs, acc, 'r', label='Training acc')\n",
    "plt.plot(epochs, val_acc, 'b', label='Validation acc')\n",
    "plt.title('Training and validation accuracy')\n",
    "plt.xlabel('Epochs')\n",
    "plt.ylabel('Accuracy')\n",
    "plt.legend(loc='lower right')"
   ]
  },
  {
   "cell_type": "code",
   "execution_count": 34,
   "id": "6df4710f",
   "metadata": {},
   "outputs": [
    {
     "name": "stdout",
     "output_type": "stream",
     "text": [
      "376/376 [==============================] - 11s 28ms/step - loss: 0.1416 - binary_accuracy: 0.9654\n",
      "Loss: 0.14158135652542114\n",
      "Accuracy: 0.9654255509376526\n"
     ]
    }
   ],
   "source": [
    "##re-test on test_ds\n",
    "\n",
    "loss, accuracy = classifier_model.evaluate(test_ds)\n",
    "\n",
    "print(f'Loss: {loss}')\n",
    "print(f'Accuracy: {accuracy}')"
   ]
  },
  {
   "cell_type": "code",
   "execution_count": 36,
   "id": "acc66591-4490-4b6a-bdd7-f30057f50bdf",
   "metadata": {},
   "outputs": [],
   "source": [
    "y_pred = classifier_model.predict(testdf['feature'])\n",
    "y_pred = y_pred.reshape(376)\n",
    "y_pred = np.asarray(tf.round(tf.nn.sigmoid(y_pred)))"
   ]
  },
  {
   "cell_type": "code",
   "execution_count": 37,
   "id": "1f3c603d-254f-4121-bd73-a6e8b4a5f267",
   "metadata": {},
   "outputs": [],
   "source": [
    "from sklearn.metrics import classification_report, confusion_matrix, ConfusionMatrixDisplay"
   ]
  },
  {
   "cell_type": "code",
   "execution_count": 38,
   "id": "9bf9f363-e210-43ba-8d3b-761f214856d0",
   "metadata": {},
   "outputs": [
    {
     "name": "stdout",
     "output_type": "stream",
     "text": [
      "              precision    recall  f1-score   support\n",
      "\n",
      "           0       0.98      0.98      0.98       332\n",
      "           1       0.83      0.89      0.86        44\n",
      "\n",
      "    accuracy                           0.97       376\n",
      "   macro avg       0.91      0.93      0.92       376\n",
      "weighted avg       0.97      0.97      0.97       376\n",
      "\n"
     ]
    }
   ],
   "source": [
    "print(classification_report(testdf['include'], y_pred))"
   ]
  },
  {
   "cell_type": "code",
   "execution_count": 39,
   "id": "9c6df07c-15bc-4d67-92a3-d1b0e47b13fa",
   "metadata": {},
   "outputs": [
    {
     "data": {
      "text/plain": [
       "<sklearn.metrics._plot.confusion_matrix.ConfusionMatrixDisplay at 0x18200efb790>"
      ]
     },
     "execution_count": 39,
     "metadata": {},
     "output_type": "execute_result"
    },
    {
     "data": {
      "image/png": "[encoded data removed]",
      "text/plain": [
       "<Figure size 432x288 with 2 Axes>"
      ]
     },
     "metadata": {
      "needs_background": "light"
     },
     "output_type": "display_data"
    }
   ],
   "source": [
    "cm = ConfusionMatrixDisplay(confusion_matrix(testdf['include'], y_pred))\n",
    "\n",
    "cm.plot()"
   ]
  },
  {
   "cell_type": "code",
   "execution_count": 40,
   "id": "8651328d-4910-403e-87da-d7bdb5738719",
   "metadata": {},
   "outputs": [
    {
     "name": "stderr",
     "output_type": "stream",
     "text": [
      "C:\\Users\\Joe Z\\anaconda3\\envs\\tensorflow\\lib\\site-packages\\pandas\\core\\frame.py:3607: SettingWithCopyWarning: \n",
      "A value is trying to be set on a copy of a slice from a DataFrame.\n",
      "Try using .loc[row_indexer,col_indexer] = value instead\n",
      "\n",
      "See the caveats in the documentation: https://pandas.pydata.org/pandas-docs/stable/user_guide/indexing.html#returning-a-view-versus-a-copy\n",
      "  self._set_item(key, value)\n"
     ]
    }
   ],
   "source": [
    "testdf.loc[:,'predicted'] = np.asarray(y_pred)"
   ]
  },
  {
   "cell_type": "code",
   "execution_count": 41,
   "id": "8f6668f0-9ee2-4c8f-9d2b-baa825b4cfd3",
   "metadata": {},
   "outputs": [
    {
     "data": {
      "text/plain": [
       "(376,)"
      ]
     },
     "execution_count": 41,
     "metadata": {},
     "output_type": "execute_result"
    }
   ],
   "source": [
    "np.asarray(y_pred).shape"
   ]
  },
  {
   "cell_type": "code",
   "execution_count": 42,
   "id": "924c0ae5-2c79-492f-9b44-55b244798721",
   "metadata": {},
   "outputs": [],
   "source": [
    "misclassified = testdf[testdf.include != testdf.predicted]\n",
    "misclassified.to_csv('bert_misclassified_maturity.csv')"
   ]
  },
  {
   "cell_type": "code",
   "execution_count": null,
   "id": "db0b5e45",
   "metadata": {},
   "outputs": [],
   "source": [
    "import finish_early as now"
   ]
  },
  {
   "cell_type": "markdown",
   "id": "d488f8ca",
   "metadata": {},
   "source": [
    "## Save model"
   ]
  },
  {
   "cell_type": "code",
   "execution_count": null,
   "id": "0231517b",
   "metadata": {},
   "outputs": [],
   "source": [
    "#EXPORT MODEL\n",
    "\n",
    "saved_model_path = 'models/maturity_bert'\n",
    "\n",
    "classifier_model.save(saved_model_path, include_optimizer=False)"
   ]
  },
  {
   "cell_type": "code",
   "execution_count": null,
   "id": "801474d5",
   "metadata": {},
   "outputs": [],
   "source": []
  }
 ],
 "metadata": {
  "kernelspec": {
   "display_name": "Python 3 (ipykernel)",
   "language": "python",
   "name": "python3"
  },
  "language_info": {
   "codemirror_mode": {
    "name": "ipython",
    "version": 3
   },
   "file_extension": ".py",
   "mimetype": "text/x-python",
   "name": "python",
   "nbconvert_exporter": "python",
   "pygments_lexer": "ipython3",
   "version": "3.9.5"
  }
 },
 "nbformat": 4,
 "nbformat_minor": 5
}
